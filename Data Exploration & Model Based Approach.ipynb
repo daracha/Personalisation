{
 "cells": [
  {
   "cell_type": "markdown",
   "metadata": {},
   "source": [
    "# Movie recommendation using MovieLens data"
   ]
  },
  {
   "cell_type": "markdown",
   "metadata": {},
   "source": [
    "Importing required packages"
   ]
  },
  {
   "cell_type": "code",
   "execution_count": 144,
   "metadata": {
    "collapsed": false
   },
   "outputs": [],
   "source": [
    "import pandas as pd\n",
    "import graphlab\n",
    "from sklearn.model_selection  import train_test_split,KFold,cross_val_predict\n",
    "from matplotlib import pyplot as plt\n",
    "import numpy as np\n",
    "import nltk"
   ]
  },
  {
   "cell_type": "markdown",
   "metadata": {},
   "source": [
    "## Data exploration"
   ]
  },
  {
   "cell_type": "markdown",
   "metadata": {},
   "source": [
    "Importing datasets from csv file"
   ]
  },
  {
   "cell_type": "code",
   "execution_count": 74,
   "metadata": {
    "collapsed": true
   },
   "outputs": [],
   "source": [
    "links = pd.read_csv(\"links.csv\")\n",
    "movies = pd.read_csv(\"movies.csv\")\n",
    "ratings = pd.read_csv(\"ratings.csv\")\n",
    "tags = pd.read_csv(\"tags.csv\")"
   ]
  },
  {
   "cell_type": "markdown",
   "metadata": {},
   "source": [
    "Exploring Links dataset"
   ]
  },
  {
   "cell_type": "code",
   "execution_count": 75,
   "metadata": {
    "collapsed": false
   },
   "outputs": [
    {
     "data": {
      "text/html": [
       "<div>\n",
       "<table border=\"1\" class=\"dataframe\">\n",
       "  <thead>\n",
       "    <tr style=\"text-align: right;\">\n",
       "      <th></th>\n",
       "      <th>movieId</th>\n",
       "      <th>imdbId</th>\n",
       "      <th>tmdbId</th>\n",
       "    </tr>\n",
       "  </thead>\n",
       "  <tbody>\n",
       "    <tr>\n",
       "      <th>0</th>\n",
       "      <td>1</td>\n",
       "      <td>114709</td>\n",
       "      <td>862.0</td>\n",
       "    </tr>\n",
       "    <tr>\n",
       "      <th>1</th>\n",
       "      <td>2</td>\n",
       "      <td>113497</td>\n",
       "      <td>8844.0</td>\n",
       "    </tr>\n",
       "    <tr>\n",
       "      <th>2</th>\n",
       "      <td>3</td>\n",
       "      <td>113228</td>\n",
       "      <td>15602.0</td>\n",
       "    </tr>\n",
       "    <tr>\n",
       "      <th>3</th>\n",
       "      <td>4</td>\n",
       "      <td>114885</td>\n",
       "      <td>31357.0</td>\n",
       "    </tr>\n",
       "    <tr>\n",
       "      <th>4</th>\n",
       "      <td>5</td>\n",
       "      <td>113041</td>\n",
       "      <td>11862.0</td>\n",
       "    </tr>\n",
       "  </tbody>\n",
       "</table>\n",
       "</div>"
      ],
      "text/plain": [
       "   movieId  imdbId   tmdbId\n",
       "0        1  114709    862.0\n",
       "1        2  113497   8844.0\n",
       "2        3  113228  15602.0\n",
       "3        4  114885  31357.0\n",
       "4        5  113041  11862.0"
      ]
     },
     "execution_count": 75,
     "metadata": {},
     "output_type": "execute_result"
    }
   ],
   "source": [
    "#checking the head of the links dataset (at movie ID level)\n",
    "links.head()"
   ]
  },
  {
   "cell_type": "code",
   "execution_count": 76,
   "metadata": {
    "collapsed": false
   },
   "outputs": [
    {
     "name": "stdout",
     "output_type": "stream",
     "text": [
      "Shape of links dataset = (9125, 3)\n"
     ]
    }
   ],
   "source": [
    "#checking the shape of the links dataset\n",
    "links_shape = links.shape\n",
    "print(\"Shape of links dataset = {}\".format(links_shape))"
   ]
  },
  {
   "cell_type": "code",
   "execution_count": 77,
   "metadata": {
    "collapsed": false
   },
   "outputs": [
    {
     "name": "stdout",
     "output_type": "stream",
     "text": [
      "No of unique movieIds in links dataset = 9125\n"
     ]
    }
   ],
   "source": [
    "#number of unique movie Ids in the links dataset\n",
    "uni_movieIds_links = links[\"movieId\"].nunique()\n",
    "print(\"No of unique movieIds in links dataset = {}\".format(uni_movieIds_links))"
   ]
  },
  {
   "cell_type": "code",
   "execution_count": 78,
   "metadata": {
    "collapsed": false
   },
   "outputs": [
    {
     "data": {
      "text/plain": [
       "movieId    False\n",
       "imdbId     False\n",
       "tmdbId      True\n",
       "dtype: bool"
      ]
     },
     "execution_count": 78,
     "metadata": {},
     "output_type": "execute_result"
    }
   ],
   "source": [
    "#checking if a column has null values \n",
    "links.isnull().any()"
   ]
  },
  {
   "cell_type": "code",
   "execution_count": 79,
   "metadata": {
    "collapsed": false
   },
   "outputs": [
    {
     "data": {
      "text/html": [
       "<div>\n",
       "<table border=\"1\" class=\"dataframe\">\n",
       "  <thead>\n",
       "    <tr style=\"text-align: right;\">\n",
       "      <th></th>\n",
       "      <th>movieId</th>\n",
       "      <th>imdbId</th>\n",
       "      <th>tmdbId</th>\n",
       "    </tr>\n",
       "  </thead>\n",
       "  <tbody>\n",
       "    <tr>\n",
       "      <th>607</th>\n",
       "      <td>720</td>\n",
       "      <td>118114</td>\n",
       "      <td>NaN</td>\n",
       "    </tr>\n",
       "    <tr>\n",
       "      <th>608</th>\n",
       "      <td>721</td>\n",
       "      <td>114103</td>\n",
       "      <td>NaN</td>\n",
       "    </tr>\n",
       "    <tr>\n",
       "      <th>640</th>\n",
       "      <td>769</td>\n",
       "      <td>116992</td>\n",
       "      <td>NaN</td>\n",
       "    </tr>\n",
       "    <tr>\n",
       "      <th>910</th>\n",
       "      <td>1133</td>\n",
       "      <td>111357</td>\n",
       "      <td>NaN</td>\n",
       "    </tr>\n",
       "    <tr>\n",
       "      <th>2282</th>\n",
       "      <td>2851</td>\n",
       "      <td>81454</td>\n",
       "      <td>NaN</td>\n",
       "    </tr>\n",
       "  </tbody>\n",
       "</table>\n",
       "</div>"
      ],
      "text/plain": [
       "      movieId  imdbId  tmdbId\n",
       "607       720  118114     NaN\n",
       "608       721  114103     NaN\n",
       "640       769  116992     NaN\n",
       "910      1133  111357     NaN\n",
       "2282     2851   81454     NaN"
      ]
     },
     "execution_count": 79,
     "metadata": {},
     "output_type": "execute_result"
    }
   ],
   "source": [
    "#looking at rows with missing tmdbid\n",
    "links[links[\"tmdbId\"].isnull()].head()"
   ]
  },
  {
   "cell_type": "code",
   "execution_count": 80,
   "metadata": {
    "collapsed": false
   },
   "outputs": [
    {
     "name": "stdout",
     "output_type": "stream",
     "text": [
      "13 movies have missing tmdbId\n"
     ]
    }
   ],
   "source": [
    "#number of movies from which tmdbid is missing (13)\n",
    "missing_tmdbId = links.loc[links[\"tmdbId\"].isnull(), \"movieId\"].nunique()\n",
    "print(\"{} movies have missing tmdbId\".format(missing_tmdbId))"
   ]
  },
  {
   "cell_type": "code",
   "execution_count": 81,
   "metadata": {
    "collapsed": true
   },
   "outputs": [],
   "source": [
    "#Replacing the missing TmdbId with Zero\n",
    "links.loc[(links.tmdbId.isnull()) , \"tmdbId\"] = 0"
   ]
  },
  {
   "cell_type": "markdown",
   "metadata": {},
   "source": [
    "Exploring Movies Dataset"
   ]
  },
  {
   "cell_type": "code",
   "execution_count": 82,
   "metadata": {
    "collapsed": false
   },
   "outputs": [
    {
     "data": {
      "text/html": [
       "<div>\n",
       "<table border=\"1\" class=\"dataframe\">\n",
       "  <thead>\n",
       "    <tr style=\"text-align: right;\">\n",
       "      <th></th>\n",
       "      <th>movieId</th>\n",
       "      <th>title</th>\n",
       "      <th>genres</th>\n",
       "    </tr>\n",
       "  </thead>\n",
       "  <tbody>\n",
       "    <tr>\n",
       "      <th>0</th>\n",
       "      <td>1</td>\n",
       "      <td>Toy Story (1995)</td>\n",
       "      <td>Adventure|Animation|Children|Comedy|Fantasy</td>\n",
       "    </tr>\n",
       "    <tr>\n",
       "      <th>1</th>\n",
       "      <td>2</td>\n",
       "      <td>Jumanji (1995)</td>\n",
       "      <td>Adventure|Children|Fantasy</td>\n",
       "    </tr>\n",
       "    <tr>\n",
       "      <th>2</th>\n",
       "      <td>3</td>\n",
       "      <td>Grumpier Old Men (1995)</td>\n",
       "      <td>Comedy|Romance</td>\n",
       "    </tr>\n",
       "    <tr>\n",
       "      <th>3</th>\n",
       "      <td>4</td>\n",
       "      <td>Waiting to Exhale (1995)</td>\n",
       "      <td>Comedy|Drama|Romance</td>\n",
       "    </tr>\n",
       "    <tr>\n",
       "      <th>4</th>\n",
       "      <td>5</td>\n",
       "      <td>Father of the Bride Part II (1995)</td>\n",
       "      <td>Comedy</td>\n",
       "    </tr>\n",
       "  </tbody>\n",
       "</table>\n",
       "</div>"
      ],
      "text/plain": [
       "   movieId                               title  \\\n",
       "0        1                    Toy Story (1995)   \n",
       "1        2                      Jumanji (1995)   \n",
       "2        3             Grumpier Old Men (1995)   \n",
       "3        4            Waiting to Exhale (1995)   \n",
       "4        5  Father of the Bride Part II (1995)   \n",
       "\n",
       "                                        genres  \n",
       "0  Adventure|Animation|Children|Comedy|Fantasy  \n",
       "1                   Adventure|Children|Fantasy  \n",
       "2                               Comedy|Romance  \n",
       "3                         Comedy|Drama|Romance  \n",
       "4                                       Comedy  "
      ]
     },
     "execution_count": 82,
     "metadata": {},
     "output_type": "execute_result"
    }
   ],
   "source": [
    "#checking the head of the movies dataset (at movie ID level)\n",
    "movies.head()"
   ]
  },
  {
   "cell_type": "code",
   "execution_count": 83,
   "metadata": {
    "collapsed": false
   },
   "outputs": [
    {
     "name": "stdout",
     "output_type": "stream",
     "text": [
      "Shape of movies dataset = (9125, 3)\n"
     ]
    }
   ],
   "source": [
    "#checking the shape of the movies dataset\n",
    "movies_shape = movies.shape\n",
    "print(\"Shape of movies dataset = {}\".format(movies_shape))"
   ]
  },
  {
   "cell_type": "code",
   "execution_count": 84,
   "metadata": {
    "collapsed": false
   },
   "outputs": [
    {
     "name": "stdout",
     "output_type": "stream",
     "text": [
      "No of unique movies in movies dataset = 9125\n"
     ]
    }
   ],
   "source": [
    "#Data is unique at movie Id level\n",
    "no_movies = movies[\"movieId\"].nunique()\n",
    "print(\"No of unique movies in movies dataset = {}\".format(no_movies))"
   ]
  },
  {
   "cell_type": "code",
   "execution_count": 85,
   "metadata": {
    "collapsed": false
   },
   "outputs": [
    {
     "data": {
      "text/plain": [
       "movieId    False\n",
       "title      False\n",
       "genres     False\n",
       "dtype: bool"
      ]
     },
     "execution_count": 85,
     "metadata": {},
     "output_type": "execute_result"
    }
   ],
   "source": [
    "#checking for mising values \n",
    "movies.isnull().any()"
   ]
  },
  {
   "cell_type": "code",
   "execution_count": 86,
   "metadata": {
    "collapsed": false
   },
   "outputs": [
    {
     "name": "stdout",
     "output_type": "stream",
     "text": [
      "18 movies dont have genres listed\n"
     ]
    }
   ],
   "source": [
    "#checking if the genres have not been listed\n",
    "no_genre = movies.loc[movies.genres == \"(no genres listed)\"].movieId.count()\n",
    "print(\"{} movies dont have genres listed\".format(no_genre) )"
   ]
  },
  {
   "cell_type": "code",
   "execution_count": 87,
   "metadata": {
    "collapsed": true
   },
   "outputs": [],
   "source": [
    "#creating a new dataset with genres split into different columns\n",
    "movies2 = pd.DataFrame(movies.genres.str.split('|').tolist(), columns = [\"genres1\",\"genres2\",\"genres3\",\"genres4\",\"genres5\",\"genres6\",\"genres7\",\"genres8\",\"genres9\",\"genres10\"])"
   ]
  },
  {
   "cell_type": "code",
   "execution_count": 88,
   "metadata": {
    "collapsed": false
   },
   "outputs": [
    {
     "data": {
      "text/html": [
       "<div>\n",
       "<table border=\"1\" class=\"dataframe\">\n",
       "  <thead>\n",
       "    <tr style=\"text-align: right;\">\n",
       "      <th></th>\n",
       "      <th>movieId</th>\n",
       "      <th>title</th>\n",
       "      <th>genres</th>\n",
       "      <th>genres1</th>\n",
       "      <th>genres2</th>\n",
       "      <th>genres3</th>\n",
       "      <th>genres4</th>\n",
       "      <th>genres5</th>\n",
       "      <th>genres6</th>\n",
       "      <th>genres7</th>\n",
       "      <th>genres8</th>\n",
       "      <th>genres9</th>\n",
       "      <th>genres10</th>\n",
       "    </tr>\n",
       "  </thead>\n",
       "  <tbody>\n",
       "    <tr>\n",
       "      <th>0</th>\n",
       "      <td>1</td>\n",
       "      <td>Toy Story (1995)</td>\n",
       "      <td>Adventure|Animation|Children|Comedy|Fantasy</td>\n",
       "      <td>Adventure</td>\n",
       "      <td>Animation</td>\n",
       "      <td>Children</td>\n",
       "      <td>Comedy</td>\n",
       "      <td>Fantasy</td>\n",
       "      <td>None</td>\n",
       "      <td>None</td>\n",
       "      <td>None</td>\n",
       "      <td>None</td>\n",
       "      <td>None</td>\n",
       "    </tr>\n",
       "    <tr>\n",
       "      <th>1</th>\n",
       "      <td>2</td>\n",
       "      <td>Jumanji (1995)</td>\n",
       "      <td>Adventure|Children|Fantasy</td>\n",
       "      <td>Adventure</td>\n",
       "      <td>Children</td>\n",
       "      <td>Fantasy</td>\n",
       "      <td>None</td>\n",
       "      <td>None</td>\n",
       "      <td>None</td>\n",
       "      <td>None</td>\n",
       "      <td>None</td>\n",
       "      <td>None</td>\n",
       "      <td>None</td>\n",
       "    </tr>\n",
       "    <tr>\n",
       "      <th>2</th>\n",
       "      <td>3</td>\n",
       "      <td>Grumpier Old Men (1995)</td>\n",
       "      <td>Comedy|Romance</td>\n",
       "      <td>Comedy</td>\n",
       "      <td>Romance</td>\n",
       "      <td>None</td>\n",
       "      <td>None</td>\n",
       "      <td>None</td>\n",
       "      <td>None</td>\n",
       "      <td>None</td>\n",
       "      <td>None</td>\n",
       "      <td>None</td>\n",
       "      <td>None</td>\n",
       "    </tr>\n",
       "    <tr>\n",
       "      <th>3</th>\n",
       "      <td>4</td>\n",
       "      <td>Waiting to Exhale (1995)</td>\n",
       "      <td>Comedy|Drama|Romance</td>\n",
       "      <td>Comedy</td>\n",
       "      <td>Drama</td>\n",
       "      <td>Romance</td>\n",
       "      <td>None</td>\n",
       "      <td>None</td>\n",
       "      <td>None</td>\n",
       "      <td>None</td>\n",
       "      <td>None</td>\n",
       "      <td>None</td>\n",
       "      <td>None</td>\n",
       "    </tr>\n",
       "    <tr>\n",
       "      <th>4</th>\n",
       "      <td>5</td>\n",
       "      <td>Father of the Bride Part II (1995)</td>\n",
       "      <td>Comedy</td>\n",
       "      <td>Comedy</td>\n",
       "      <td>None</td>\n",
       "      <td>None</td>\n",
       "      <td>None</td>\n",
       "      <td>None</td>\n",
       "      <td>None</td>\n",
       "      <td>None</td>\n",
       "      <td>None</td>\n",
       "      <td>None</td>\n",
       "      <td>None</td>\n",
       "    </tr>\n",
       "  </tbody>\n",
       "</table>\n",
       "</div>"
      ],
      "text/plain": [
       "   movieId                               title  \\\n",
       "0        1                    Toy Story (1995)   \n",
       "1        2                      Jumanji (1995)   \n",
       "2        3             Grumpier Old Men (1995)   \n",
       "3        4            Waiting to Exhale (1995)   \n",
       "4        5  Father of the Bride Part II (1995)   \n",
       "\n",
       "                                        genres    genres1    genres2  \\\n",
       "0  Adventure|Animation|Children|Comedy|Fantasy  Adventure  Animation   \n",
       "1                   Adventure|Children|Fantasy  Adventure   Children   \n",
       "2                               Comedy|Romance     Comedy    Romance   \n",
       "3                         Comedy|Drama|Romance     Comedy      Drama   \n",
       "4                                       Comedy     Comedy       None   \n",
       "\n",
       "    genres3 genres4  genres5 genres6 genres7 genres8 genres9 genres10  \n",
       "0  Children  Comedy  Fantasy    None    None    None    None     None  \n",
       "1   Fantasy    None     None    None    None    None    None     None  \n",
       "2      None    None     None    None    None    None    None     None  \n",
       "3   Romance    None     None    None    None    None    None     None  \n",
       "4      None    None     None    None    None    None    None     None  "
      ]
     },
     "execution_count": 88,
     "metadata": {},
     "output_type": "execute_result"
    }
   ],
   "source": [
    "#concatenating the two datasets to create the final movies dataset\n",
    "movies_new = pd.concat([movies,movies2],axis = 1)\n",
    "movies_new.head()"
   ]
  },
  {
   "cell_type": "code",
   "execution_count": 89,
   "metadata": {
    "collapsed": false
   },
   "outputs": [
    {
     "data": {
      "text/html": [
       "<div>\n",
       "<table border=\"1\" class=\"dataframe\">\n",
       "  <thead>\n",
       "    <tr style=\"text-align: right;\">\n",
       "      <th></th>\n",
       "      <th>movieId</th>\n",
       "      <th>title</th>\n",
       "      <th>genres</th>\n",
       "      <th>genres1</th>\n",
       "      <th>genres2</th>\n",
       "      <th>genres3</th>\n",
       "      <th>genres4</th>\n",
       "      <th>genres5</th>\n",
       "      <th>genres6</th>\n",
       "      <th>genres7</th>\n",
       "      <th>genres8</th>\n",
       "      <th>genres9</th>\n",
       "      <th>genres10</th>\n",
       "      <th>Year_release</th>\n",
       "    </tr>\n",
       "  </thead>\n",
       "  <tbody>\n",
       "    <tr>\n",
       "      <th>0</th>\n",
       "      <td>1</td>\n",
       "      <td>Toy Story (1995)</td>\n",
       "      <td>Adventure|Animation|Children|Comedy|Fantasy</td>\n",
       "      <td>Adventure</td>\n",
       "      <td>Animation</td>\n",
       "      <td>Children</td>\n",
       "      <td>Comedy</td>\n",
       "      <td>Fantasy</td>\n",
       "      <td>None</td>\n",
       "      <td>None</td>\n",
       "      <td>None</td>\n",
       "      <td>None</td>\n",
       "      <td>None</td>\n",
       "      <td>1995</td>\n",
       "    </tr>\n",
       "    <tr>\n",
       "      <th>1</th>\n",
       "      <td>2</td>\n",
       "      <td>Jumanji (1995)</td>\n",
       "      <td>Adventure|Children|Fantasy</td>\n",
       "      <td>Adventure</td>\n",
       "      <td>Children</td>\n",
       "      <td>Fantasy</td>\n",
       "      <td>None</td>\n",
       "      <td>None</td>\n",
       "      <td>None</td>\n",
       "      <td>None</td>\n",
       "      <td>None</td>\n",
       "      <td>None</td>\n",
       "      <td>None</td>\n",
       "      <td>1995</td>\n",
       "    </tr>\n",
       "    <tr>\n",
       "      <th>2</th>\n",
       "      <td>3</td>\n",
       "      <td>Grumpier Old Men (1995)</td>\n",
       "      <td>Comedy|Romance</td>\n",
       "      <td>Comedy</td>\n",
       "      <td>Romance</td>\n",
       "      <td>None</td>\n",
       "      <td>None</td>\n",
       "      <td>None</td>\n",
       "      <td>None</td>\n",
       "      <td>None</td>\n",
       "      <td>None</td>\n",
       "      <td>None</td>\n",
       "      <td>None</td>\n",
       "      <td>1995</td>\n",
       "    </tr>\n",
       "    <tr>\n",
       "      <th>3</th>\n",
       "      <td>4</td>\n",
       "      <td>Waiting to Exhale (1995)</td>\n",
       "      <td>Comedy|Drama|Romance</td>\n",
       "      <td>Comedy</td>\n",
       "      <td>Drama</td>\n",
       "      <td>Romance</td>\n",
       "      <td>None</td>\n",
       "      <td>None</td>\n",
       "      <td>None</td>\n",
       "      <td>None</td>\n",
       "      <td>None</td>\n",
       "      <td>None</td>\n",
       "      <td>None</td>\n",
       "      <td>1995</td>\n",
       "    </tr>\n",
       "    <tr>\n",
       "      <th>4</th>\n",
       "      <td>5</td>\n",
       "      <td>Father of the Bride Part II (1995)</td>\n",
       "      <td>Comedy</td>\n",
       "      <td>Comedy</td>\n",
       "      <td>None</td>\n",
       "      <td>None</td>\n",
       "      <td>None</td>\n",
       "      <td>None</td>\n",
       "      <td>None</td>\n",
       "      <td>None</td>\n",
       "      <td>None</td>\n",
       "      <td>None</td>\n",
       "      <td>None</td>\n",
       "      <td>1995</td>\n",
       "    </tr>\n",
       "  </tbody>\n",
       "</table>\n",
       "</div>"
      ],
      "text/plain": [
       "   movieId                               title  \\\n",
       "0        1                    Toy Story (1995)   \n",
       "1        2                      Jumanji (1995)   \n",
       "2        3             Grumpier Old Men (1995)   \n",
       "3        4            Waiting to Exhale (1995)   \n",
       "4        5  Father of the Bride Part II (1995)   \n",
       "\n",
       "                                        genres    genres1    genres2  \\\n",
       "0  Adventure|Animation|Children|Comedy|Fantasy  Adventure  Animation   \n",
       "1                   Adventure|Children|Fantasy  Adventure   Children   \n",
       "2                               Comedy|Romance     Comedy    Romance   \n",
       "3                         Comedy|Drama|Romance     Comedy      Drama   \n",
       "4                                       Comedy     Comedy       None   \n",
       "\n",
       "    genres3 genres4  genres5 genres6 genres7 genres8 genres9 genres10  \\\n",
       "0  Children  Comedy  Fantasy    None    None    None    None     None   \n",
       "1   Fantasy    None     None    None    None    None    None     None   \n",
       "2      None    None     None    None    None    None    None     None   \n",
       "3   Romance    None     None    None    None    None    None     None   \n",
       "4      None    None     None    None    None    None    None     None   \n",
       "\n",
       "  Year_release  \n",
       "0         1995  \n",
       "1         1995  \n",
       "2         1995  \n",
       "3         1995  \n",
       "4         1995  "
      ]
     },
     "execution_count": 89,
     "metadata": {},
     "output_type": "execute_result"
    }
   ],
   "source": [
    "#creating the year of release dataset from the title column\n",
    "movies_new[\"Year_release\"] = movies_new['title'].str.extract('(\\d\\d\\d\\d)', expand=True)\n",
    "movies_new.head()"
   ]
  },
  {
   "cell_type": "code",
   "execution_count": 90,
   "metadata": {
    "collapsed": false
   },
   "outputs": [
    {
     "data": {
      "text/plain": [
       "movieId         False\n",
       "title           False\n",
       "genres          False\n",
       "genres1         False\n",
       "genres2          True\n",
       "genres3          True\n",
       "genres4          True\n",
       "genres5          True\n",
       "genres6          True\n",
       "genres7          True\n",
       "genres8          True\n",
       "genres9          True\n",
       "genres10         True\n",
       "Year_release     True\n",
       "dtype: bool"
      ]
     },
     "execution_count": 90,
     "metadata": {},
     "output_type": "execute_result"
    }
   ],
   "source": [
    "movies_new.isnull().any()"
   ]
  },
  {
   "cell_type": "code",
   "execution_count": 93,
   "metadata": {
    "collapsed": false
   },
   "outputs": [
    {
     "name": "stdout",
     "output_type": "stream",
     "text": [
      "0 movies have missing year of release\n"
     ]
    }
   ],
   "source": [
    "#No of movies with missing year of release \n",
    "missing_year = movies_new.loc[movies_new['Year_release'].isnull(),'movieId'].nunique()\n",
    "print(\"{} movies have missing year of release\".format(missing_year))"
   ]
  },
  {
   "cell_type": "code",
   "execution_count": 92,
   "metadata": {
    "collapsed": true
   },
   "outputs": [],
   "source": [
    "#Adding the missing Year_release for 4 movies manually\n",
    "movies_new.loc[9017,\"Year_release\"] = \"2015\"\n",
    "movies_new.loc[9063,\"Year_release\"] = \"2016\"\n",
    "movies_new.loc[9118,\"Year_release\"] = \"2016\"\n",
    "movies_new.loc[9124,\"Year_release\"] = \"2014\""
   ]
  },
  {
   "cell_type": "code",
   "execution_count": 94,
   "metadata": {
    "collapsed": false
   },
   "outputs": [
    {
     "name": "stdout",
     "output_type": "stream",
     "text": [
      "Shape of movies_links dataset = (9125, 16)\n"
     ]
    }
   ],
   "source": [
    "#merging the the links and movies datasets as both are on movie ID level\n",
    "movies_links = pd.merge(movies_new,links, on = \"movieId\")\n",
    "movies_links.head()\n",
    "movies_links.shape\n",
    "movies_links_shape = movies_links.shape\n",
    "print(\"Shape of movies_links dataset = {}\".format(movies_links_shape))"
   ]
  },
  {
   "cell_type": "code",
   "execution_count": 95,
   "metadata": {
    "collapsed": false
   },
   "outputs": [
    {
     "data": {
      "text/plain": [
       "movieId         False\n",
       "title           False\n",
       "genres          False\n",
       "genres1         False\n",
       "genres2          True\n",
       "genres3          True\n",
       "genres4          True\n",
       "genres5          True\n",
       "genres6          True\n",
       "genres7          True\n",
       "genres8          True\n",
       "genres9          True\n",
       "genres10         True\n",
       "Year_release    False\n",
       "imdbId          False\n",
       "tmdbId          False\n",
       "dtype: bool"
      ]
     },
     "execution_count": 95,
     "metadata": {},
     "output_type": "execute_result"
    }
   ],
   "source": [
    "movies_links.isnull().any()"
   ]
  },
  {
   "cell_type": "code",
   "execution_count": 96,
   "metadata": {
    "collapsed": false
   },
   "outputs": [
    {
     "data": {
      "text/html": [
       "<pre>Finished parsing file /Users/B.Patel@ibm.com/Downloads/movies_links.csv</pre>"
      ],
      "text/plain": [
       "Finished parsing file /Users/B.Patel@ibm.com/Downloads/movies_links.csv"
      ]
     },
     "metadata": {},
     "output_type": "display_data"
    },
    {
     "data": {
      "text/html": [
       "<pre>Parsing completed. Parsed 100 lines in 0.062399 secs.</pre>"
      ],
      "text/plain": [
       "Parsing completed. Parsed 100 lines in 0.062399 secs."
      ]
     },
     "metadata": {},
     "output_type": "display_data"
    },
    {
     "name": "stdout",
     "output_type": "stream",
     "text": [
      "------------------------------------------------------\n",
      "Inferred types from first 100 line(s) of file as \n",
      "column_type_hints=[int,int,str,str,str,str,str,str,str,str,str,str,str,str,int,int,float]\n",
      "If parsing fails due to incorrect types, you can correct\n",
      "the inferred type list above and pass it to read_csv in\n",
      "the column_type_hints argument\n",
      "------------------------------------------------------\n"
     ]
    },
    {
     "data": {
      "text/html": [
       "<pre>Finished parsing file /Users/B.Patel@ibm.com/Downloads/movies_links.csv</pre>"
      ],
      "text/plain": [
       "Finished parsing file /Users/B.Patel@ibm.com/Downloads/movies_links.csv"
      ]
     },
     "metadata": {},
     "output_type": "display_data"
    },
    {
     "data": {
      "text/html": [
       "<pre>Parsing completed. Parsed 9125 lines in 0.048543 secs.</pre>"
      ],
      "text/plain": [
       "Parsing completed. Parsed 9125 lines in 0.048543 secs."
      ]
     },
     "metadata": {},
     "output_type": "display_data"
    }
   ],
   "source": [
    "#storing movie and links data as Sframe\n",
    "movies_links.to_csv(\"movies_links.csv\")\n",
    "movie_metadata = graphlab.SFrame.read_csv('movies_links.csv' )"
   ]
  },
  {
   "cell_type": "markdown",
   "metadata": {},
   "source": [
    "Exploring Ratings Data"
   ]
  },
  {
   "cell_type": "code",
   "execution_count": 97,
   "metadata": {
    "collapsed": false
   },
   "outputs": [
    {
     "data": {
      "text/html": [
       "<div>\n",
       "<table border=\"1\" class=\"dataframe\">\n",
       "  <thead>\n",
       "    <tr style=\"text-align: right;\">\n",
       "      <th></th>\n",
       "      <th>userId</th>\n",
       "      <th>movieId</th>\n",
       "      <th>rating</th>\n",
       "      <th>timestamp</th>\n",
       "    </tr>\n",
       "  </thead>\n",
       "  <tbody>\n",
       "    <tr>\n",
       "      <th>0</th>\n",
       "      <td>1</td>\n",
       "      <td>31</td>\n",
       "      <td>2.5</td>\n",
       "      <td>1260759144</td>\n",
       "    </tr>\n",
       "    <tr>\n",
       "      <th>1</th>\n",
       "      <td>1</td>\n",
       "      <td>1029</td>\n",
       "      <td>3.0</td>\n",
       "      <td>1260759179</td>\n",
       "    </tr>\n",
       "    <tr>\n",
       "      <th>2</th>\n",
       "      <td>1</td>\n",
       "      <td>1061</td>\n",
       "      <td>3.0</td>\n",
       "      <td>1260759182</td>\n",
       "    </tr>\n",
       "    <tr>\n",
       "      <th>3</th>\n",
       "      <td>1</td>\n",
       "      <td>1129</td>\n",
       "      <td>2.0</td>\n",
       "      <td>1260759185</td>\n",
       "    </tr>\n",
       "    <tr>\n",
       "      <th>4</th>\n",
       "      <td>1</td>\n",
       "      <td>1172</td>\n",
       "      <td>4.0</td>\n",
       "      <td>1260759205</td>\n",
       "    </tr>\n",
       "  </tbody>\n",
       "</table>\n",
       "</div>"
      ],
      "text/plain": [
       "   userId  movieId  rating   timestamp\n",
       "0       1       31     2.5  1260759144\n",
       "1       1     1029     3.0  1260759179\n",
       "2       1     1061     3.0  1260759182\n",
       "3       1     1129     2.0  1260759185\n",
       "4       1     1172     4.0  1260759205"
      ]
     },
     "execution_count": 97,
     "metadata": {},
     "output_type": "execute_result"
    }
   ],
   "source": [
    "#checking the head of the ratings data (unique at userID, movieID, timestamp level)\n",
    "ratings.head()"
   ]
  },
  {
   "cell_type": "code",
   "execution_count": 98,
   "metadata": {
    "collapsed": false
   },
   "outputs": [
    {
     "name": "stdout",
     "output_type": "stream",
     "text": [
      "(100004, 4) is the shape of ratings data\n"
     ]
    }
   ],
   "source": [
    "#checking the shape of the ratings data\n",
    "ratings_shape = ratings.shape\n",
    "print(\"{} is the shape of ratings data\".format(ratings_shape))"
   ]
  },
  {
   "cell_type": "code",
   "execution_count": 99,
   "metadata": {
    "collapsed": false
   },
   "outputs": [
    {
     "data": {
      "text/plain": [
       "userId       False\n",
       "movieId      False\n",
       "rating       False\n",
       "timestamp    False\n",
       "dtype: bool"
      ]
     },
     "execution_count": 99,
     "metadata": {},
     "output_type": "execute_result"
    }
   ],
   "source": [
    "#No missing entries in ratings data\n",
    "ratings.isnull().any()"
   ]
  },
  {
   "cell_type": "code",
   "execution_count": 100,
   "metadata": {
    "collapsed": false
   },
   "outputs": [
    {
     "ename": "AttributeError",
     "evalue": "'DataFrame' object has no attribute 'nunique'",
     "output_type": "error",
     "traceback": [
      "\u001b[0;31m---------------------------------------------------------------------------\u001b[0m",
      "\u001b[0;31mAttributeError\u001b[0m                            Traceback (most recent call last)",
      "\u001b[0;32m<ipython-input-100-5957eb7edcfb>\u001b[0m in \u001b[0;36m<module>\u001b[0;34m()\u001b[0m\n\u001b[1;32m      1\u001b[0m \u001b[0;31m#No of unique users 671\u001b[0m\u001b[0;34m\u001b[0m\u001b[0;34m\u001b[0m\u001b[0m\n\u001b[0;32m----> 2\u001b[0;31m \u001b[0mm\u001b[0m \u001b[0;34m=\u001b[0m \u001b[0mratings\u001b[0m\u001b[0;34m.\u001b[0m\u001b[0mnunique\u001b[0m\u001b[0;34m(\u001b[0m\u001b[0;34m)\u001b[0m\u001b[0;34m\u001b[0m\u001b[0m\n\u001b[0m\u001b[1;32m      3\u001b[0m \u001b[0muni_user\u001b[0m \u001b[0;34m=\u001b[0m \u001b[0mm\u001b[0m\u001b[0;34m[\u001b[0m\u001b[0;36m0\u001b[0m\u001b[0;34m]\u001b[0m\u001b[0;34m\u001b[0m\u001b[0m\n\u001b[1;32m      4\u001b[0m \u001b[0muni_movies\u001b[0m \u001b[0;34m=\u001b[0m \u001b[0mm\u001b[0m\u001b[0;34m[\u001b[0m\u001b[0;36m1\u001b[0m\u001b[0;34m]\u001b[0m\u001b[0;34m\u001b[0m\u001b[0m\n\u001b[1;32m      5\u001b[0m \u001b[0muni_ratings\u001b[0m \u001b[0;34m=\u001b[0m \u001b[0mm\u001b[0m\u001b[0;34m[\u001b[0m\u001b[0;36m2\u001b[0m\u001b[0;34m]\u001b[0m\u001b[0;34m\u001b[0m\u001b[0m\n",
      "\u001b[0;32m/Users/B.Patel@ibm.com/anaconda2/envs/gl-env/lib/python2.7/site-packages/pandas/core/generic.pyc\u001b[0m in \u001b[0;36m__getattr__\u001b[0;34m(self, name)\u001b[0m\n\u001b[1;32m   2667\u001b[0m             \u001b[0;32mif\u001b[0m \u001b[0mname\u001b[0m \u001b[0;32min\u001b[0m \u001b[0mself\u001b[0m\u001b[0;34m.\u001b[0m\u001b[0m_info_axis\u001b[0m\u001b[0;34m:\u001b[0m\u001b[0;34m\u001b[0m\u001b[0m\n\u001b[1;32m   2668\u001b[0m                 \u001b[0;32mreturn\u001b[0m \u001b[0mself\u001b[0m\u001b[0;34m[\u001b[0m\u001b[0mname\u001b[0m\u001b[0;34m]\u001b[0m\u001b[0;34m\u001b[0m\u001b[0m\n\u001b[0;32m-> 2669\u001b[0;31m             \u001b[0;32mreturn\u001b[0m \u001b[0mobject\u001b[0m\u001b[0;34m.\u001b[0m\u001b[0m__getattribute__\u001b[0m\u001b[0;34m(\u001b[0m\u001b[0mself\u001b[0m\u001b[0;34m,\u001b[0m \u001b[0mname\u001b[0m\u001b[0;34m)\u001b[0m\u001b[0;34m\u001b[0m\u001b[0m\n\u001b[0m\u001b[1;32m   2670\u001b[0m \u001b[0;34m\u001b[0m\u001b[0m\n\u001b[1;32m   2671\u001b[0m     \u001b[0;32mdef\u001b[0m \u001b[0m__setattr__\u001b[0m\u001b[0;34m(\u001b[0m\u001b[0mself\u001b[0m\u001b[0;34m,\u001b[0m \u001b[0mname\u001b[0m\u001b[0;34m,\u001b[0m \u001b[0mvalue\u001b[0m\u001b[0;34m)\u001b[0m\u001b[0;34m:\u001b[0m\u001b[0;34m\u001b[0m\u001b[0m\n",
      "\u001b[0;31mAttributeError\u001b[0m: 'DataFrame' object has no attribute 'nunique'"
     ]
    }
   ],
   "source": [
    "#No of unique users 671\n",
    "m = ratings.nunique()\n",
    "uni_user = m[0]\n",
    "uni_movies = m[1]\n",
    "uni_ratings = m[2]\n",
    "print(\"No of unique users who have rated a movie = {} \".format(uni_user))\n",
    "print(\"No of unique movies that have been rated = {} \".format(uni_movies))\n",
    "print(\"No of unique values of ratings = {} \".format(uni_ratings))"
   ]
  },
  {
   "cell_type": "code",
   "execution_count": 101,
   "metadata": {
    "collapsed": false
   },
   "outputs": [
    {
     "name": "stdout",
     "output_type": "stream",
     "text": [
      "Values of ratings =  [ 0.5  1.   1.5  2.   2.5  3.   3.5  4.   4.5  5. ]\n"
     ]
    }
   ],
   "source": [
    "#unique values of ratings \n",
    "k = ratings['rating'].unique()\n",
    "k = np.sort(k, kind= \"quicksort\")\n",
    "print(\"Values of ratings =  {}\".format(k))"
   ]
  },
  {
   "cell_type": "code",
   "execution_count": 102,
   "metadata": {
    "collapsed": false
   },
   "outputs": [
    {
     "data": {
      "text/plain": [
       "rating\n",
       "0.5     1101\n",
       "1.0     3326\n",
       "1.5     1687\n",
       "2.0     7271\n",
       "2.5     4449\n",
       "3.0    20064\n",
       "3.5    10538\n",
       "4.0    28750\n",
       "4.5     7723\n",
       "5.0    15095\n",
       "Name: userId, dtype: int64"
      ]
     },
     "execution_count": 102,
     "metadata": {},
     "output_type": "execute_result"
    }
   ],
   "source": [
    "#overall distribution of ratings \n",
    "ratings.groupby('rating').userId.count()"
   ]
  },
  {
   "cell_type": "code",
   "execution_count": 103,
   "metadata": {
    "collapsed": false
   },
   "outputs": [
    {
     "data": {
      "text/plain": [
       "1    100004\n",
       "Name: userId, dtype: int64"
      ]
     },
     "execution_count": 103,
     "metadata": {},
     "output_type": "execute_result"
    }
   ],
   "source": [
    "#Every customer has rated a movie only once\n",
    "ratings.groupby(['userId','movieId']).userId.count().value_counts()"
   ]
  },
  {
   "cell_type": "code",
   "execution_count": 104,
   "metadata": {
    "collapsed": false
   },
   "outputs": [
    {
     "data": {
      "text/html": [
       "<div>\n",
       "<table border=\"1\" class=\"dataframe\">\n",
       "  <thead>\n",
       "    <tr style=\"text-align: right;\">\n",
       "      <th></th>\n",
       "      <th>userId</th>\n",
       "      <th>movieId</th>\n",
       "      <th>rating</th>\n",
       "      <th>timestamp</th>\n",
       "    </tr>\n",
       "  </thead>\n",
       "  <tbody>\n",
       "    <tr>\n",
       "      <th>0</th>\n",
       "      <td>1</td>\n",
       "      <td>31</td>\n",
       "      <td>2.5</td>\n",
       "      <td>1970-01-15 14:12:39.144</td>\n",
       "    </tr>\n",
       "    <tr>\n",
       "      <th>1</th>\n",
       "      <td>1</td>\n",
       "      <td>1029</td>\n",
       "      <td>3.0</td>\n",
       "      <td>1970-01-15 14:12:39.179</td>\n",
       "    </tr>\n",
       "    <tr>\n",
       "      <th>2</th>\n",
       "      <td>1</td>\n",
       "      <td>1061</td>\n",
       "      <td>3.0</td>\n",
       "      <td>1970-01-15 14:12:39.182</td>\n",
       "    </tr>\n",
       "    <tr>\n",
       "      <th>3</th>\n",
       "      <td>1</td>\n",
       "      <td>1129</td>\n",
       "      <td>2.0</td>\n",
       "      <td>1970-01-15 14:12:39.185</td>\n",
       "    </tr>\n",
       "    <tr>\n",
       "      <th>4</th>\n",
       "      <td>1</td>\n",
       "      <td>1172</td>\n",
       "      <td>4.0</td>\n",
       "      <td>1970-01-15 14:12:39.205</td>\n",
       "    </tr>\n",
       "  </tbody>\n",
       "</table>\n",
       "</div>"
      ],
      "text/plain": [
       "   userId  movieId  rating               timestamp\n",
       "0       1       31     2.5 1970-01-15 14:12:39.144\n",
       "1       1     1029     3.0 1970-01-15 14:12:39.179\n",
       "2       1     1061     3.0 1970-01-15 14:12:39.182\n",
       "3       1     1129     2.0 1970-01-15 14:12:39.185\n",
       "4       1     1172     4.0 1970-01-15 14:12:39.205"
      ]
     },
     "execution_count": 104,
     "metadata": {},
     "output_type": "execute_result"
    }
   ],
   "source": [
    "#converting time since epoch to datetime \n",
    "ratings[\"timestamp\"] = pd.to_datetime(ratings['timestamp'], unit='ms')\n",
    "ratings.head()"
   ]
  },
  {
   "cell_type": "markdown",
   "metadata": {},
   "source": [
    "Explaoring Tags data"
   ]
  },
  {
   "cell_type": "code",
   "execution_count": 105,
   "metadata": {
    "collapsed": false
   },
   "outputs": [
    {
     "data": {
      "text/html": [
       "<div>\n",
       "<table border=\"1\" class=\"dataframe\">\n",
       "  <thead>\n",
       "    <tr style=\"text-align: right;\">\n",
       "      <th></th>\n",
       "      <th>userId</th>\n",
       "      <th>movieId</th>\n",
       "      <th>tag</th>\n",
       "      <th>timestamp</th>\n",
       "    </tr>\n",
       "  </thead>\n",
       "  <tbody>\n",
       "    <tr>\n",
       "      <th>0</th>\n",
       "      <td>15</td>\n",
       "      <td>339</td>\n",
       "      <td>sandra 'boring' bullock</td>\n",
       "      <td>1138537770</td>\n",
       "    </tr>\n",
       "    <tr>\n",
       "      <th>1</th>\n",
       "      <td>15</td>\n",
       "      <td>1955</td>\n",
       "      <td>dentist</td>\n",
       "      <td>1193435061</td>\n",
       "    </tr>\n",
       "    <tr>\n",
       "      <th>2</th>\n",
       "      <td>15</td>\n",
       "      <td>7478</td>\n",
       "      <td>Cambodia</td>\n",
       "      <td>1170560997</td>\n",
       "    </tr>\n",
       "    <tr>\n",
       "      <th>3</th>\n",
       "      <td>15</td>\n",
       "      <td>32892</td>\n",
       "      <td>Russian</td>\n",
       "      <td>1170626366</td>\n",
       "    </tr>\n",
       "    <tr>\n",
       "      <th>4</th>\n",
       "      <td>15</td>\n",
       "      <td>34162</td>\n",
       "      <td>forgettable</td>\n",
       "      <td>1141391765</td>\n",
       "    </tr>\n",
       "  </tbody>\n",
       "</table>\n",
       "</div>"
      ],
      "text/plain": [
       "   userId  movieId                      tag   timestamp\n",
       "0      15      339  sandra 'boring' bullock  1138537770\n",
       "1      15     1955                  dentist  1193435061\n",
       "2      15     7478                 Cambodia  1170560997\n",
       "3      15    32892                  Russian  1170626366\n",
       "4      15    34162              forgettable  1141391765"
      ]
     },
     "execution_count": 105,
     "metadata": {},
     "output_type": "execute_result"
    }
   ],
   "source": [
    "#checking tags data \n",
    "tags.head()"
   ]
  },
  {
   "cell_type": "code",
   "execution_count": 106,
   "metadata": {
    "collapsed": false
   },
   "outputs": [
    {
     "data": {
      "text/html": [
       "<div>\n",
       "<table border=\"1\" class=\"dataframe\">\n",
       "  <thead>\n",
       "    <tr style=\"text-align: right;\">\n",
       "      <th></th>\n",
       "      <th>userId</th>\n",
       "      <th>movieId</th>\n",
       "      <th>tag</th>\n",
       "      <th>timestamp</th>\n",
       "    </tr>\n",
       "  </thead>\n",
       "  <tbody>\n",
       "    <tr>\n",
       "      <th>0</th>\n",
       "      <td>15</td>\n",
       "      <td>339</td>\n",
       "      <td>sandra 'boring' bullock</td>\n",
       "      <td>1970-01-14 04:15:37.770</td>\n",
       "    </tr>\n",
       "    <tr>\n",
       "      <th>1</th>\n",
       "      <td>15</td>\n",
       "      <td>1955</td>\n",
       "      <td>dentist</td>\n",
       "      <td>1970-01-14 19:30:35.061</td>\n",
       "    </tr>\n",
       "    <tr>\n",
       "      <th>2</th>\n",
       "      <td>15</td>\n",
       "      <td>7478</td>\n",
       "      <td>Cambodia</td>\n",
       "      <td>1970-01-14 13:09:20.997</td>\n",
       "    </tr>\n",
       "    <tr>\n",
       "      <th>3</th>\n",
       "      <td>15</td>\n",
       "      <td>32892</td>\n",
       "      <td>Russian</td>\n",
       "      <td>1970-01-14 13:10:26.366</td>\n",
       "    </tr>\n",
       "    <tr>\n",
       "      <th>4</th>\n",
       "      <td>15</td>\n",
       "      <td>34162</td>\n",
       "      <td>forgettable</td>\n",
       "      <td>1970-01-14 05:03:11.765</td>\n",
       "    </tr>\n",
       "  </tbody>\n",
       "</table>\n",
       "</div>"
      ],
      "text/plain": [
       "   userId  movieId                      tag               timestamp\n",
       "0      15      339  sandra 'boring' bullock 1970-01-14 04:15:37.770\n",
       "1      15     1955                  dentist 1970-01-14 19:30:35.061\n",
       "2      15     7478                 Cambodia 1970-01-14 13:09:20.997\n",
       "3      15    32892                  Russian 1970-01-14 13:10:26.366\n",
       "4      15    34162              forgettable 1970-01-14 05:03:11.765"
      ]
     },
     "execution_count": 106,
     "metadata": {},
     "output_type": "execute_result"
    }
   ],
   "source": [
    "#converting time since epoch to datetime \n",
    "tags[\"timestamp\"] = pd.to_datetime(tags['timestamp'], unit='ms')\n",
    "tags.head()"
   ]
  },
  {
   "cell_type": "code",
   "execution_count": 107,
   "metadata": {
    "collapsed": false
   },
   "outputs": [
    {
     "name": "stdout",
     "output_type": "stream",
     "text": [
      "Shape of tags dataset = (1296, 4)\n"
     ]
    }
   ],
   "source": [
    "#shape of tags data\n",
    "tags_shape = tags.shape\n",
    "print(\"Shape of tags dataset = {}\".format(tags_shape))"
   ]
  },
  {
   "cell_type": "code",
   "execution_count": 108,
   "metadata": {
    "collapsed": false
   },
   "outputs": [
    {
     "ename": "AttributeError",
     "evalue": "'DataFrame' object has no attribute 'nunique'",
     "output_type": "error",
     "traceback": [
      "\u001b[0;31m---------------------------------------------------------------------------\u001b[0m",
      "\u001b[0;31mAttributeError\u001b[0m                            Traceback (most recent call last)",
      "\u001b[0;32m<ipython-input-108-10531fd04fce>\u001b[0m in \u001b[0;36m<module>\u001b[0;34m()\u001b[0m\n\u001b[1;32m      1\u001b[0m \u001b[0;31m#No of unique values in tags dataset\u001b[0m\u001b[0;34m\u001b[0m\u001b[0;34m\u001b[0m\u001b[0m\n\u001b[0;32m----> 2\u001b[0;31m \u001b[0mm\u001b[0m \u001b[0;34m=\u001b[0m \u001b[0mtags\u001b[0m\u001b[0;34m.\u001b[0m\u001b[0mnunique\u001b[0m\u001b[0;34m(\u001b[0m\u001b[0;34m)\u001b[0m\u001b[0;34m\u001b[0m\u001b[0m\n\u001b[0m\u001b[1;32m      3\u001b[0m \u001b[0muni_user\u001b[0m \u001b[0;34m=\u001b[0m \u001b[0mm\u001b[0m\u001b[0;34m[\u001b[0m\u001b[0;36m0\u001b[0m\u001b[0;34m]\u001b[0m\u001b[0;34m\u001b[0m\u001b[0m\n\u001b[1;32m      4\u001b[0m \u001b[0muni_movies\u001b[0m \u001b[0;34m=\u001b[0m \u001b[0mm\u001b[0m\u001b[0;34m[\u001b[0m\u001b[0;36m1\u001b[0m\u001b[0;34m]\u001b[0m\u001b[0;34m\u001b[0m\u001b[0m\n\u001b[1;32m      5\u001b[0m \u001b[0muni_tags\u001b[0m \u001b[0;34m=\u001b[0m \u001b[0mm\u001b[0m\u001b[0;34m[\u001b[0m\u001b[0;36m2\u001b[0m\u001b[0;34m]\u001b[0m\u001b[0;34m\u001b[0m\u001b[0m\n",
      "\u001b[0;32m/Users/B.Patel@ibm.com/anaconda2/envs/gl-env/lib/python2.7/site-packages/pandas/core/generic.pyc\u001b[0m in \u001b[0;36m__getattr__\u001b[0;34m(self, name)\u001b[0m\n\u001b[1;32m   2667\u001b[0m             \u001b[0;32mif\u001b[0m \u001b[0mname\u001b[0m \u001b[0;32min\u001b[0m \u001b[0mself\u001b[0m\u001b[0;34m.\u001b[0m\u001b[0m_info_axis\u001b[0m\u001b[0;34m:\u001b[0m\u001b[0;34m\u001b[0m\u001b[0m\n\u001b[1;32m   2668\u001b[0m                 \u001b[0;32mreturn\u001b[0m \u001b[0mself\u001b[0m\u001b[0;34m[\u001b[0m\u001b[0mname\u001b[0m\u001b[0;34m]\u001b[0m\u001b[0;34m\u001b[0m\u001b[0m\n\u001b[0;32m-> 2669\u001b[0;31m             \u001b[0;32mreturn\u001b[0m \u001b[0mobject\u001b[0m\u001b[0;34m.\u001b[0m\u001b[0m__getattribute__\u001b[0m\u001b[0;34m(\u001b[0m\u001b[0mself\u001b[0m\u001b[0;34m,\u001b[0m \u001b[0mname\u001b[0m\u001b[0;34m)\u001b[0m\u001b[0;34m\u001b[0m\u001b[0m\n\u001b[0m\u001b[1;32m   2670\u001b[0m \u001b[0;34m\u001b[0m\u001b[0m\n\u001b[1;32m   2671\u001b[0m     \u001b[0;32mdef\u001b[0m \u001b[0m__setattr__\u001b[0m\u001b[0;34m(\u001b[0m\u001b[0mself\u001b[0m\u001b[0;34m,\u001b[0m \u001b[0mname\u001b[0m\u001b[0;34m,\u001b[0m \u001b[0mvalue\u001b[0m\u001b[0;34m)\u001b[0m\u001b[0;34m:\u001b[0m\u001b[0;34m\u001b[0m\u001b[0m\n",
      "\u001b[0;31mAttributeError\u001b[0m: 'DataFrame' object has no attribute 'nunique'"
     ]
    }
   ],
   "source": [
    "#No of unique values in tags dataset\n",
    "m = tags.nunique()\n",
    "uni_user = m[0]\n",
    "uni_movies = m[1]\n",
    "uni_tags = m[2]\n",
    "print(\"No of unique users who have tagged a movie = {} \".format(uni_user))\n",
    "print(\"No of unique movies that have been tagged = {} \".format(uni_movies))\n",
    "print(\"No of unique values of tags = {} \".format(uni_tags))"
   ]
  },
  {
   "cell_type": "code",
   "execution_count": 109,
   "metadata": {
    "collapsed": false
   },
   "outputs": [
    {
     "data": {
      "text/plain": [
       "userId       False\n",
       "movieId      False\n",
       "tag          False\n",
       "timestamp    False\n",
       "dtype: bool"
      ]
     },
     "execution_count": 109,
     "metadata": {},
     "output_type": "execute_result"
    }
   ],
   "source": [
    "#checking Null values in the tags dataset\n",
    "tags.isnull().any()"
   ]
  },
  {
   "cell_type": "code",
   "execution_count": 111,
   "metadata": {
    "collapsed": false
   },
   "outputs": [
    {
     "data": {
      "text/html": [
       "<div>\n",
       "<table border=\"1\" class=\"dataframe\">\n",
       "  <thead>\n",
       "    <tr style=\"text-align: right;\">\n",
       "      <th></th>\n",
       "      <th></th>\n",
       "      <th>tag</th>\n",
       "      <th>timestamp</th>\n",
       "    </tr>\n",
       "    <tr>\n",
       "      <th>userId</th>\n",
       "      <th>movieId</th>\n",
       "      <th></th>\n",
       "      <th></th>\n",
       "    </tr>\n",
       "  </thead>\n",
       "  <tbody>\n",
       "    <tr>\n",
       "      <th rowspan=\"3\" valign=\"top\">138</th>\n",
       "      <th>48780</th>\n",
       "      <td>6</td>\n",
       "      <td>6</td>\n",
       "    </tr>\n",
       "    <tr>\n",
       "      <th>79132</th>\n",
       "      <td>7</td>\n",
       "      <td>7</td>\n",
       "    </tr>\n",
       "    <tr>\n",
       "      <th>109487</th>\n",
       "      <td>12</td>\n",
       "      <td>12</td>\n",
       "    </tr>\n",
       "    <tr>\n",
       "      <th rowspan=\"2\" valign=\"top\">212</th>\n",
       "      <th>64957</th>\n",
       "      <td>8</td>\n",
       "      <td>8</td>\n",
       "    </tr>\n",
       "    <tr>\n",
       "      <th>66097</th>\n",
       "      <td>7</td>\n",
       "      <td>7</td>\n",
       "    </tr>\n",
       "  </tbody>\n",
       "</table>\n",
       "</div>"
      ],
      "text/plain": [
       "                tag  timestamp\n",
       "userId movieId                \n",
       "138    48780      6          6\n",
       "       79132      7          7\n",
       "       109487    12         12\n",
       "212    64957      8          8\n",
       "       66097      7          7"
      ]
     },
     "execution_count": 111,
     "metadata": {},
     "output_type": "execute_result"
    }
   ],
   "source": [
    "#looking at data with more than 5 tags for a movie\n",
    "df = tags.groupby(['userId','movieId']).count()\n",
    "df.loc[df['tag'] > 5].head()"
   ]
  },
  {
   "cell_type": "code",
   "execution_count": 112,
   "metadata": {
    "collapsed": true
   },
   "outputs": [],
   "source": [
    "#creating combined tag for a particular user movie combination\n",
    "tags_new =tags.groupby(['userId','movieId'], as_index=False).sum()"
   ]
  },
  {
   "cell_type": "code",
   "execution_count": 113,
   "metadata": {
    "collapsed": false
   },
   "outputs": [
    {
     "data": {
      "text/html": [
       "<div>\n",
       "<table border=\"1\" class=\"dataframe\">\n",
       "  <thead>\n",
       "    <tr style=\"text-align: right;\">\n",
       "      <th></th>\n",
       "      <th>userId</th>\n",
       "      <th>movieId</th>\n",
       "      <th>tag</th>\n",
       "    </tr>\n",
       "  </thead>\n",
       "  <tbody>\n",
       "    <tr>\n",
       "      <th>0</th>\n",
       "      <td>15</td>\n",
       "      <td>339</td>\n",
       "      <td>sandra 'boring' bullock</td>\n",
       "    </tr>\n",
       "    <tr>\n",
       "      <th>1</th>\n",
       "      <td>15</td>\n",
       "      <td>1955</td>\n",
       "      <td>dentist</td>\n",
       "    </tr>\n",
       "    <tr>\n",
       "      <th>2</th>\n",
       "      <td>15</td>\n",
       "      <td>7478</td>\n",
       "      <td>Cambodia</td>\n",
       "    </tr>\n",
       "    <tr>\n",
       "      <th>3</th>\n",
       "      <td>15</td>\n",
       "      <td>32892</td>\n",
       "      <td>Russian</td>\n",
       "    </tr>\n",
       "    <tr>\n",
       "      <th>4</th>\n",
       "      <td>15</td>\n",
       "      <td>34162</td>\n",
       "      <td>forgettable</td>\n",
       "    </tr>\n",
       "  </tbody>\n",
       "</table>\n",
       "</div>"
      ],
      "text/plain": [
       "   userId  movieId                      tag\n",
       "0      15      339  sandra 'boring' bullock\n",
       "1      15     1955                  dentist\n",
       "2      15     7478                 Cambodia\n",
       "3      15    32892                  Russian\n",
       "4      15    34162              forgettable"
      ]
     },
     "execution_count": 113,
     "metadata": {},
     "output_type": "execute_result"
    }
   ],
   "source": [
    "tags_new.head()"
   ]
  },
  {
   "cell_type": "code",
   "execution_count": 114,
   "metadata": {
    "collapsed": false
   },
   "outputs": [
    {
     "name": "stdout",
     "output_type": "stream",
     "text": [
      "shape of tags dataset = (772, 3)\n"
     ]
    }
   ],
   "source": [
    "#New shape of tags dataset\n",
    "tags_shape = tags_new.shape\n",
    "print(\"shape of tags dataset = {}\".format(tags_shape))"
   ]
  },
  {
   "cell_type": "code",
   "execution_count": 115,
   "metadata": {
    "collapsed": true
   },
   "outputs": [],
   "source": [
    "#merging the ratings and tags data : information at user level\n",
    "ratings_tags = pd.merge(ratings,tags_new[['userId','movieId','tag']],how = 'left', left_on = ['userId','movieId'], right_on = ['userId','movieId'])"
   ]
  },
  {
   "cell_type": "code",
   "execution_count": 116,
   "metadata": {
    "collapsed": false
   },
   "outputs": [
    {
     "name": "stdout",
     "output_type": "stream",
     "text": [
      "shape of ratings_tags dataset = (100004, 5)\n"
     ]
    }
   ],
   "source": [
    "#shape of the new ratings _tags dataset\n",
    "ratings_tags_shape = ratings_tags.shape\n",
    "print(\"shape of ratings_tags dataset = {}\".format(ratings_tags_shape))"
   ]
  },
  {
   "cell_type": "code",
   "execution_count": 117,
   "metadata": {
    "collapsed": false
   },
   "outputs": [
    {
     "data": {
      "text/html": [
       "<div>\n",
       "<table border=\"1\" class=\"dataframe\">\n",
       "  <thead>\n",
       "    <tr style=\"text-align: right;\">\n",
       "      <th></th>\n",
       "      <th>userId</th>\n",
       "      <th>movieId</th>\n",
       "      <th>rating</th>\n",
       "      <th>timestamp</th>\n",
       "      <th>tag</th>\n",
       "    </tr>\n",
       "  </thead>\n",
       "  <tbody>\n",
       "    <tr>\n",
       "      <th>1048</th>\n",
       "      <td>15</td>\n",
       "      <td>339</td>\n",
       "      <td>2.5</td>\n",
       "      <td>1970-01-13 23:49:36.622</td>\n",
       "      <td>sandra 'boring' bullock</td>\n",
       "    </tr>\n",
       "  </tbody>\n",
       "</table>\n",
       "</div>"
      ],
      "text/plain": [
       "      userId  movieId  rating               timestamp                      tag\n",
       "1048      15      339     2.5 1970-01-13 23:49:36.622  sandra 'boring' bullock"
      ]
     },
     "execution_count": 117,
     "metadata": {},
     "output_type": "execute_result"
    }
   ],
   "source": [
    "#checking data for a particular entry\n",
    "ratings_tags.loc[(ratings_tags.userId == 15) & (ratings_tags.movieId == 339)]"
   ]
  },
  {
   "cell_type": "code",
   "execution_count": 118,
   "metadata": {
    "collapsed": false
   },
   "outputs": [
    {
     "data": {
      "text/html": [
       "<pre>Finished parsing file /Users/B.Patel@ibm.com/Downloads/ratings_tags.csv</pre>"
      ],
      "text/plain": [
       "Finished parsing file /Users/B.Patel@ibm.com/Downloads/ratings_tags.csv"
      ]
     },
     "metadata": {},
     "output_type": "display_data"
    },
    {
     "data": {
      "text/html": [
       "<pre>Parsing completed. Parsed 100 lines in 0.147209 secs.</pre>"
      ],
      "text/plain": [
       "Parsing completed. Parsed 100 lines in 0.147209 secs."
      ]
     },
     "metadata": {},
     "output_type": "display_data"
    },
    {
     "name": "stdout",
     "output_type": "stream",
     "text": [
      "------------------------------------------------------\n",
      "Inferred types from first 100 line(s) of file as \n",
      "column_type_hints=[int,int,int,float,str,str]\n",
      "If parsing fails due to incorrect types, you can correct\n",
      "the inferred type list above and pass it to read_csv in\n",
      "the column_type_hints argument\n",
      "------------------------------------------------------\n"
     ]
    },
    {
     "data": {
      "text/html": [
       "<pre>Finished parsing file /Users/B.Patel@ibm.com/Downloads/ratings_tags.csv</pre>"
      ],
      "text/plain": [
       "Finished parsing file /Users/B.Patel@ibm.com/Downloads/ratings_tags.csv"
      ]
     },
     "metadata": {},
     "output_type": "display_data"
    },
    {
     "data": {
      "text/html": [
       "<pre>Parsing completed. Parsed 100004 lines in 0.15069 secs.</pre>"
      ],
      "text/plain": [
       "Parsing completed. Parsed 100004 lines in 0.15069 secs."
      ]
     },
     "metadata": {},
     "output_type": "display_data"
    }
   ],
   "source": [
    "#storing ratings and tags data as Sframe\n",
    "ratings_tags.to_csv(\"ratings_tags.csv\")\n",
    "user_metadata = graphlab.SFrame.read_csv('ratings_tags.csv' )"
   ]
  },
  {
   "cell_type": "code",
   "execution_count": 119,
   "metadata": {
    "collapsed": true
   },
   "outputs": [],
   "source": [
    "#Including the movie information to the ratings_tags data\n",
    "all_data = pd.merge(ratings_tags, movies_links,how = 'left', left_on = ['movieId'], right_on = ['movieId'])"
   ]
  },
  {
   "cell_type": "code",
   "execution_count": 120,
   "metadata": {
    "collapsed": false
   },
   "outputs": [
    {
     "data": {
      "text/html": [
       "<div>\n",
       "<table border=\"1\" class=\"dataframe\">\n",
       "  <thead>\n",
       "    <tr style=\"text-align: right;\">\n",
       "      <th></th>\n",
       "      <th>userId</th>\n",
       "      <th>movieId</th>\n",
       "      <th>rating</th>\n",
       "      <th>timestamp</th>\n",
       "      <th>tag</th>\n",
       "      <th>title</th>\n",
       "      <th>genres</th>\n",
       "      <th>genres1</th>\n",
       "      <th>genres2</th>\n",
       "      <th>genres3</th>\n",
       "      <th>genres4</th>\n",
       "      <th>genres5</th>\n",
       "      <th>genres6</th>\n",
       "      <th>genres7</th>\n",
       "      <th>genres8</th>\n",
       "      <th>genres9</th>\n",
       "      <th>genres10</th>\n",
       "      <th>Year_release</th>\n",
       "      <th>imdbId</th>\n",
       "      <th>tmdbId</th>\n",
       "    </tr>\n",
       "  </thead>\n",
       "  <tbody>\n",
       "    <tr>\n",
       "      <th>0</th>\n",
       "      <td>1</td>\n",
       "      <td>31</td>\n",
       "      <td>2.5</td>\n",
       "      <td>1970-01-15 14:12:39.144</td>\n",
       "      <td>NaN</td>\n",
       "      <td>Dangerous Minds (1995)</td>\n",
       "      <td>Drama</td>\n",
       "      <td>Drama</td>\n",
       "      <td>None</td>\n",
       "      <td>None</td>\n",
       "      <td>None</td>\n",
       "      <td>None</td>\n",
       "      <td>None</td>\n",
       "      <td>None</td>\n",
       "      <td>None</td>\n",
       "      <td>None</td>\n",
       "      <td>None</td>\n",
       "      <td>1995</td>\n",
       "      <td>112792</td>\n",
       "      <td>9909.0</td>\n",
       "    </tr>\n",
       "    <tr>\n",
       "      <th>1</th>\n",
       "      <td>1</td>\n",
       "      <td>1029</td>\n",
       "      <td>3.0</td>\n",
       "      <td>1970-01-15 14:12:39.179</td>\n",
       "      <td>NaN</td>\n",
       "      <td>Dumbo (1941)</td>\n",
       "      <td>Animation|Children|Drama|Musical</td>\n",
       "      <td>Animation</td>\n",
       "      <td>Children</td>\n",
       "      <td>Drama</td>\n",
       "      <td>Musical</td>\n",
       "      <td>None</td>\n",
       "      <td>None</td>\n",
       "      <td>None</td>\n",
       "      <td>None</td>\n",
       "      <td>None</td>\n",
       "      <td>None</td>\n",
       "      <td>1941</td>\n",
       "      <td>33563</td>\n",
       "      <td>11360.0</td>\n",
       "    </tr>\n",
       "    <tr>\n",
       "      <th>2</th>\n",
       "      <td>1</td>\n",
       "      <td>1061</td>\n",
       "      <td>3.0</td>\n",
       "      <td>1970-01-15 14:12:39.182</td>\n",
       "      <td>NaN</td>\n",
       "      <td>Sleepers (1996)</td>\n",
       "      <td>Thriller</td>\n",
       "      <td>Thriller</td>\n",
       "      <td>None</td>\n",
       "      <td>None</td>\n",
       "      <td>None</td>\n",
       "      <td>None</td>\n",
       "      <td>None</td>\n",
       "      <td>None</td>\n",
       "      <td>None</td>\n",
       "      <td>None</td>\n",
       "      <td>None</td>\n",
       "      <td>1996</td>\n",
       "      <td>117665</td>\n",
       "      <td>819.0</td>\n",
       "    </tr>\n",
       "    <tr>\n",
       "      <th>3</th>\n",
       "      <td>1</td>\n",
       "      <td>1129</td>\n",
       "      <td>2.0</td>\n",
       "      <td>1970-01-15 14:12:39.185</td>\n",
       "      <td>NaN</td>\n",
       "      <td>Escape from New York (1981)</td>\n",
       "      <td>Action|Adventure|Sci-Fi|Thriller</td>\n",
       "      <td>Action</td>\n",
       "      <td>Adventure</td>\n",
       "      <td>Sci-Fi</td>\n",
       "      <td>Thriller</td>\n",
       "      <td>None</td>\n",
       "      <td>None</td>\n",
       "      <td>None</td>\n",
       "      <td>None</td>\n",
       "      <td>None</td>\n",
       "      <td>None</td>\n",
       "      <td>1981</td>\n",
       "      <td>82340</td>\n",
       "      <td>1103.0</td>\n",
       "    </tr>\n",
       "    <tr>\n",
       "      <th>4</th>\n",
       "      <td>1</td>\n",
       "      <td>1172</td>\n",
       "      <td>4.0</td>\n",
       "      <td>1970-01-15 14:12:39.205</td>\n",
       "      <td>NaN</td>\n",
       "      <td>Cinema Paradiso (Nuovo cinema Paradiso) (1989)</td>\n",
       "      <td>Drama</td>\n",
       "      <td>Drama</td>\n",
       "      <td>None</td>\n",
       "      <td>None</td>\n",
       "      <td>None</td>\n",
       "      <td>None</td>\n",
       "      <td>None</td>\n",
       "      <td>None</td>\n",
       "      <td>None</td>\n",
       "      <td>None</td>\n",
       "      <td>None</td>\n",
       "      <td>1989</td>\n",
       "      <td>95765</td>\n",
       "      <td>11216.0</td>\n",
       "    </tr>\n",
       "  </tbody>\n",
       "</table>\n",
       "</div>"
      ],
      "text/plain": [
       "   userId  movieId  rating               timestamp  tag  \\\n",
       "0       1       31     2.5 1970-01-15 14:12:39.144  NaN   \n",
       "1       1     1029     3.0 1970-01-15 14:12:39.179  NaN   \n",
       "2       1     1061     3.0 1970-01-15 14:12:39.182  NaN   \n",
       "3       1     1129     2.0 1970-01-15 14:12:39.185  NaN   \n",
       "4       1     1172     4.0 1970-01-15 14:12:39.205  NaN   \n",
       "\n",
       "                                            title  \\\n",
       "0                          Dangerous Minds (1995)   \n",
       "1                                    Dumbo (1941)   \n",
       "2                                 Sleepers (1996)   \n",
       "3                     Escape from New York (1981)   \n",
       "4  Cinema Paradiso (Nuovo cinema Paradiso) (1989)   \n",
       "\n",
       "                             genres    genres1    genres2 genres3   genres4  \\\n",
       "0                             Drama      Drama       None    None      None   \n",
       "1  Animation|Children|Drama|Musical  Animation   Children   Drama   Musical   \n",
       "2                          Thriller   Thriller       None    None      None   \n",
       "3  Action|Adventure|Sci-Fi|Thriller     Action  Adventure  Sci-Fi  Thriller   \n",
       "4                             Drama      Drama       None    None      None   \n",
       "\n",
       "  genres5 genres6 genres7 genres8 genres9 genres10 Year_release  imdbId  \\\n",
       "0    None    None    None    None    None     None         1995  112792   \n",
       "1    None    None    None    None    None     None         1941   33563   \n",
       "2    None    None    None    None    None     None         1996  117665   \n",
       "3    None    None    None    None    None     None         1981   82340   \n",
       "4    None    None    None    None    None     None         1989   95765   \n",
       "\n",
       "    tmdbId  \n",
       "0   9909.0  \n",
       "1  11360.0  \n",
       "2    819.0  \n",
       "3   1103.0  \n",
       "4  11216.0  "
      ]
     },
     "execution_count": 120,
     "metadata": {},
     "output_type": "execute_result"
    }
   ],
   "source": [
    "#checking the head of the combined data\n",
    "all_data.head()"
   ]
  },
  {
   "cell_type": "code",
   "execution_count": 121,
   "metadata": {
    "collapsed": false
   },
   "outputs": [
    {
     "name": "stdout",
     "output_type": "stream",
     "text": [
      "shape of combined dataset = (100004, 20)\n"
     ]
    }
   ],
   "source": [
    "#shape of the combined data\n",
    "all_data_shape = all_data.shape\n",
    "print(\"shape of combined dataset = {}\".format(all_data_shape))"
   ]
  },
  {
   "cell_type": "code",
   "execution_count": 122,
   "metadata": {
    "collapsed": true
   },
   "outputs": [],
   "source": [
    "#converting the tags column to string type\n",
    "all_data['tag'] = all_data['tag'].astype(str)"
   ]
  },
  {
   "cell_type": "code",
   "execution_count": 123,
   "metadata": {
    "collapsed": false
   },
   "outputs": [
    {
     "data": {
      "text/plain": [
       "userId                   int64\n",
       "movieId                  int64\n",
       "rating                 float64\n",
       "timestamp       datetime64[ns]\n",
       "tag                     object\n",
       "title                   object\n",
       "genres                  object\n",
       "genres1                 object\n",
       "genres2                 object\n",
       "genres3                 object\n",
       "genres4                 object\n",
       "genres5                 object\n",
       "genres6                 object\n",
       "genres7                 object\n",
       "genres8                 object\n",
       "genres9                 object\n",
       "genres10                object\n",
       "Year_release            object\n",
       "imdbId                   int64\n",
       "tmdbId                 float64\n",
       "dtype: object"
      ]
     },
     "execution_count": 123,
     "metadata": {},
     "output_type": "execute_result"
    }
   ],
   "source": [
    "#checking data type of all columns \n",
    "all_data.dtypes"
   ]
  },
  {
   "cell_type": "markdown",
   "metadata": {},
   "source": [
    "# Model based recommendation with Graphlabs"
   ]
  },
  {
   "cell_type": "code",
   "execution_count": null,
   "metadata": {
    "collapsed": false
   },
   "outputs": [],
   "source": [
    "#splitting the data into test and train 80/20\n",
    "train_data, test_data  = train_test_split(all_data , test_size=0.2, random_state=42)"
   ]
  },
  {
   "cell_type": "code",
   "execution_count": null,
   "metadata": {
    "collapsed": false
   },
   "outputs": [],
   "source": [
    "#shape of train data\n",
    "train_shape = train_data.shape\n",
    "print(\"shape of train dataset = {}\".format(train_shape))"
   ]
  },
  {
   "cell_type": "code",
   "execution_count": null,
   "metadata": {
    "collapsed": false
   },
   "outputs": [],
   "source": [
    "#No of unique values in train data\n",
    "m = train_data.nunique()\n",
    "uni_user = m[0]\n",
    "uni_movies = m[1]\n",
    "uni_ratings = m[2]\n",
    "print(\"No of unique users who have rated a movie = {} \".format(uni_user))\n",
    "print(\"No of unique movies that have been rated = {} \".format(uni_movies))\n",
    "print(\"No of unique values of ratings = {} \".format(uni_ratings))"
   ]
  },
  {
   "cell_type": "code",
   "execution_count": null,
   "metadata": {
    "collapsed": false
   },
   "outputs": [],
   "source": [
    "#shape of test dataset\n",
    "test_shape = test_data.shape\n",
    "print(\"shape of train dataset = {}\".format(test_shape))"
   ]
  },
  {
   "cell_type": "code",
   "execution_count": null,
   "metadata": {
    "collapsed": false
   },
   "outputs": [],
   "source": [
    "#No of unique values in test data\n",
    "m = test_data.nunique()\n",
    "uni_user = m[0]\n",
    "uni_movies = m[1]\n",
    "uni_ratings = m[2]\n",
    "print(\"No of unique users who have rated a movie = {} \".format(uni_user))\n",
    "print(\"No of unique movies that have been rated = {} \".format(uni_movies))\n",
    "print(\"No of unique values of ratings = {} \".format(uni_ratings))"
   ]
  },
  {
   "cell_type": "code",
   "execution_count": null,
   "metadata": {
    "collapsed": false
   },
   "outputs": [],
   "source": [
    "#Keeping a copy of the test and train dataframes to use for sampling later\n",
    "trainData = train_data\n",
    "testData = test_data\n",
    "#verifying\n",
    "print(trainData.shape)\n",
    "print(testData.shape)"
   ]
  },
  {
   "cell_type": "code",
   "execution_count": null,
   "metadata": {
    "collapsed": true
   },
   "outputs": [],
   "source": [
    "#exporting the test and train dataset to csv \n",
    "train_data.to_csv('train_data.csv')\n",
    "test_data.to_csv('test_data.csv')"
   ]
  },
  {
   "cell_type": "code",
   "execution_count": null,
   "metadata": {
    "collapsed": false
   },
   "outputs": [],
   "source": [
    "#converting the test and train dataset to Sframe\n",
    "hints = [int,int ,int ,float,str, str, str, str, str, str,str,str,str,str,str,str, str,str,float, int, float]\n",
    "train = graphlab.SFrame.read_csv('train_data.csv',column_type_hints = hints )\n",
    "test = graphlab.SFrame.read_csv('test_data.csv',column_type_hints = hints )"
   ]
  },
  {
   "cell_type": "markdown",
   "metadata": {},
   "source": [
    "Using the follwoing three approaches to solve the regression.\n",
    "* Adaptive Gradient Stochastic Gradient Descent\n",
    "* Stochastic Gradient Descent\n",
    "* Alternating Least Squares"
   ]
  },
  {
   "cell_type": "code",
   "execution_count": null,
   "metadata": {
    "collapsed": false,
    "scrolled": false
   },
   "outputs": [],
   "source": [
    "#building a factorization_recommender model using the graphLab package with 4 latent factors\n",
    "#Using adaptive gradient stochastic descent \n",
    "m1 = graphlab.factorization_recommender.create(train, target='rating', user_id='userId', item_id='movieId',solver= \"adagrad\" , user_data = user_metadata, item_data = movie_metadata, num_factors=4)"
   ]
  },
  {
   "cell_type": "code",
   "execution_count": null,
   "metadata": {
    "collapsed": false
   },
   "outputs": [],
   "source": [
    "#Using stochastic gradient descent \n",
    "m2 = graphlab.factorization_recommender.create(train, target='rating', user_id='userId', item_id='movieId', user_data = user_metadata, item_data = movie_metadata ,solver= \"sgd\" , num_factors=4)\n"
   ]
  },
  {
   "cell_type": "code",
   "execution_count": null,
   "metadata": {
    "collapsed": false
   },
   "outputs": [],
   "source": [
    "#Using Implicit Alternating Least Squares \n",
    "m3 = graphlab.factorization_recommender.create(train, target='rating', user_id='userId', item_id='movieId',solver= \"als\" ,user_data = user_metadata, item_data = movie_metadata , num_factors=4)\n"
   ]
  },
  {
   "cell_type": "markdown",
   "metadata": {},
   "source": [
    "Comparing the performance of the three models on the test data, to finalize the approach"
   ]
  },
  {
   "cell_type": "code",
   "execution_count": null,
   "metadata": {
    "collapsed": false
   },
   "outputs": [],
   "source": [
    " model_comp = graphlab.compare(test, [m1,m2, m3])"
   ]
  },
  {
   "cell_type": "code",
   "execution_count": null,
   "metadata": {
    "collapsed": false
   },
   "outputs": [],
   "source": [
    "m1.evaluate_rmse(test,target='rating')"
   ]
  },
  {
   "cell_type": "code",
   "execution_count": null,
   "metadata": {
    "collapsed": false
   },
   "outputs": [],
   "source": [
    "m2.evaluate_rmse(test,target='rating')"
   ]
  },
  {
   "cell_type": "code",
   "execution_count": null,
   "metadata": {
    "collapsed": false
   },
   "outputs": [],
   "source": [
    "m3.evaluate_rmse(test,target='rating')"
   ]
  },
  {
   "cell_type": "markdown",
   "metadata": {},
   "source": [
    "ADA model performance for different value of max iterations"
   ]
  },
  {
   "cell_type": "code",
   "execution_count": null,
   "metadata": {
    "collapsed": false
   },
   "outputs": [],
   "source": [
    "#25 iterations\n",
    "ada_m1 = graphlab.factorization_recommender.create(train, target='rating', user_id='userId', item_id='movieId',solver= \"adagrad\",user_data = user_metadata, item_data = movie_metadata  ,max_iterations=25,num_factors=4)"
   ]
  },
  {
   "cell_type": "code",
   "execution_count": null,
   "metadata": {
    "collapsed": false
   },
   "outputs": [],
   "source": [
    "#50 iterations\n",
    "ada_m2 = graphlab.factorization_recommender.create(train, target='rating', user_id='userId', item_id='movieId',user_data = user_metadata, item_data = movie_metadata,solver= \"adagrad\" ,max_iterations=50,num_factors=4)"
   ]
  },
  {
   "cell_type": "code",
   "execution_count": null,
   "metadata": {
    "collapsed": false
   },
   "outputs": [],
   "source": [
    "ada_m2['coefficients']"
   ]
  },
  {
   "cell_type": "markdown",
   "metadata": {},
   "source": [
    "Creating a visualization of the Model to helps explore and qualitatively evaluate the recommendations made by the model"
   ]
  },
  {
   "cell_type": "code",
   "execution_count": null,
   "metadata": {
    "collapsed": false
   },
   "outputs": [],
   "source": [
    "view = ada_m2.views.explore(train)\n",
    "view.show()"
   ]
  },
  {
   "cell_type": "code",
   "execution_count": null,
   "metadata": {
    "collapsed": false
   },
   "outputs": [],
   "source": [
    " ada_model_iter = graphlab.compare(test, [ada_m1, ada_m2])"
   ]
  },
  {
   "cell_type": "code",
   "execution_count": null,
   "metadata": {
    "collapsed": false
   },
   "outputs": [],
   "source": [
    "ada_m1.evaluate_rmse(test,target='rating')"
   ]
  },
  {
   "cell_type": "code",
   "execution_count": null,
   "metadata": {
    "collapsed": false
   },
   "outputs": [],
   "source": [
    "ada_m2.evaluate_rmse(test,target='rating')"
   ]
  },
  {
   "cell_type": "code",
   "execution_count": null,
   "metadata": {
    "collapsed": false
   },
   "outputs": [],
   "source": [
    "#use ada_m2 to predict ratings \n",
    "ada_m2.recommend(users=range(1,11),k=1000)"
   ]
  },
  {
   "cell_type": "markdown",
   "metadata": {},
   "source": [
    "Model performance for different values of L2 regularization"
   ]
  },
  {
   "cell_type": "code",
   "execution_count": null,
   "metadata": {
    "collapsed": false
   },
   "outputs": [],
   "source": [
    "ada_R1 = graphlab.factorization_recommender.create(train, target='rating', user_id='userId', item_id='movieId',user_data = user_metadata, item_data = movie_metadata,solver= \"adagrad\" ,regularization=1e-10,num_factors=4)\n"
   ]
  },
  {
   "cell_type": "code",
   "execution_count": null,
   "metadata": {
    "collapsed": false
   },
   "outputs": [],
   "source": [
    "ada_R2 = graphlab.factorization_recommender.create(train, target='rating', user_id='userId', item_id='movieId',user_data = user_metadata, item_data = movie_metadata,solver= \"adagrad\" ,regularization=1e-8,num_factors=4)\n"
   ]
  },
  {
   "cell_type": "code",
   "execution_count": null,
   "metadata": {
    "collapsed": false
   },
   "outputs": [],
   "source": [
    "ada_R3 = graphlab.factorization_recommender.create(train, target='rating', user_id='userId', item_id='movieId',user_data = user_metadata, item_data = movie_metadata,solver= \"adagrad\" ,regularization=1e-6,num_factors=4)\n"
   ]
  },
  {
   "cell_type": "code",
   "execution_count": null,
   "metadata": {
    "collapsed": false
   },
   "outputs": [],
   "source": [
    "ada_R4 = graphlab.factorization_recommender.create(train, target='rating', user_id='userId', item_id='movieId',user_data = user_metadata, item_data = movie_metadata,solver= \"adagrad\" ,regularization=1e-4,num_factors=4)\n"
   ]
  },
  {
   "cell_type": "code",
   "execution_count": null,
   "metadata": {
    "collapsed": false
   },
   "outputs": [],
   "source": [
    "ada_R5 = graphlab.factorization_recommender.create(train, target='rating', user_id='userId', item_id='movieId',user_data = user_metadata, item_data = movie_metadata,solver= \"adagrad\" ,regularization=1e-2,num_factors=4)\n"
   ]
  },
  {
   "cell_type": "markdown",
   "metadata": {},
   "source": [
    "Precision-Recall Plot of ada_R1,ada_R2,ada_R3,ada_R4,ada_R5"
   ]
  },
  {
   "cell_type": "code",
   "execution_count": null,
   "metadata": {
    "collapsed": false,
    "scrolled": true
   },
   "outputs": [],
   "source": [
    "model_comp1 = graphlab.compare(test, [ada_R1,ada_R2,ada_R3,ada_R4,ada_R5],target='rating')\n",
    "model_comp1_df = model_comp1.to_dataframe()\n",
    "\n",
    "fig, ax = plt.subplots(1, 1)\n",
    "for i in range(0,len(model_comp1_df.index)):\n",
    "    xy_dict= model_comp1_df.loc[i,\"results\"]['precision_recall']\n",
    "    xy = pd.DataFrame(xy_dict)    \n",
    "    label1= model_comp1_df.loc[i,\"model\"]\n",
    "    xy.plot(x='recall',y= 'precision',ax=ax,label=label1)\n",
    "    \n",
    "plt.show()\n"
   ]
  },
  {
   "cell_type": "code",
   "execution_count": null,
   "metadata": {
    "collapsed": false
   },
   "outputs": [],
   "source": [
    "model_comp1 =graphlab.recommender.util.compare_models(test, [ada_R1,ada_R2,ada_R3,ada_R4,ada_R5], model_names=None,\n",
    "                                         user_sample=1.0, metric='rmse',\n",
    "                                         target='rating', exclude_known_for_precision_recall=True, \n",
    "                                         make_plot=False, verbose=False)\n",
    "#fig, ax = plt.subplots(1, 1)\n",
    "rmse_data = {'model':['ada_R1','ada_R2','ada_R3','ada_R4','ada_R5'], 'rmse':[]}\n",
    "for i in range(0,len(model_comp1)):\n",
    "    rmse_data['rmse'].append(model_comp1[i]['rmse_overall'])\n",
    "    \n",
    "\n",
    "rmse_df=pd.DataFrame(rmse_data)\n",
    "rmse_df.plot(x='model',y='rmse')\n",
    "plt.show()"
   ]
  },
  {
   "cell_type": "code",
   "execution_count": null,
   "metadata": {
    "collapsed": false
   },
   "outputs": [],
   "source": [
    "ada_R1.evaluate_rmse(test,target='rating')"
   ]
  },
  {
   "cell_type": "code",
   "execution_count": null,
   "metadata": {
    "collapsed": false
   },
   "outputs": [],
   "source": [
    "ada_R2.evaluate_rmse(test,target='rating')"
   ]
  },
  {
   "cell_type": "code",
   "execution_count": null,
   "metadata": {
    "collapsed": false
   },
   "outputs": [],
   "source": [
    "ada_R3.evaluate_rmse(test,target='rating')"
   ]
  },
  {
   "cell_type": "code",
   "execution_count": null,
   "metadata": {
    "collapsed": true
   },
   "outputs": [],
   "source": []
  },
  {
   "cell_type": "code",
   "execution_count": null,
   "metadata": {
    "collapsed": false
   },
   "outputs": [],
   "source": [
    "ada_NF1 = graphlab.factorization_recommender.create(train, target='rating', user_id='userId', item_id='movieId',user_data = user_metadata, item_data = movie_metadata,solver= \"adagrad\" ,regularization=1e-6,num_factors=2)\n"
   ]
  },
  {
   "cell_type": "code",
   "execution_count": null,
   "metadata": {
    "collapsed": false
   },
   "outputs": [],
   "source": [
    "ada_NF2 = graphlab.factorization_recommender.create(train, target='rating', user_id='userId', item_id='movieId',user_data = user_metadata, item_data = movie_metadata,solver= \"adagrad\" ,regularization=1e-6,num_factors=4)\n"
   ]
  },
  {
   "cell_type": "code",
   "execution_count": null,
   "metadata": {
    "collapsed": false,
    "scrolled": true
   },
   "outputs": [],
   "source": [
    "ada_NF3 = graphlab.factorization_recommender.create(train, target='rating', user_id='userId', item_id='movieId',user_data = user_metadata, item_data = movie_metadata,solver= \"adagrad\" ,regularization=1e-6,num_factors=6)\n"
   ]
  },
  {
   "cell_type": "code",
   "execution_count": null,
   "metadata": {
    "collapsed": false
   },
   "outputs": [],
   "source": [
    "ada_NF4 = graphlab.factorization_recommender.create(train, target='rating', user_id='userId', item_id='movieId',user_data = user_metadata, item_data = movie_metadata,solver= \"adagrad\" ,regularization=1e-6,num_factors=8)\n"
   ]
  },
  {
   "cell_type": "code",
   "execution_count": null,
   "metadata": {
    "collapsed": false
   },
   "outputs": [],
   "source": [
    "ada_NF5 = graphlab.factorization_recommender.create(train, target='rating', user_id='userId', item_id='movieId',user_data = user_metadata, item_data = movie_metadata,solver= \"adagrad\" ,regularization=1e-6,num_factors=10)\n"
   ]
  },
  {
   "cell_type": "code",
   "execution_count": null,
   "metadata": {
    "collapsed": false
   },
   "outputs": [],
   "source": [
    "model_comp1 = graphlab.compare(test, [ada_NF1,ada_NF2,ada_NF3,ada_NF4,ada_NF5],target='rating')\n",
    "model_comp1_df = model_comp1.to_dataframe()"
   ]
  },
  {
   "cell_type": "code",
   "execution_count": null,
   "metadata": {
    "collapsed": false
   },
   "outputs": [],
   "source": [
    "fig, ax = plt.subplots(1, 1)\n",
    "for i in range(0,len(model_comp1_df.index)):\n",
    "    xy_dict= model_comp1_df.loc[i,\"results\"]['precision_recall']\n",
    "    xy = pd.DataFrame(xy_dict)    \n",
    "    #xy.plot(x='recall',y= 'precision',ax=ax)\n",
    "    label1= model_comp1_df.loc[i,\"model\"]\n",
    "    xy.plot(x='recall',y= 'precision',ax=ax,label=label1)\n",
    "    \n",
    "plt.show()"
   ]
  },
  {
   "cell_type": "code",
   "execution_count": null,
   "metadata": {
    "collapsed": false
   },
   "outputs": [],
   "source": [
    "model_comp1 =graphlab.recommender.util.compare_models(test, [ada_NF1,ada_NF2,ada_NF3,ada_NF4,ada_NF5], model_names=None,\n",
    "                                         user_sample=1.0, metric='rmse',\n",
    "                                         target='rating', exclude_known_for_precision_recall=True, \n",
    "                                         make_plot=False, verbose=False)\n",
    "#fig, ax = plt.subplots(1, 1)\n",
    "rmse_data = {'model':['ada_NF1','ada_NF2','ada_NF3','ada_NF4','ada_NF5'], 'rmse':[]}\n",
    "for i in range(0,len(model_comp1)):\n",
    "    rmse_data['rmse'].append(model_comp1[i]['rmse_overall'])\n",
    "    \n",
    "\n",
    "rmse_df=pd.DataFrame(rmse_data)\n",
    "rmse_df.plot(x='model',y='rmse')\n",
    "plt.show()\n"
   ]
  },
  {
   "cell_type": "markdown",
   "metadata": {},
   "source": [
    "# Evaluating Model Performance For Different Sample Sizes"
   ]
  },
  {
   "cell_type": "code",
   "execution_count": null,
   "metadata": {
    "collapsed": false
   },
   "outputs": [],
   "source": [
    "train_sample1 = trainData.sample(frac =0.25,replace =False)\n",
    "train_sample2 = trainData.sample(frac =0.5,replace =False)\n",
    "train_sample3 = trainData.sample(frac =0.75,replace =False)\n",
    "print(\"Training sample-1 shape - {}\".format(train_sample1.shape))\n",
    "print(\"Training sample-2 shape - {}\".format(train_sample2.shape))\n",
    "print(\"Training sample-3 shape - {}\".format(train_sample3.shape))"
   ]
  },
  {
   "cell_type": "code",
   "execution_count": null,
   "metadata": {
    "collapsed": true
   },
   "outputs": [],
   "source": [
    "#converting data to csv for Sframe parsing\n",
    "train_sample1.to_csv(\"train_data1.csv\")\n",
    "train_sample2.to_csv(\"train_data2.csv\")\n",
    "train_sample3.to_csv(\"train_data3.csv\")"
   ]
  },
  {
   "cell_type": "code",
   "execution_count": null,
   "metadata": {
    "collapsed": false
   },
   "outputs": [],
   "source": [
    "#converting the train datasets to Sframe\n",
    "hints = [int,int ,int ,float,str, str, str, str, str, str,str,str,str,str,str,str, str,str,float, int, float]\n",
    "train1 = graphlab.SFrame.read_csv('train_data1.csv',column_type_hints = hints )\n",
    "train2 = graphlab.SFrame.read_csv('train_data2.csv',column_type_hints = hints )\n",
    "train3 = graphlab.SFrame.read_csv('train_data3.csv',column_type_hints = hints )"
   ]
  },
  {
   "cell_type": "markdown",
   "metadata": {},
   "source": [
    "Building a factorization_recommender model using the graphLab package with 4 latent factors\n",
    "Using adaptive gradient stochastic descent "
   ]
  },
  {
   "cell_type": "code",
   "execution_count": null,
   "metadata": {
    "collapsed": false
   },
   "outputs": [],
   "source": [
    "m1_t1 = graphlab.factorization_recommender.create(train1, target='rating', user_id='userId',\n",
    "                                               item_id='movieId',solver= \"adagrad\" , user_data = user_metadata,\n",
    "                                               item_data = movie_metadata, num_factors=4)\n",
    "m1_t2 = graphlab.factorization_recommender.create(train2, target='rating', user_id='userId',\n",
    "                                               item_id='movieId',solver= \"adagrad\" , user_data = user_metadata,\n",
    "                                               item_data = movie_metadata, num_factors=4)\n",
    "m1_t3 = graphlab.factorization_recommender.create(train3, target='rating', user_id='userId',\n",
    "                                               item_id='movieId',solver= \"adagrad\" , user_data = user_metadata,\n",
    "                                               item_data = movie_metadata, num_factors=4)\n"
   ]
  },
  {
   "cell_type": "code",
   "execution_count": null,
   "metadata": {
    "collapsed": false
   },
   "outputs": [],
   "source": [
    "graphlab.recommender.util.compare_models(test, [m1_t1,m1_t2,m1_t3,m1], model_names=[\"m1_t1\",\"m1_t2\",\"m1_t3\",\"m1\"],\n",
    "                                         user_sample=1.0, metric='auto',\n",
    "                                         target='rating', exclude_known_for_precision_recall=True, \n",
    "                                         make_plot=True, verbose=False)"
   ]
  },
  {
   "cell_type": "code",
   "execution_count": null,
   "metadata": {
    "collapsed": false
   },
   "outputs": [],
   "source": [
    "model_comp1 = graphlab.compare(test, [m1_t1,m1_t2,m1_t3,m1],target='rating')"
   ]
  },
  {
   "cell_type": "markdown",
   "metadata": {},
   "source": [
    "# Plotting Model Performance Using The Evaluation Results (to-do)"
   ]
  },
  {
   "cell_type": "code",
   "execution_count": null,
   "metadata": {
    "collapsed": false
   },
   "outputs": [],
   "source": [
    "model_comp1.dtype"
   ]
  },
  {
   "cell_type": "code",
   "execution_count": null,
   "metadata": {
    "collapsed": false,
    "scrolled": true
   },
   "outputs": [],
   "source": [
    "model_comp1_df = model_comp1.to_dataframe()\n",
    "xy_dict= model_comp1_df.loc[0,\"results\"]\n",
    "xy_dict"
   ]
  },
  {
   "cell_type": "code",
   "execution_count": null,
   "metadata": {
    "collapsed": false,
    "scrolled": true
   },
   "outputs": [],
   "source": [
    "fig, ax = plt.subplots(1, 1)\n",
    "for i in range(0,len(model_comp1_df.index)):\n",
    "    xy_dict= model_comp1_df.loc[i,\"results\"]['precision_recall']\n",
    "    xy = pd.DataFrame(xy_dict)    \n",
    "    xy.plot(x='recall',y= 'precision',ax=ax)\n",
    "plt.show()"
   ]
  },
  {
   "cell_type": "markdown",
   "metadata": {},
   "source": [
    "# Cross Validation "
   ]
  },
  {
   "cell_type": "code",
   "execution_count": 138,
   "metadata": {
    "collapsed": false,
    "scrolled": true
   },
   "outputs": [
    {
     "data": {
      "text/html": [
       "<pre>Finished parsing file /Users/B.Patel@ibm.com/Downloads/full_dataset.csv</pre>"
      ],
      "text/plain": [
       "Finished parsing file /Users/B.Patel@ibm.com/Downloads/full_dataset.csv"
      ]
     },
     "metadata": {},
     "output_type": "display_data"
    },
    {
     "data": {
      "text/html": [
       "<pre>Parsing completed. Parsed 100004 lines in 0.748076 secs.</pre>"
      ],
      "text/plain": [
       "Parsing completed. Parsed 100004 lines in 0.748076 secs."
      ]
     },
     "metadata": {},
     "output_type": "display_data"
    },
    {
     "data": {
      "text/html": [
       "<pre>Recsys training: model = factorization_recommender</pre>"
      ],
      "text/plain": [
       "Recsys training: model = factorization_recommender"
      ]
     },
     "metadata": {},
     "output_type": "display_data"
    },
    {
     "data": {
      "text/html": [
       "<pre>Preparing data set.</pre>"
      ],
      "text/plain": [
       "Preparing data set."
      ]
     },
     "metadata": {},
     "output_type": "display_data"
    },
    {
     "data": {
      "text/html": [
       "<pre>    Data has 80003 observations with 671 users and 9125 items.</pre>"
      ],
      "text/plain": [
       "    Data has 80003 observations with 671 users and 9125 items."
      ]
     },
     "metadata": {},
     "output_type": "display_data"
    },
    {
     "data": {
      "text/html": [
       "<pre>    Data prepared in: 1.01537s</pre>"
      ],
      "text/plain": [
       "    Data prepared in: 1.01537s"
      ]
     },
     "metadata": {},
     "output_type": "display_data"
    },
    {
     "data": {
      "text/html": [
       "<pre>Training factorization_recommender for recommendations.</pre>"
      ],
      "text/plain": [
       "Training factorization_recommender for recommendations."
      ]
     },
     "metadata": {},
     "output_type": "display_data"
    },
    {
     "data": {
      "text/html": [
       "<pre>+--------------------------------+--------------------------------------------------+----------+</pre>"
      ],
      "text/plain": [
       "+--------------------------------+--------------------------------------------------+----------+"
      ]
     },
     "metadata": {},
     "output_type": "display_data"
    },
    {
     "data": {
      "text/html": [
       "<pre>| Parameter                      | Description                                      | Value    |</pre>"
      ],
      "text/plain": [
       "| Parameter                      | Description                                      | Value    |"
      ]
     },
     "metadata": {},
     "output_type": "display_data"
    },
    {
     "data": {
      "text/html": [
       "<pre>+--------------------------------+--------------------------------------------------+----------+</pre>"
      ],
      "text/plain": [
       "+--------------------------------+--------------------------------------------------+----------+"
      ]
     },
     "metadata": {},
     "output_type": "display_data"
    },
    {
     "data": {
      "text/html": [
       "<pre>| num_factors                    | Factor Dimension                                 | 4        |</pre>"
      ],
      "text/plain": [
       "| num_factors                    | Factor Dimension                                 | 4        |"
      ]
     },
     "metadata": {},
     "output_type": "display_data"
    },
    {
     "data": {
      "text/html": [
       "<pre>| regularization                 | L2 Regularization on Factors                     | 1e-08    |</pre>"
      ],
      "text/plain": [
       "| regularization                 | L2 Regularization on Factors                     | 1e-08    |"
      ]
     },
     "metadata": {},
     "output_type": "display_data"
    },
    {
     "data": {
      "text/html": [
       "<pre>| solver                         | Solver used for training                         | adagrad  |</pre>"
      ],
      "text/plain": [
       "| solver                         | Solver used for training                         | adagrad  |"
      ]
     },
     "metadata": {},
     "output_type": "display_data"
    },
    {
     "data": {
      "text/html": [
       "<pre>| linear_regularization          | L2 Regularization on Linear Coefficients         | 1e-10    |</pre>"
      ],
      "text/plain": [
       "| linear_regularization          | L2 Regularization on Linear Coefficients         | 1e-10    |"
      ]
     },
     "metadata": {},
     "output_type": "display_data"
    },
    {
     "data": {
      "text/html": [
       "<pre>| side_data_factorization        | Assign Factors for Side Data                     | True     |</pre>"
      ],
      "text/plain": [
       "| side_data_factorization        | Assign Factors for Side Data                     | True     |"
      ]
     },
     "metadata": {},
     "output_type": "display_data"
    },
    {
     "data": {
      "text/html": [
       "<pre>| max_iterations                 | Maximum Number of Iterations                     | 50       |</pre>"
      ],
      "text/plain": [
       "| max_iterations                 | Maximum Number of Iterations                     | 50       |"
      ]
     },
     "metadata": {},
     "output_type": "display_data"
    },
    {
     "data": {
      "text/html": [
       "<pre>+--------------------------------+--------------------------------------------------+----------+</pre>"
      ],
      "text/plain": [
       "+--------------------------------+--------------------------------------------------+----------+"
      ]
     },
     "metadata": {},
     "output_type": "display_data"
    },
    {
     "data": {
      "text/html": [
       "<pre>  Optimizing model using SGD; tuning step size.</pre>"
      ],
      "text/plain": [
       "  Optimizing model using SGD; tuning step size."
      ]
     },
     "metadata": {},
     "output_type": "display_data"
    },
    {
     "data": {
      "text/html": [
       "<pre>  Using 10000 / 80003 points for tuning the step size.</pre>"
      ],
      "text/plain": [
       "  Using 10000 / 80003 points for tuning the step size."
      ]
     },
     "metadata": {},
     "output_type": "display_data"
    },
    {
     "data": {
      "text/html": [
       "<pre>+---------+-------------------+------------------------------------------+</pre>"
      ],
      "text/plain": [
       "+---------+-------------------+------------------------------------------+"
      ]
     },
     "metadata": {},
     "output_type": "display_data"
    },
    {
     "data": {
      "text/html": [
       "<pre>| Attempt | Initial Step Size | Estimated Objective Value                |</pre>"
      ],
      "text/plain": [
       "| Attempt | Initial Step Size | Estimated Objective Value                |"
      ]
     },
     "metadata": {},
     "output_type": "display_data"
    },
    {
     "data": {
      "text/html": [
       "<pre>+---------+-------------------+------------------------------------------+</pre>"
      ],
      "text/plain": [
       "+---------+-------------------+------------------------------------------+"
      ]
     },
     "metadata": {},
     "output_type": "display_data"
    },
    {
     "data": {
      "text/html": [
       "<pre>| 0       | 1.21951           | Not Viable                               |</pre>"
      ],
      "text/plain": [
       "| 0       | 1.21951           | Not Viable                               |"
      ]
     },
     "metadata": {},
     "output_type": "display_data"
    },
    {
     "data": {
      "text/html": [
       "<pre>| 1       | 0.304878          | Not Viable                               |</pre>"
      ],
      "text/plain": [
       "| 1       | 0.304878          | Not Viable                               |"
      ]
     },
     "metadata": {},
     "output_type": "display_data"
    },
    {
     "data": {
      "text/html": [
       "<pre>| 2       | 0.0762195         | 0.0960712                                |</pre>"
      ],
      "text/plain": [
       "| 2       | 0.0762195         | 0.0960712                                |"
      ]
     },
     "metadata": {},
     "output_type": "display_data"
    },
    {
     "data": {
      "text/html": [
       "<pre>| 3       | 0.0381098         | 0.165709                                 |</pre>"
      ],
      "text/plain": [
       "| 3       | 0.0381098         | 0.165709                                 |"
      ]
     },
     "metadata": {},
     "output_type": "display_data"
    },
    {
     "data": {
      "text/html": [
       "<pre>| 4       | 0.0190549         | 0.322107                                 |</pre>"
      ],
      "text/plain": [
       "| 4       | 0.0190549         | 0.322107                                 |"
      ]
     },
     "metadata": {},
     "output_type": "display_data"
    },
    {
     "data": {
      "text/html": [
       "<pre>+---------+-------------------+------------------------------------------+</pre>"
      ],
      "text/plain": [
       "+---------+-------------------+------------------------------------------+"
      ]
     },
     "metadata": {},
     "output_type": "display_data"
    },
    {
     "data": {
      "text/html": [
       "<pre>| Final   | 0.0762195         | 0.0960712                                |</pre>"
      ],
      "text/plain": [
       "| Final   | 0.0762195         | 0.0960712                                |"
      ]
     },
     "metadata": {},
     "output_type": "display_data"
    },
    {
     "data": {
      "text/html": [
       "<pre>+---------+-------------------+------------------------------------------+</pre>"
      ],
      "text/plain": [
       "+---------+-------------------+------------------------------------------+"
      ]
     },
     "metadata": {},
     "output_type": "display_data"
    },
    {
     "data": {
      "text/html": [
       "<pre>Starting Optimization.</pre>"
      ],
      "text/plain": [
       "Starting Optimization."
      ]
     },
     "metadata": {},
     "output_type": "display_data"
    },
    {
     "data": {
      "text/html": [
       "<pre>+---------+--------------+-------------------+-----------------------+-------------+</pre>"
      ],
      "text/plain": [
       "+---------+--------------+-------------------+-----------------------+-------------+"
      ]
     },
     "metadata": {},
     "output_type": "display_data"
    },
    {
     "data": {
      "text/html": [
       "<pre>| Iter.   | Elapsed Time | Approx. Objective | Approx. Training RMSE | Step Size   |</pre>"
      ],
      "text/plain": [
       "| Iter.   | Elapsed Time | Approx. Objective | Approx. Training RMSE | Step Size   |"
      ]
     },
     "metadata": {},
     "output_type": "display_data"
    },
    {
     "data": {
      "text/html": [
       "<pre>+---------+--------------+-------------------+-----------------------+-------------+</pre>"
      ],
      "text/plain": [
       "+---------+--------------+-------------------+-----------------------+-------------+"
      ]
     },
     "metadata": {},
     "output_type": "display_data"
    },
    {
     "data": {
      "text/html": [
       "<pre>| Initial | 114us        | 1.11523           | 1.05604               |             |</pre>"
      ],
      "text/plain": [
       "| Initial | 114us        | 1.11523           | 1.05604               |             |"
      ]
     },
     "metadata": {},
     "output_type": "display_data"
    },
    {
     "data": {
      "text/html": [
       "<pre>+---------+--------------+-------------------+-----------------------+-------------+</pre>"
      ],
      "text/plain": [
       "+---------+--------------+-------------------+-----------------------+-------------+"
      ]
     },
     "metadata": {},
     "output_type": "display_data"
    },
    {
     "data": {
      "text/html": [
       "<pre>| 1       | 282.464ms    | 0.884773          | 0.940607              | 0.0762195   |</pre>"
      ],
      "text/plain": [
       "| 1       | 282.464ms    | 0.884773          | 0.940607              | 0.0762195   |"
      ]
     },
     "metadata": {},
     "output_type": "display_data"
    },
    {
     "data": {
      "text/html": [
       "<pre>| 2       | 579.938ms    | 0.562209          | 0.749784              | 0.0762195   |</pre>"
      ],
      "text/plain": [
       "| 2       | 579.938ms    | 0.562209          | 0.749784              | 0.0762195   |"
      ]
     },
     "metadata": {},
     "output_type": "display_data"
    },
    {
     "data": {
      "text/html": [
       "<pre>| 3       | 889.021ms    | 0.425104          | 0.651971              | 0.0762195   |</pre>"
      ],
      "text/plain": [
       "| 3       | 889.021ms    | 0.425104          | 0.651971              | 0.0762195   |"
      ]
     },
     "metadata": {},
     "output_type": "display_data"
    },
    {
     "data": {
      "text/html": [
       "<pre>| 4       | 1.17s        | 0.344961          | 0.587297              | 0.0762195   |</pre>"
      ],
      "text/plain": [
       "| 4       | 1.17s        | 0.344961          | 0.587297              | 0.0762195   |"
      ]
     },
     "metadata": {},
     "output_type": "display_data"
    },
    {
     "data": {
      "text/html": [
       "<pre>| 5       | 1.45s        | 0.288554          | 0.537128              | 0.0762195   |</pre>"
      ],
      "text/plain": [
       "| 5       | 1.45s        | 0.288554          | 0.537128              | 0.0762195   |"
      ]
     },
     "metadata": {},
     "output_type": "display_data"
    },
    {
     "data": {
      "text/html": [
       "<pre>| 6       | 1.74s        | 0.246484          | 0.496418              | 0.0762195   |</pre>"
      ],
      "text/plain": [
       "| 6       | 1.74s        | 0.246484          | 0.496418              | 0.0762195   |"
      ]
     },
     "metadata": {},
     "output_type": "display_data"
    },
    {
     "data": {
      "text/html": [
       "<pre>| 10      | 2.84s        | 0.146466          | 0.38262               | 0.0762195   |</pre>"
      ],
      "text/plain": [
       "| 10      | 2.84s        | 0.146466          | 0.38262               | 0.0762195   |"
      ]
     },
     "metadata": {},
     "output_type": "display_data"
    },
    {
     "data": {
      "text/html": [
       "<pre>| 11      | 3.13s        | 0.130465          | 0.361101              | 0.0762195   |</pre>"
      ],
      "text/plain": [
       "| 11      | 3.13s        | 0.130465          | 0.361101              | 0.0762195   |"
      ]
     },
     "metadata": {},
     "output_type": "display_data"
    },
    {
     "data": {
      "text/html": [
       "<pre>| 15      | 4.36s        | 0.0858482         | 0.292858              | 0.0762195   |</pre>"
      ],
      "text/plain": [
       "| 15      | 4.36s        | 0.0858482         | 0.292858              | 0.0762195   |"
      ]
     },
     "metadata": {},
     "output_type": "display_data"
    },
    {
     "data": {
      "text/html": [
       "<pre>| 20      | 5.71s        | 0.0560621         | 0.236581              | 0.0762195   |</pre>"
      ],
      "text/plain": [
       "| 20      | 5.71s        | 0.0560621         | 0.236581              | 0.0762195   |"
      ]
     },
     "metadata": {},
     "output_type": "display_data"
    },
    {
     "data": {
      "text/html": [
       "<pre>| 25      | 7.05s        | 0.0399838         | 0.199715              | 0.0762195   |</pre>"
      ],
      "text/plain": [
       "| 25      | 7.05s        | 0.0399838         | 0.199715              | 0.0762195   |"
      ]
     },
     "metadata": {},
     "output_type": "display_data"
    },
    {
     "data": {
      "text/html": [
       "<pre>| 30      | 8.35s        | 0.0304275         | 0.174142              | 0.0762195   |</pre>"
      ],
      "text/plain": [
       "| 30      | 8.35s        | 0.0304275         | 0.174142              | 0.0762195   |"
      ]
     },
     "metadata": {},
     "output_type": "display_data"
    },
    {
     "data": {
      "text/html": [
       "<pre>| 35      | 9.63s        | 0.0246883         | 0.15679               | 0.0762195   |</pre>"
      ],
      "text/plain": [
       "| 35      | 9.63s        | 0.0246883         | 0.15679               | 0.0762195   |"
      ]
     },
     "metadata": {},
     "output_type": "display_data"
    },
    {
     "data": {
      "text/html": [
       "<pre>| 40      | 10.95s       | 0.0205848         | 0.143098              | 0.0762195   |</pre>"
      ],
      "text/plain": [
       "| 40      | 10.95s       | 0.0205848         | 0.143098              | 0.0762195   |"
      ]
     },
     "metadata": {},
     "output_type": "display_data"
    },
    {
     "data": {
      "text/html": [
       "<pre>| 45      | 12.26s       | 0.017841          | 0.133159              | 0.0762195   |</pre>"
      ],
      "text/plain": [
       "| 45      | 12.26s       | 0.017841          | 0.133159              | 0.0762195   |"
      ]
     },
     "metadata": {},
     "output_type": "display_data"
    },
    {
     "data": {
      "text/html": [
       "<pre>| 50      | 13.57s       | 0.0155094         | 0.12409               | 0.0762195   |</pre>"
      ],
      "text/plain": [
       "| 50      | 13.57s       | 0.0155094         | 0.12409               | 0.0762195   |"
      ]
     },
     "metadata": {},
     "output_type": "display_data"
    },
    {
     "data": {
      "text/html": [
       "<pre>+---------+--------------+-------------------+-----------------------+-------------+</pre>"
      ],
      "text/plain": [
       "+---------+--------------+-------------------+-----------------------+-------------+"
      ]
     },
     "metadata": {},
     "output_type": "display_data"
    },
    {
     "data": {
      "text/html": [
       "<pre>Optimization Complete: Maximum number of passes through the data reached.</pre>"
      ],
      "text/plain": [
       "Optimization Complete: Maximum number of passes through the data reached."
      ]
     },
     "metadata": {},
     "output_type": "display_data"
    },
    {
     "data": {
      "text/html": [
       "<pre>Computing final objective value and training RMSE.</pre>"
      ],
      "text/plain": [
       "Computing final objective value and training RMSE."
      ]
     },
     "metadata": {},
     "output_type": "display_data"
    },
    {
     "data": {
      "text/html": [
       "<pre>       Final objective value: 0.0147145</pre>"
      ],
      "text/plain": [
       "       Final objective value: 0.0147145"
      ]
     },
     "metadata": {},
     "output_type": "display_data"
    },
    {
     "data": {
      "text/html": [
       "<pre>       Final training RMSE: 0.120845</pre>"
      ],
      "text/plain": [
       "       Final training RMSE: 0.120845"
      ]
     },
     "metadata": {},
     "output_type": "display_data"
    },
    {
     "name": "stdout",
     "output_type": "stream",
     "text": [
      "\n",
      "Precision and recall summary statistics by cutoff\n",
      "+--------+----------------+-------------+\n",
      "| cutoff | mean_precision | mean_recall |\n",
      "+--------+----------------+-------------+\n",
      "|   1    |      0.0       |     0.0     |\n",
      "|   2    |      0.0       |     0.0     |\n",
      "|   3    |      0.0       |     0.0     |\n",
      "|   4    |      0.0       |     0.0     |\n",
      "|   5    |      0.0       |     0.0     |\n",
      "|   6    |      0.0       |     0.0     |\n",
      "|   7    |      0.0       |     0.0     |\n",
      "|   8    |      0.0       |     0.0     |\n",
      "|   9    |      0.0       |     0.0     |\n",
      "|   10   |      0.0       |     0.0     |\n",
      "+--------+----------------+-------------+\n",
      "[10 rows x 3 columns]\n",
      "\n",
      "('\\nOverall RMSE: ', 1.0144651692126367)\n",
      "\n",
      "Per User RMSE (best)\n",
      "+--------+-------+----------------+\n",
      "| userId | count |      rmse      |\n",
      "+--------+-------+----------------+\n",
      "|   72   |  191  | 0.499426973379 |\n",
      "+--------+-------+----------------+\n",
      "[1 rows x 3 columns]\n",
      "\n",
      "\n",
      "Per User RMSE (worst)\n",
      "+--------+-------+---------------+\n",
      "| userId | count |      rmse     |\n",
      "+--------+-------+---------------+\n",
      "|   46   |   39  | 1.89920822749 |\n",
      "+--------+-------+---------------+\n",
      "[1 rows x 3 columns]\n",
      "\n",
      "\n",
      "Per Item RMSE (best)\n",
      "+---------+-------+-------------------+\n",
      "| movieId | count |        rmse       |\n",
      "+---------+-------+-------------------+\n",
      "|  99468  |   1   | 0.000381263528191 |\n",
      "+---------+-------+-------------------+\n",
      "[1 rows x 3 columns]\n",
      "\n",
      "\n",
      "Per Item RMSE (worst)\n",
      "+---------+-------+---------------+\n",
      "| movieId | count |      rmse     |\n",
      "+---------+-------+---------------+\n",
      "|  27800  |   2   | 6.00088467633 |\n",
      "+---------+-------+---------------+\n",
      "[1 rows x 3 columns]\n",
      "\n",
      "{'rmse_by_user': Columns:\n",
      "\tuserId\tint\n",
      "\tcount\tint\n",
      "\trmse\tfloat\n",
      "\n",
      "Rows: 133\n",
      "\n",
      "Data:\n",
      "+--------+-------+----------------+\n",
      "| userId | count |      rmse      |\n",
      "+--------+-------+----------------+\n",
      "|  118   |  189  | 0.84517459707  |\n",
      "|   49   |   99  | 0.982742149725 |\n",
      "|   13   |   53  | 0.776381343117 |\n",
      "|   60   |   55  | 0.813417533665 |\n",
      "|  132   |   94  | 1.12083129763  |\n",
      "|   36   |  104  | 0.778341146901 |\n",
      "|  116   |   25  | 1.26901143418  |\n",
      "|  105   |  525  | 0.697890283355 |\n",
      "|   24   |   21  | 0.753009321073 |\n",
      "|   2    |   76  | 0.95956999186  |\n",
      "+--------+-------+----------------+\n",
      "[133 rows x 3 columns]\n",
      "Note: Only the head of the SFrame is printed.\n",
      "You can use print_rows(num_rows=m, num_columns=n) to print more rows and columns., 'precision_recall_overall': Columns:\n",
      "\tcutoff\tint\n",
      "\tprecision\tfloat\n",
      "\trecall\tfloat\n",
      "\n",
      "Rows: 18\n",
      "\n",
      "Data:\n",
      "+--------+-----------+--------+\n",
      "| cutoff | precision | recall |\n",
      "+--------+-----------+--------+\n",
      "|   1    |    0.0    |  0.0   |\n",
      "|   2    |    0.0    |  0.0   |\n",
      "|   3    |    0.0    |  0.0   |\n",
      "|   4    |    0.0    |  0.0   |\n",
      "|   5    |    0.0    |  0.0   |\n",
      "|   6    |    0.0    |  0.0   |\n",
      "|   7    |    0.0    |  0.0   |\n",
      "|   8    |    0.0    |  0.0   |\n",
      "|   9    |    0.0    |  0.0   |\n",
      "|   10   |    0.0    |  0.0   |\n",
      "+--------+-----------+--------+\n",
      "[18 rows x 3 columns]\n",
      "Note: Only the head of the SFrame is printed.\n",
      "You can use print_rows(num_rows=m, num_columns=n) to print more rows and columns., 'rmse_by_item': Columns:\n",
      "\tmovieId\tint\n",
      "\tcount\tint\n",
      "\trmse\tfloat\n",
      "\n",
      "Rows: 4722\n",
      "\n",
      "Data:\n",
      "+---------+-------+----------------+\n",
      "| movieId | count |      rmse      |\n",
      "+---------+-------+----------------+\n",
      "|  101076 |   1   | 1.72520923894  |\n",
      "|   2779  |   3   | 1.19751289193  |\n",
      "|   118   |   1   | 0.504824162113 |\n",
      "|   3988  |   6   | 0.853396654972 |\n",
      "|  64614  |   9   | 0.787077333137 |\n",
      "|   2925  |   3   | 0.305314211024 |\n",
      "|  108689 |   1   | 0.754519478052 |\n",
      "|  102753 |   1   | 2.51502155202  |\n",
      "|   2871  |   10  | 0.641997840948 |\n",
      "|  93272  |   1   | 0.873937848255 |\n",
      "+---------+-------+----------------+\n",
      "[4722 rows x 3 columns]\n",
      "Note: Only the head of the SFrame is printed.\n",
      "You can use print_rows(num_rows=m, num_columns=n) to print more rows and columns., 'precision_recall_by_user': Columns:\n",
      "\tuserId\tint\n",
      "\tcutoff\tint\n",
      "\tprecision\tfloat\n",
      "\trecall\tfloat\n",
      "\tcount\tint\n",
      "\n",
      "Rows: 2394\n",
      "\n",
      "Data:\n",
      "+--------+--------+-----------+--------+-------+\n",
      "| userId | cutoff | precision | recall | count |\n",
      "+--------+--------+-----------+--------+-------+\n",
      "|   1    |   1    |    0.0    |  0.0   |   20  |\n",
      "|   1    |   2    |    0.0    |  0.0   |   20  |\n",
      "|   1    |   3    |    0.0    |  0.0   |   20  |\n",
      "|   1    |   4    |    0.0    |  0.0   |   20  |\n",
      "|   1    |   5    |    0.0    |  0.0   |   20  |\n",
      "|   1    |   6    |    0.0    |  0.0   |   20  |\n",
      "|   1    |   7    |    0.0    |  0.0   |   20  |\n",
      "|   1    |   8    |    0.0    |  0.0   |   20  |\n",
      "|   1    |   9    |    0.0    |  0.0   |   20  |\n",
      "|   1    |   10   |    0.0    |  0.0   |   20  |\n",
      "+--------+--------+-----------+--------+-------+\n",
      "[2394 rows x 5 columns]\n",
      "Note: Only the head of the SFrame is printed.\n",
      "You can use print_rows(num_rows=m, num_columns=n) to print more rows and columns., 'rmse_overall': 1.0144651692126367}\n"
     ]
    },
    {
     "data": {
      "text/html": [
       "<pre>Recsys training: model = factorization_recommender</pre>"
      ],
      "text/plain": [
       "Recsys training: model = factorization_recommender"
      ]
     },
     "metadata": {},
     "output_type": "display_data"
    },
    {
     "data": {
      "text/html": [
       "<pre>Preparing data set.</pre>"
      ],
      "text/plain": [
       "Preparing data set."
      ]
     },
     "metadata": {},
     "output_type": "display_data"
    },
    {
     "data": {
      "text/html": [
       "<pre>    Data has 80003 observations with 671 users and 9125 items.</pre>"
      ],
      "text/plain": [
       "    Data has 80003 observations with 671 users and 9125 items."
      ]
     },
     "metadata": {},
     "output_type": "display_data"
    },
    {
     "data": {
      "text/html": [
       "<pre>    Data prepared in: 0.784536s</pre>"
      ],
      "text/plain": [
       "    Data prepared in: 0.784536s"
      ]
     },
     "metadata": {},
     "output_type": "display_data"
    },
    {
     "data": {
      "text/html": [
       "<pre>Training factorization_recommender for recommendations.</pre>"
      ],
      "text/plain": [
       "Training factorization_recommender for recommendations."
      ]
     },
     "metadata": {},
     "output_type": "display_data"
    },
    {
     "data": {
      "text/html": [
       "<pre>+--------------------------------+--------------------------------------------------+----------+</pre>"
      ],
      "text/plain": [
       "+--------------------------------+--------------------------------------------------+----------+"
      ]
     },
     "metadata": {},
     "output_type": "display_data"
    },
    {
     "data": {
      "text/html": [
       "<pre>| Parameter                      | Description                                      | Value    |</pre>"
      ],
      "text/plain": [
       "| Parameter                      | Description                                      | Value    |"
      ]
     },
     "metadata": {},
     "output_type": "display_data"
    },
    {
     "data": {
      "text/html": [
       "<pre>+--------------------------------+--------------------------------------------------+----------+</pre>"
      ],
      "text/plain": [
       "+--------------------------------+--------------------------------------------------+----------+"
      ]
     },
     "metadata": {},
     "output_type": "display_data"
    },
    {
     "data": {
      "text/html": [
       "<pre>| num_factors                    | Factor Dimension                                 | 4        |</pre>"
      ],
      "text/plain": [
       "| num_factors                    | Factor Dimension                                 | 4        |"
      ]
     },
     "metadata": {},
     "output_type": "display_data"
    },
    {
     "data": {
      "text/html": [
       "<pre>| regularization                 | L2 Regularization on Factors                     | 1e-08    |</pre>"
      ],
      "text/plain": [
       "| regularization                 | L2 Regularization on Factors                     | 1e-08    |"
      ]
     },
     "metadata": {},
     "output_type": "display_data"
    },
    {
     "data": {
      "text/html": [
       "<pre>| solver                         | Solver used for training                         | adagrad  |</pre>"
      ],
      "text/plain": [
       "| solver                         | Solver used for training                         | adagrad  |"
      ]
     },
     "metadata": {},
     "output_type": "display_data"
    },
    {
     "data": {
      "text/html": [
       "<pre>| linear_regularization          | L2 Regularization on Linear Coefficients         | 1e-10    |</pre>"
      ],
      "text/plain": [
       "| linear_regularization          | L2 Regularization on Linear Coefficients         | 1e-10    |"
      ]
     },
     "metadata": {},
     "output_type": "display_data"
    },
    {
     "data": {
      "text/html": [
       "<pre>| side_data_factorization        | Assign Factors for Side Data                     | True     |</pre>"
      ],
      "text/plain": [
       "| side_data_factorization        | Assign Factors for Side Data                     | True     |"
      ]
     },
     "metadata": {},
     "output_type": "display_data"
    },
    {
     "data": {
      "text/html": [
       "<pre>| max_iterations                 | Maximum Number of Iterations                     | 50       |</pre>"
      ],
      "text/plain": [
       "| max_iterations                 | Maximum Number of Iterations                     | 50       |"
      ]
     },
     "metadata": {},
     "output_type": "display_data"
    },
    {
     "data": {
      "text/html": [
       "<pre>+--------------------------------+--------------------------------------------------+----------+</pre>"
      ],
      "text/plain": [
       "+--------------------------------+--------------------------------------------------+----------+"
      ]
     },
     "metadata": {},
     "output_type": "display_data"
    },
    {
     "data": {
      "text/html": [
       "<pre>  Optimizing model using SGD; tuning step size.</pre>"
      ],
      "text/plain": [
       "  Optimizing model using SGD; tuning step size."
      ]
     },
     "metadata": {},
     "output_type": "display_data"
    },
    {
     "data": {
      "text/html": [
       "<pre>  Using 10000 / 80003 points for tuning the step size.</pre>"
      ],
      "text/plain": [
       "  Using 10000 / 80003 points for tuning the step size."
      ]
     },
     "metadata": {},
     "output_type": "display_data"
    },
    {
     "data": {
      "text/html": [
       "<pre>+---------+-------------------+------------------------------------------+</pre>"
      ],
      "text/plain": [
       "+---------+-------------------+------------------------------------------+"
      ]
     },
     "metadata": {},
     "output_type": "display_data"
    },
    {
     "data": {
      "text/html": [
       "<pre>| Attempt | Initial Step Size | Estimated Objective Value                |</pre>"
      ],
      "text/plain": [
       "| Attempt | Initial Step Size | Estimated Objective Value                |"
      ]
     },
     "metadata": {},
     "output_type": "display_data"
    },
    {
     "data": {
      "text/html": [
       "<pre>+---------+-------------------+------------------------------------------+</pre>"
      ],
      "text/plain": [
       "+---------+-------------------+------------------------------------------+"
      ]
     },
     "metadata": {},
     "output_type": "display_data"
    },
    {
     "data": {
      "text/html": [
       "<pre>| 0       | 1.21951           | Not Viable                               |</pre>"
      ],
      "text/plain": [
       "| 0       | 1.21951           | Not Viable                               |"
      ]
     },
     "metadata": {},
     "output_type": "display_data"
    },
    {
     "data": {
      "text/html": [
       "<pre>| 1       | 0.304878          | 0.636481                                 |</pre>"
      ],
      "text/plain": [
       "| 1       | 0.304878          | 0.636481                                 |"
      ]
     },
     "metadata": {},
     "output_type": "display_data"
    },
    {
     "data": {
      "text/html": [
       "<pre>| 2       | 0.152439          | 0.0817831                                |</pre>"
      ],
      "text/plain": [
       "| 2       | 0.152439          | 0.0817831                                |"
      ]
     },
     "metadata": {},
     "output_type": "display_data"
    },
    {
     "data": {
      "text/html": [
       "<pre>| 3       | 0.0762195         | 0.10785                                  |</pre>"
      ],
      "text/plain": [
       "| 3       | 0.0762195         | 0.10785                                  |"
      ]
     },
     "metadata": {},
     "output_type": "display_data"
    },
    {
     "data": {
      "text/html": [
       "<pre>| 4       | 0.0381098         | 0.194865                                 |</pre>"
      ],
      "text/plain": [
       "| 4       | 0.0381098         | 0.194865                                 |"
      ]
     },
     "metadata": {},
     "output_type": "display_data"
    },
    {
     "data": {
      "text/html": [
       "<pre>+---------+-------------------+------------------------------------------+</pre>"
      ],
      "text/plain": [
       "+---------+-------------------+------------------------------------------+"
      ]
     },
     "metadata": {},
     "output_type": "display_data"
    },
    {
     "data": {
      "text/html": [
       "<pre>| Final   | 0.152439          | 0.0817831                                |</pre>"
      ],
      "text/plain": [
       "| Final   | 0.152439          | 0.0817831                                |"
      ]
     },
     "metadata": {},
     "output_type": "display_data"
    },
    {
     "data": {
      "text/html": [
       "<pre>+---------+-------------------+------------------------------------------+</pre>"
      ],
      "text/plain": [
       "+---------+-------------------+------------------------------------------+"
      ]
     },
     "metadata": {},
     "output_type": "display_data"
    },
    {
     "data": {
      "text/html": [
       "<pre>Starting Optimization.</pre>"
      ],
      "text/plain": [
       "Starting Optimization."
      ]
     },
     "metadata": {},
     "output_type": "display_data"
    },
    {
     "data": {
      "text/html": [
       "<pre>+---------+--------------+-------------------+-----------------------+-------------+</pre>"
      ],
      "text/plain": [
       "+---------+--------------+-------------------+-----------------------+-------------+"
      ]
     },
     "metadata": {},
     "output_type": "display_data"
    },
    {
     "data": {
      "text/html": [
       "<pre>| Iter.   | Elapsed Time | Approx. Objective | Approx. Training RMSE | Step Size   |</pre>"
      ],
      "text/plain": [
       "| Iter.   | Elapsed Time | Approx. Objective | Approx. Training RMSE | Step Size   |"
      ]
     },
     "metadata": {},
     "output_type": "display_data"
    },
    {
     "data": {
      "text/html": [
       "<pre>+---------+--------------+-------------------+-----------------------+-------------+</pre>"
      ],
      "text/plain": [
       "+---------+--------------+-------------------+-----------------------+-------------+"
      ]
     },
     "metadata": {},
     "output_type": "display_data"
    },
    {
     "data": {
      "text/html": [
       "<pre>| Initial | 93us         | 1.11577           | 1.0563                |             |</pre>"
      ],
      "text/plain": [
       "| Initial | 93us         | 1.11577           | 1.0563                |             |"
      ]
     },
     "metadata": {},
     "output_type": "display_data"
    },
    {
     "data": {
      "text/html": [
       "<pre>+---------+--------------+-------------------+-----------------------+-------------+</pre>"
      ],
      "text/plain": [
       "+---------+--------------+-------------------+-----------------------+-------------+"
      ]
     },
     "metadata": {},
     "output_type": "display_data"
    },
    {
     "data": {
      "text/html": [
       "<pre>| 1       | 292.515ms    | 1.1299            | 1.06292               | 0.152439    |</pre>"
      ],
      "text/plain": [
       "| 1       | 292.515ms    | 1.1299            | 1.06292               | 0.152439    |"
      ]
     },
     "metadata": {},
     "output_type": "display_data"
    },
    {
     "data": {
      "text/html": [
       "<pre>| 2       | 570.32ms     | 0.597546          | 0.77295               | 0.152439    |</pre>"
      ],
      "text/plain": [
       "| 2       | 570.32ms     | 0.597546          | 0.77295               | 0.152439    |"
      ]
     },
     "metadata": {},
     "output_type": "display_data"
    },
    {
     "data": {
      "text/html": [
       "<pre>| 3       | 842.003ms    | 0.387311          | 0.622266              | 0.152439    |</pre>"
      ],
      "text/plain": [
       "| 3       | 842.003ms    | 0.387311          | 0.622266              | 0.152439    |"
      ]
     },
     "metadata": {},
     "output_type": "display_data"
    },
    {
     "data": {
      "text/html": [
       "<pre>| 4       | 1.12s        | 0.293369          | 0.541542              | 0.152439    |</pre>"
      ],
      "text/plain": [
       "| 4       | 1.12s        | 0.293369          | 0.541542              | 0.152439    |"
      ]
     },
     "metadata": {},
     "output_type": "display_data"
    },
    {
     "data": {
      "text/html": [
       "<pre>| 5       | 1.41s        | 0.231619          | 0.481157              | 0.152439    |</pre>"
      ],
      "text/plain": [
       "| 5       | 1.41s        | 0.231619          | 0.481157              | 0.152439    |"
      ]
     },
     "metadata": {},
     "output_type": "display_data"
    },
    {
     "data": {
      "text/html": [
       "<pre>| 6       | 1.68s        | 0.187799          | 0.433228              | 0.152439    |</pre>"
      ],
      "text/plain": [
       "| 6       | 1.68s        | 0.187799          | 0.433228              | 0.152439    |"
      ]
     },
     "metadata": {},
     "output_type": "display_data"
    },
    {
     "data": {
      "text/html": [
       "<pre>| 10      | 2.73s        | 0.0913997         | 0.302106              | 0.152439    |</pre>"
      ],
      "text/plain": [
       "| 10      | 2.73s        | 0.0913997         | 0.302106              | 0.152439    |"
      ]
     },
     "metadata": {},
     "output_type": "display_data"
    },
    {
     "data": {
      "text/html": [
       "<pre>| 11      | 2.99s        | 0.0774603         | 0.278075              | 0.152439    |</pre>"
      ],
      "text/plain": [
       "| 11      | 2.99s        | 0.0774603         | 0.278075              | 0.152439    |"
      ]
     },
     "metadata": {},
     "output_type": "display_data"
    },
    {
     "data": {
      "text/html": [
       "<pre>| 15      | 4.04s        | 0.0470801         | 0.216647              | 0.152439    |</pre>"
      ],
      "text/plain": [
       "| 15      | 4.04s        | 0.0470801         | 0.216647              | 0.152439    |"
      ]
     },
     "metadata": {},
     "output_type": "display_data"
    },
    {
     "data": {
      "text/html": [
       "<pre>| 20      | 5.35s        | 0.0297203         | 0.171958              | 0.152439    |</pre>"
      ],
      "text/plain": [
       "| 20      | 5.35s        | 0.0297203         | 0.171958              | 0.152439    |"
      ]
     },
     "metadata": {},
     "output_type": "display_data"
    },
    {
     "data": {
      "text/html": [
       "<pre>| 25      | 6.65s        | 0.0219473         | 0.147622              | 0.152439    |</pre>"
      ],
      "text/plain": [
       "| 25      | 6.65s        | 0.0219473         | 0.147622              | 0.152439    |"
      ]
     },
     "metadata": {},
     "output_type": "display_data"
    },
    {
     "data": {
      "text/html": [
       "<pre>| 30      | 7.99s        | 0.0173936         | 0.131286              | 0.152439    |</pre>"
      ],
      "text/plain": [
       "| 30      | 7.99s        | 0.0173936         | 0.131286              | 0.152439    |"
      ]
     },
     "metadata": {},
     "output_type": "display_data"
    },
    {
     "data": {
      "text/html": [
       "<pre>| 35      | 9.30s        | 0.0143407         | 0.119084              | 0.152439    |</pre>"
      ],
      "text/plain": [
       "| 35      | 9.30s        | 0.0143407         | 0.119084              | 0.152439    |"
      ]
     },
     "metadata": {},
     "output_type": "display_data"
    },
    {
     "data": {
      "text/html": [
       "<pre>| 40      | 10.59s       | 0.0126387         | 0.111703              | 0.152439    |</pre>"
      ],
      "text/plain": [
       "| 40      | 10.59s       | 0.0126387         | 0.111703              | 0.152439    |"
      ]
     },
     "metadata": {},
     "output_type": "display_data"
    },
    {
     "data": {
      "text/html": [
       "<pre>| 45      | 11.90s       | 0.0112133         | 0.105123              | 0.152439    |</pre>"
      ],
      "text/plain": [
       "| 45      | 11.90s       | 0.0112133         | 0.105123              | 0.152439    |"
      ]
     },
     "metadata": {},
     "output_type": "display_data"
    },
    {
     "data": {
      "text/html": [
       "<pre>| 50      | 13.19s       | 0.0101135         | 0.09975               | 0.152439    |</pre>"
      ],
      "text/plain": [
       "| 50      | 13.19s       | 0.0101135         | 0.09975               | 0.152439    |"
      ]
     },
     "metadata": {},
     "output_type": "display_data"
    },
    {
     "data": {
      "text/html": [
       "<pre>+---------+--------------+-------------------+-----------------------+-------------+</pre>"
      ],
      "text/plain": [
       "+---------+--------------+-------------------+-----------------------+-------------+"
      ]
     },
     "metadata": {},
     "output_type": "display_data"
    },
    {
     "data": {
      "text/html": [
       "<pre>Optimization Complete: Maximum number of passes through the data reached.</pre>"
      ],
      "text/plain": [
       "Optimization Complete: Maximum number of passes through the data reached."
      ]
     },
     "metadata": {},
     "output_type": "display_data"
    },
    {
     "data": {
      "text/html": [
       "<pre>Computing final objective value and training RMSE.</pre>"
      ],
      "text/plain": [
       "Computing final objective value and training RMSE."
      ]
     },
     "metadata": {},
     "output_type": "display_data"
    },
    {
     "data": {
      "text/html": [
       "<pre>       Final objective value: 0.00880147</pre>"
      ],
      "text/plain": [
       "       Final objective value: 0.00880147"
      ]
     },
     "metadata": {},
     "output_type": "display_data"
    },
    {
     "data": {
      "text/html": [
       "<pre>       Final training RMSE: 0.0929408</pre>"
      ],
      "text/plain": [
       "       Final training RMSE: 0.0929408"
      ]
     },
     "metadata": {},
     "output_type": "display_data"
    },
    {
     "name": "stdout",
     "output_type": "stream",
     "text": [
      "\n",
      "Precision and recall summary statistics by cutoff\n",
      "+--------+------------------+-------------------+\n",
      "| cutoff |  mean_precision  |    mean_recall    |\n",
      "+--------+------------------+-------------------+\n",
      "|   1    |     0.03125      |  0.00018883183251 |\n",
      "|   2    |     0.015625     |  0.00018883183251 |\n",
      "|   3    |      0.0125      | 0.000215888109566 |\n",
      "|   4    |     0.009375     | 0.000215888109566 |\n",
      "|   5    |      0.0075      | 0.000215888109566 |\n",
      "|   6    |     0.00625      | 0.000215888109566 |\n",
      "|   7    | 0.00535714285714 | 0.000215888109566 |\n",
      "|   8    |    0.0046875     | 0.000215888109566 |\n",
      "|   9    | 0.00416666666667 | 0.000215888109566 |\n",
      "|   10   |     0.00375      | 0.000215888109566 |\n",
      "+--------+------------------+-------------------+\n",
      "[10 rows x 3 columns]\n",
      "\n",
      "('\\nOverall RMSE: ', 0.984820434213491)\n",
      "\n",
      "Per User RMSE (best)\n",
      "+--------+-------+---------------+\n",
      "| userId | count |      rmse     |\n",
      "+--------+-------+---------------+\n",
      "|  229   |   33  | 0.48429334213 |\n",
      "+--------+-------+---------------+\n",
      "[1 rows x 3 columns]\n",
      "\n",
      "\n",
      "Per User RMSE (worst)\n",
      "+--------+-------+---------------+\n",
      "| userId | count |      rmse     |\n",
      "+--------+-------+---------------+\n",
      "|  207   |   46  | 2.04686252865 |\n",
      "+--------+-------+---------------+\n",
      "[1 rows x 3 columns]\n",
      "\n",
      "\n",
      "Per Item RMSE (best)\n",
      "+---------+-------+------------------+\n",
      "| movieId | count |       rmse       |\n",
      "+---------+-------+------------------+\n",
      "|  99296  |   1   | 0.00100773520107 |\n",
      "+---------+-------+------------------+\n",
      "[1 rows x 3 columns]\n",
      "\n",
      "\n",
      "Per Item RMSE (worst)\n",
      "+---------+-------+---------------+\n",
      "| movieId | count |      rmse     |\n",
      "+---------+-------+---------------+\n",
      "|  103048 |   1   | 3.74578353259 |\n",
      "+---------+-------+---------------+\n",
      "[1 rows x 3 columns]\n",
      "\n",
      "{'rmse_by_user': Columns:\n",
      "\tuserId\tint\n",
      "\tcount\tint\n",
      "\trmse\tfloat\n",
      "\n",
      "Rows: 160\n",
      "\n",
      "Data:\n",
      "+--------+-------+----------------+\n",
      "| userId | count |      rmse      |\n",
      "+--------+-------+----------------+\n",
      "|  232   |  682  | 1.12370063805  |\n",
      "|  187   |  324  | 0.991627568661 |\n",
      "|  159   |  148  | 0.836853298832 |\n",
      "|  136   |   50  | 0.897961726363 |\n",
      "|  160   |  100  | 0.897444353158 |\n",
      "|  273   |   92  | 0.897065445854 |\n",
      "|  140   |   46  | 1.11933515318  |\n",
      "|  253   |  205  | 0.967914435537 |\n",
      "|  287   |  254  | 1.49646716387  |\n",
      "|  196   |   99  | 0.933973425169 |\n",
      "+--------+-------+----------------+\n",
      "[160 rows x 3 columns]\n",
      "Note: Only the head of the SFrame is printed.\n",
      "You can use print_rows(num_rows=m, num_columns=n) to print more rows and columns., 'precision_recall_overall': Columns:\n",
      "\tcutoff\tint\n",
      "\tprecision\tfloat\n",
      "\trecall\tfloat\n",
      "\n",
      "Rows: 18\n",
      "\n",
      "Data:\n",
      "+--------+------------------+-------------------+\n",
      "| cutoff |    precision     |       recall      |\n",
      "+--------+------------------+-------------------+\n",
      "|   1    |     0.03125      |  0.00018883183251 |\n",
      "|   2    |     0.015625     |  0.00018883183251 |\n",
      "|   3    |      0.0125      | 0.000215888109566 |\n",
      "|   4    |     0.009375     | 0.000215888109566 |\n",
      "|   5    |      0.0075      | 0.000215888109566 |\n",
      "|   6    |     0.00625      | 0.000215888109566 |\n",
      "|   7    | 0.00535714285714 | 0.000215888109566 |\n",
      "|   8    |    0.0046875     | 0.000215888109566 |\n",
      "|   9    | 0.00416666666667 | 0.000215888109566 |\n",
      "|   10   |     0.00375      | 0.000215888109566 |\n",
      "+--------+------------------+-------------------+\n",
      "[18 rows x 3 columns]\n",
      "Note: Only the head of the SFrame is printed.\n",
      "You can use print_rows(num_rows=m, num_columns=n) to print more rows and columns., 'rmse_by_item': Columns:\n",
      "\tmovieId\tint\n",
      "\tcount\tint\n",
      "\trmse\tfloat\n",
      "\n",
      "Rows: 4446\n",
      "\n",
      "Data:\n",
      "+---------+-------+----------------+\n",
      "| movieId | count |      rmse      |\n",
      "+---------+-------+----------------+\n",
      "|   7899  |   1   | 0.19175938486  |\n",
      "|  101076 |   1   | 0.873039922224 |\n",
      "|   3143  |   1   | 0.865845269191 |\n",
      "|   2779  |   2   | 0.531587843812 |\n",
      "|   118   |   1   | 0.124040979495 |\n",
      "|   3988  |   6   | 0.699652638363 |\n",
      "|   2847  |   1   | 0.615968558454 |\n",
      "|  64614  |   4   | 0.573770935447 |\n",
      "|   5531  |   1   | 0.507376292732 |\n",
      "|   2925  |   1   | 1.65057382104  |\n",
      "+---------+-------+----------------+\n",
      "[4446 rows x 3 columns]\n",
      "Note: Only the head of the SFrame is printed.\n",
      "You can use print_rows(num_rows=m, num_columns=n) to print more rows and columns., 'precision_recall_by_user': Columns:\n",
      "\tuserId\tint\n",
      "\tcutoff\tint\n",
      "\tprecision\tfloat\n",
      "\trecall\tfloat\n",
      "\tcount\tint\n",
      "\n",
      "Rows: 2880\n",
      "\n",
      "Data:\n",
      "+--------+--------+-----------+--------+-------+\n",
      "| userId | cutoff | precision | recall | count |\n",
      "+--------+--------+-----------+--------+-------+\n",
      "|  133   |   1    |    0.0    |  0.0   |   52  |\n",
      "|  133   |   2    |    0.0    |  0.0   |   52  |\n",
      "|  133   |   3    |    0.0    |  0.0   |   52  |\n",
      "|  133   |   4    |    0.0    |  0.0   |   52  |\n",
      "|  133   |   5    |    0.0    |  0.0   |   52  |\n",
      "|  133   |   6    |    0.0    |  0.0   |   52  |\n",
      "|  133   |   7    |    0.0    |  0.0   |   52  |\n",
      "|  133   |   8    |    0.0    |  0.0   |   52  |\n",
      "|  133   |   9    |    0.0    |  0.0   |   52  |\n",
      "|  133   |   10   |    0.0    |  0.0   |   52  |\n",
      "+--------+--------+-----------+--------+-------+\n",
      "[2880 rows x 5 columns]\n",
      "Note: Only the head of the SFrame is printed.\n",
      "You can use print_rows(num_rows=m, num_columns=n) to print more rows and columns., 'rmse_overall': 0.984820434213491}\n"
     ]
    },
    {
     "data": {
      "text/html": [
       "<pre>Recsys training: model = factorization_recommender</pre>"
      ],
      "text/plain": [
       "Recsys training: model = factorization_recommender"
      ]
     },
     "metadata": {},
     "output_type": "display_data"
    },
    {
     "data": {
      "text/html": [
       "<pre>Preparing data set.</pre>"
      ],
      "text/plain": [
       "Preparing data set."
      ]
     },
     "metadata": {},
     "output_type": "display_data"
    },
    {
     "data": {
      "text/html": [
       "<pre>    Data has 80003 observations with 671 users and 9125 items.</pre>"
      ],
      "text/plain": [
       "    Data has 80003 observations with 671 users and 9125 items."
      ]
     },
     "metadata": {},
     "output_type": "display_data"
    },
    {
     "data": {
      "text/html": [
       "<pre>    Data prepared in: 0.791209s</pre>"
      ],
      "text/plain": [
       "    Data prepared in: 0.791209s"
      ]
     },
     "metadata": {},
     "output_type": "display_data"
    },
    {
     "data": {
      "text/html": [
       "<pre>Training factorization_recommender for recommendations.</pre>"
      ],
      "text/plain": [
       "Training factorization_recommender for recommendations."
      ]
     },
     "metadata": {},
     "output_type": "display_data"
    },
    {
     "data": {
      "text/html": [
       "<pre>+--------------------------------+--------------------------------------------------+----------+</pre>"
      ],
      "text/plain": [
       "+--------------------------------+--------------------------------------------------+----------+"
      ]
     },
     "metadata": {},
     "output_type": "display_data"
    },
    {
     "data": {
      "text/html": [
       "<pre>| Parameter                      | Description                                      | Value    |</pre>"
      ],
      "text/plain": [
       "| Parameter                      | Description                                      | Value    |"
      ]
     },
     "metadata": {},
     "output_type": "display_data"
    },
    {
     "data": {
      "text/html": [
       "<pre>+--------------------------------+--------------------------------------------------+----------+</pre>"
      ],
      "text/plain": [
       "+--------------------------------+--------------------------------------------------+----------+"
      ]
     },
     "metadata": {},
     "output_type": "display_data"
    },
    {
     "data": {
      "text/html": [
       "<pre>| num_factors                    | Factor Dimension                                 | 4        |</pre>"
      ],
      "text/plain": [
       "| num_factors                    | Factor Dimension                                 | 4        |"
      ]
     },
     "metadata": {},
     "output_type": "display_data"
    },
    {
     "data": {
      "text/html": [
       "<pre>| regularization                 | L2 Regularization on Factors                     | 1e-08    |</pre>"
      ],
      "text/plain": [
       "| regularization                 | L2 Regularization on Factors                     | 1e-08    |"
      ]
     },
     "metadata": {},
     "output_type": "display_data"
    },
    {
     "data": {
      "text/html": [
       "<pre>| solver                         | Solver used for training                         | adagrad  |</pre>"
      ],
      "text/plain": [
       "| solver                         | Solver used for training                         | adagrad  |"
      ]
     },
     "metadata": {},
     "output_type": "display_data"
    },
    {
     "data": {
      "text/html": [
       "<pre>| linear_regularization          | L2 Regularization on Linear Coefficients         | 1e-10    |</pre>"
      ],
      "text/plain": [
       "| linear_regularization          | L2 Regularization on Linear Coefficients         | 1e-10    |"
      ]
     },
     "metadata": {},
     "output_type": "display_data"
    },
    {
     "data": {
      "text/html": [
       "<pre>| side_data_factorization        | Assign Factors for Side Data                     | True     |</pre>"
      ],
      "text/plain": [
       "| side_data_factorization        | Assign Factors for Side Data                     | True     |"
      ]
     },
     "metadata": {},
     "output_type": "display_data"
    },
    {
     "data": {
      "text/html": [
       "<pre>| max_iterations                 | Maximum Number of Iterations                     | 50       |</pre>"
      ],
      "text/plain": [
       "| max_iterations                 | Maximum Number of Iterations                     | 50       |"
      ]
     },
     "metadata": {},
     "output_type": "display_data"
    },
    {
     "data": {
      "text/html": [
       "<pre>+--------------------------------+--------------------------------------------------+----------+</pre>"
      ],
      "text/plain": [
       "+--------------------------------+--------------------------------------------------+----------+"
      ]
     },
     "metadata": {},
     "output_type": "display_data"
    },
    {
     "data": {
      "text/html": [
       "<pre>  Optimizing model using SGD; tuning step size.</pre>"
      ],
      "text/plain": [
       "  Optimizing model using SGD; tuning step size."
      ]
     },
     "metadata": {},
     "output_type": "display_data"
    },
    {
     "data": {
      "text/html": [
       "<pre>  Using 10000 / 80003 points for tuning the step size.</pre>"
      ],
      "text/plain": [
       "  Using 10000 / 80003 points for tuning the step size."
      ]
     },
     "metadata": {},
     "output_type": "display_data"
    },
    {
     "data": {
      "text/html": [
       "<pre>+---------+-------------------+------------------------------------------+</pre>"
      ],
      "text/plain": [
       "+---------+-------------------+------------------------------------------+"
      ]
     },
     "metadata": {},
     "output_type": "display_data"
    },
    {
     "data": {
      "text/html": [
       "<pre>| Attempt | Initial Step Size | Estimated Objective Value                |</pre>"
      ],
      "text/plain": [
       "| Attempt | Initial Step Size | Estimated Objective Value                |"
      ]
     },
     "metadata": {},
     "output_type": "display_data"
    },
    {
     "data": {
      "text/html": [
       "<pre>+---------+-------------------+------------------------------------------+</pre>"
      ],
      "text/plain": [
       "+---------+-------------------+------------------------------------------+"
      ]
     },
     "metadata": {},
     "output_type": "display_data"
    },
    {
     "data": {
      "text/html": [
       "<pre>| 0       | 1.21951           | Not Viable                               |</pre>"
      ],
      "text/plain": [
       "| 0       | 1.21951           | Not Viable                               |"
      ]
     },
     "metadata": {},
     "output_type": "display_data"
    },
    {
     "data": {
      "text/html": [
       "<pre>| 1       | 0.304878          | 0.157236                                 |</pre>"
      ],
      "text/plain": [
       "| 1       | 0.304878          | 0.157236                                 |"
      ]
     },
     "metadata": {},
     "output_type": "display_data"
    },
    {
     "data": {
      "text/html": [
       "<pre>| 2       | 0.152439          | 0.0856984                                |</pre>"
      ],
      "text/plain": [
       "| 2       | 0.152439          | 0.0856984                                |"
      ]
     },
     "metadata": {},
     "output_type": "display_data"
    },
    {
     "data": {
      "text/html": [
       "<pre>| 3       | 0.0762195         | 0.111677                                 |</pre>"
      ],
      "text/plain": [
       "| 3       | 0.0762195         | 0.111677                                 |"
      ]
     },
     "metadata": {},
     "output_type": "display_data"
    },
    {
     "data": {
      "text/html": [
       "<pre>| 4       | 0.0381098         | 0.192013                                 |</pre>"
      ],
      "text/plain": [
       "| 4       | 0.0381098         | 0.192013                                 |"
      ]
     },
     "metadata": {},
     "output_type": "display_data"
    },
    {
     "data": {
      "text/html": [
       "<pre>+---------+-------------------+------------------------------------------+</pre>"
      ],
      "text/plain": [
       "+---------+-------------------+------------------------------------------+"
      ]
     },
     "metadata": {},
     "output_type": "display_data"
    },
    {
     "data": {
      "text/html": [
       "<pre>| Final   | 0.152439          | 0.0856984                                |</pre>"
      ],
      "text/plain": [
       "| Final   | 0.152439          | 0.0856984                                |"
      ]
     },
     "metadata": {},
     "output_type": "display_data"
    },
    {
     "data": {
      "text/html": [
       "<pre>+---------+-------------------+------------------------------------------+</pre>"
      ],
      "text/plain": [
       "+---------+-------------------+------------------------------------------+"
      ]
     },
     "metadata": {},
     "output_type": "display_data"
    },
    {
     "data": {
      "text/html": [
       "<pre>Starting Optimization.</pre>"
      ],
      "text/plain": [
       "Starting Optimization."
      ]
     },
     "metadata": {},
     "output_type": "display_data"
    },
    {
     "data": {
      "text/html": [
       "<pre>+---------+--------------+-------------------+-----------------------+-------------+</pre>"
      ],
      "text/plain": [
       "+---------+--------------+-------------------+-----------------------+-------------+"
      ]
     },
     "metadata": {},
     "output_type": "display_data"
    },
    {
     "data": {
      "text/html": [
       "<pre>| Iter.   | Elapsed Time | Approx. Objective | Approx. Training RMSE | Step Size   |</pre>"
      ],
      "text/plain": [
       "| Iter.   | Elapsed Time | Approx. Objective | Approx. Training RMSE | Step Size   |"
      ]
     },
     "metadata": {},
     "output_type": "display_data"
    },
    {
     "data": {
      "text/html": [
       "<pre>+---------+--------------+-------------------+-----------------------+-------------+</pre>"
      ],
      "text/plain": [
       "+---------+--------------+-------------------+-----------------------+-------------+"
      ]
     },
     "metadata": {},
     "output_type": "display_data"
    },
    {
     "data": {
      "text/html": [
       "<pre>| Initial | 113us        | 1.12341           | 1.05991               |             |</pre>"
      ],
      "text/plain": [
       "| Initial | 113us        | 1.12341           | 1.05991               |             |"
      ]
     },
     "metadata": {},
     "output_type": "display_data"
    },
    {
     "data": {
      "text/html": [
       "<pre>+---------+--------------+-------------------+-----------------------+-------------+</pre>"
      ],
      "text/plain": [
       "+---------+--------------+-------------------+-----------------------+-------------+"
      ]
     },
     "metadata": {},
     "output_type": "display_data"
    },
    {
     "data": {
      "text/html": [
       "<pre>| 1       | 293.552ms    | 1.54554           | 1.24315               | 0.152439    |</pre>"
      ],
      "text/plain": [
       "| 1       | 293.552ms    | 1.54554           | 1.24315               | 0.152439    |"
      ]
     },
     "metadata": {},
     "output_type": "display_data"
    },
    {
     "data": {
      "text/html": [
       "<pre>| 2       | 567.541ms    | 0.592833          | 0.769896              | 0.152439    |</pre>"
      ],
      "text/plain": [
       "| 2       | 567.541ms    | 0.592833          | 0.769896              | 0.152439    |"
      ]
     },
     "metadata": {},
     "output_type": "display_data"
    },
    {
     "data": {
      "text/html": [
       "<pre>| 3       | 844.732ms    | 0.468699          | 0.684552              | 0.152439    |</pre>"
      ],
      "text/plain": [
       "| 3       | 844.732ms    | 0.468699          | 0.684552              | 0.152439    |"
      ]
     },
     "metadata": {},
     "output_type": "display_data"
    },
    {
     "data": {
      "text/html": [
       "<pre>| 4       | 1.11s        | 0.428109          | 0.654234              | 0.152439    |</pre>"
      ],
      "text/plain": [
       "| 4       | 1.11s        | 0.428109          | 0.654234              | 0.152439    |"
      ]
     },
     "metadata": {},
     "output_type": "display_data"
    },
    {
     "data": {
      "text/html": [
       "<pre>| 5       | 1.39s        | 0.394396          | 0.62794               | 0.152439    |</pre>"
      ],
      "text/plain": [
       "| 5       | 1.39s        | 0.394396          | 0.62794               | 0.152439    |"
      ]
     },
     "metadata": {},
     "output_type": "display_data"
    },
    {
     "data": {
      "text/html": [
       "<pre>| 6       | 1.66s        | 0.371526          | 0.609458              | 0.152439    |</pre>"
      ],
      "text/plain": [
       "| 6       | 1.66s        | 0.371526          | 0.609458              | 0.152439    |"
      ]
     },
     "metadata": {},
     "output_type": "display_data"
    },
    {
     "data": {
      "text/html": [
       "<pre>| 10      | 2.70s        | 0.311417          | 0.557967              | 0.152439    |</pre>"
      ],
      "text/plain": [
       "| 10      | 2.70s        | 0.311417          | 0.557967              | 0.152439    |"
      ]
     },
     "metadata": {},
     "output_type": "display_data"
    },
    {
     "data": {
      "text/html": [
       "<pre>| 11      | 2.97s        | 0.300018          | 0.547656              | 0.152439    |</pre>"
      ],
      "text/plain": [
       "| 11      | 2.97s        | 0.300018          | 0.547656              | 0.152439    |"
      ]
     },
     "metadata": {},
     "output_type": "display_data"
    },
    {
     "data": {
      "text/html": [
       "<pre>| 15      | 4.05s        | 0.261384          | 0.511166              | 0.152439    |</pre>"
      ],
      "text/plain": [
       "| 15      | 4.05s        | 0.261384          | 0.511166              | 0.152439    |"
      ]
     },
     "metadata": {},
     "output_type": "display_data"
    },
    {
     "data": {
      "text/html": [
       "<pre>| 20      | 5.36s        | 0.224034          | 0.47322               | 0.152439    |</pre>"
      ],
      "text/plain": [
       "| 20      | 5.36s        | 0.224034          | 0.47322               | 0.152439    |"
      ]
     },
     "metadata": {},
     "output_type": "display_data"
    },
    {
     "data": {
      "text/html": [
       "<pre>| 25      | 6.68s        | 0.19287           | 0.439055              | 0.152439    |</pre>"
      ],
      "text/plain": [
       "| 25      | 6.68s        | 0.19287           | 0.439055              | 0.152439    |"
      ]
     },
     "metadata": {},
     "output_type": "display_data"
    },
    {
     "data": {
      "text/html": [
       "<pre>| 30      | 7.99s        | 0.167415          | 0.409037              | 0.152439    |</pre>"
      ],
      "text/plain": [
       "| 30      | 7.99s        | 0.167415          | 0.409037              | 0.152439    |"
      ]
     },
     "metadata": {},
     "output_type": "display_data"
    },
    {
     "data": {
      "text/html": [
       "<pre>| 35      | 9.31s        | 0.146306          | 0.382359              | 0.152439    |</pre>"
      ],
      "text/plain": [
       "| 35      | 9.31s        | 0.146306          | 0.382359              | 0.152439    |"
      ]
     },
     "metadata": {},
     "output_type": "display_data"
    },
    {
     "data": {
      "text/html": [
       "<pre>| 40      | 10.62s       | 0.125223          | 0.353712              | 0.152439    |</pre>"
      ],
      "text/plain": [
       "| 40      | 10.62s       | 0.125223          | 0.353712              | 0.152439    |"
      ]
     },
     "metadata": {},
     "output_type": "display_data"
    },
    {
     "data": {
      "text/html": [
       "<pre>| 45      | 11.93s       | 0.111599          | 0.333895              | 0.152439    |</pre>"
      ],
      "text/plain": [
       "| 45      | 11.93s       | 0.111599          | 0.333895              | 0.152439    |"
      ]
     },
     "metadata": {},
     "output_type": "display_data"
    },
    {
     "data": {
      "text/html": [
       "<pre>| 50      | 13.26s       | 0.0953282         | 0.308564              | 0.152439    |</pre>"
      ],
      "text/plain": [
       "| 50      | 13.26s       | 0.0953282         | 0.308564              | 0.152439    |"
      ]
     },
     "metadata": {},
     "output_type": "display_data"
    },
    {
     "data": {
      "text/html": [
       "<pre>+---------+--------------+-------------------+-----------------------+-------------+</pre>"
      ],
      "text/plain": [
       "+---------+--------------+-------------------+-----------------------+-------------+"
      ]
     },
     "metadata": {},
     "output_type": "display_data"
    },
    {
     "data": {
      "text/html": [
       "<pre>Optimization Complete: Maximum number of passes through the data reached.</pre>"
      ],
      "text/plain": [
       "Optimization Complete: Maximum number of passes through the data reached."
      ]
     },
     "metadata": {},
     "output_type": "display_data"
    },
    {
     "data": {
      "text/html": [
       "<pre>Computing final objective value and training RMSE.</pre>"
      ],
      "text/plain": [
       "Computing final objective value and training RMSE."
      ]
     },
     "metadata": {},
     "output_type": "display_data"
    },
    {
     "data": {
      "text/html": [
       "<pre>       Final objective value: 0.0903856</pre>"
      ],
      "text/plain": [
       "       Final objective value: 0.0903856"
      ]
     },
     "metadata": {},
     "output_type": "display_data"
    },
    {
     "data": {
      "text/html": [
       "<pre>       Final training RMSE: 0.300448</pre>"
      ],
      "text/plain": [
       "       Final training RMSE: 0.300448"
      ]
     },
     "metadata": {},
     "output_type": "display_data"
    },
    {
     "name": "stdout",
     "output_type": "stream",
     "text": [
      "\n",
      "Precision and recall summary statistics by cutoff\n",
      "+--------+----------------+-------------+\n",
      "| cutoff | mean_precision | mean_recall |\n",
      "+--------+----------------+-------------+\n",
      "|   1    |      0.0       |     0.0     |\n",
      "|   2    |      0.0       |     0.0     |\n",
      "|   3    |      0.0       |     0.0     |\n",
      "|   4    |      0.0       |     0.0     |\n",
      "|   5    |      0.0       |     0.0     |\n",
      "|   6    |      0.0       |     0.0     |\n",
      "|   7    |      0.0       |     0.0     |\n",
      "|   8    |      0.0       |     0.0     |\n",
      "|   9    |      0.0       |     0.0     |\n",
      "|   10   |      0.0       |     0.0     |\n",
      "+--------+----------------+-------------+\n",
      "[10 rows x 3 columns]\n",
      "\n",
      "('\\nOverall RMSE: ', 0.9917488847414712)\n",
      "\n",
      "Per User RMSE (best)\n",
      "+--------+-------+----------------+\n",
      "| userId | count |      rmse      |\n",
      "+--------+-------+----------------+\n",
      "|  397   |   59  | 0.505949904847 |\n",
      "+--------+-------+----------------+\n",
      "[1 rows x 3 columns]\n",
      "\n",
      "\n",
      "Per User RMSE (worst)\n",
      "+--------+-------+---------------+\n",
      "| userId | count |      rmse     |\n",
      "+--------+-------+---------------+\n",
      "|  364   |   36  | 2.24993410675 |\n",
      "+--------+-------+---------------+\n",
      "[1 rows x 3 columns]\n",
      "\n",
      "\n",
      "Per Item RMSE (best)\n",
      "+---------+-------+------------------+\n",
      "| movieId | count |       rmse       |\n",
      "+---------+-------+------------------+\n",
      "|  51080  |   1   | 0.00258820487973 |\n",
      "+---------+-------+------------------+\n",
      "[1 rows x 3 columns]\n",
      "\n",
      "\n",
      "Per Item RMSE (worst)\n",
      "+---------+-------+---------------+\n",
      "| movieId | count |      rmse     |\n",
      "+---------+-------+---------------+\n",
      "|   2460  |   1   | 3.68946381267 |\n",
      "+---------+-------+---------------+\n",
      "[1 rows x 3 columns]\n",
      "\n",
      "{'rmse_by_user': Columns:\n",
      "\tuserId\tint\n",
      "\tcount\tint\n",
      "\trmse\tfloat\n",
      "\n",
      "Rows: 142\n",
      "\n",
      "Data:\n",
      "+--------+-------+----------------+\n",
      "| userId | count |      rmse      |\n",
      "+--------+-------+----------------+\n",
      "|  310   |   20  | 1.55089114981  |\n",
      "|  363   |  201  | 0.962882807866 |\n",
      "|  431   |  268  | 0.879631404943 |\n",
      "|  390   |  153  | 1.00251808397  |\n",
      "|  318   |   59  |  1.2590623527  |\n",
      "|  349   |   23  | 0.964396536684 |\n",
      "|  374   |   33  | 1.35896402549  |\n",
      "|  354   |   52  | 1.08090998308  |\n",
      "|  312   |  284  | 1.23192900903  |\n",
      "|  392   |   25  | 1.09476200763  |\n",
      "+--------+-------+----------------+\n",
      "[142 rows x 3 columns]\n",
      "Note: Only the head of the SFrame is printed.\n",
      "You can use print_rows(num_rows=m, num_columns=n) to print more rows and columns., 'precision_recall_overall': Columns:\n",
      "\tcutoff\tint\n",
      "\tprecision\tfloat\n",
      "\trecall\tfloat\n",
      "\n",
      "Rows: 18\n",
      "\n",
      "Data:\n",
      "+--------+-----------+--------+\n",
      "| cutoff | precision | recall |\n",
      "+--------+-----------+--------+\n",
      "|   1    |    0.0    |  0.0   |\n",
      "|   2    |    0.0    |  0.0   |\n",
      "|   3    |    0.0    |  0.0   |\n",
      "|   4    |    0.0    |  0.0   |\n",
      "|   5    |    0.0    |  0.0   |\n",
      "|   6    |    0.0    |  0.0   |\n",
      "|   7    |    0.0    |  0.0   |\n",
      "|   8    |    0.0    |  0.0   |\n",
      "|   9    |    0.0    |  0.0   |\n",
      "|   10   |    0.0    |  0.0   |\n",
      "+--------+-----------+--------+\n",
      "[18 rows x 3 columns]\n",
      "Note: Only the head of the SFrame is printed.\n",
      "You can use print_rows(num_rows=m, num_columns=n) to print more rows and columns., 'rmse_by_item': Columns:\n",
      "\tmovieId\tint\n",
      "\tcount\tint\n",
      "\trmse\tfloat\n",
      "\n",
      "Rows: 4812\n",
      "\n",
      "Data:\n",
      "+---------+-------+----------------+\n",
      "| movieId | count |      rmse      |\n",
      "+---------+-------+----------------+\n",
      "|   7899  |   1   | 0.292573921906 |\n",
      "|   5684  |   1   | 1.55940712834  |\n",
      "|   2779  |   7   | 0.814646092042 |\n",
      "|   3988  |   4   | 1.14470492676  |\n",
      "|   2847  |   1   | 0.282470414952 |\n",
      "|  64614  |   9   | 0.844918917047 |\n",
      "|   2871  |   4   | 0.132823983533 |\n",
      "|   2043  |   1   | 0.474932688743 |\n",
      "|   2445  |   1   | 0.29999671893  |\n",
      "|   1029  |   6   | 0.968023047536 |\n",
      "+---------+-------+----------------+\n",
      "[4812 rows x 3 columns]\n",
      "Note: Only the head of the SFrame is printed.\n",
      "You can use print_rows(num_rows=m, num_columns=n) to print more rows and columns., 'precision_recall_by_user': Columns:\n",
      "\tuserId\tint\n",
      "\tcutoff\tint\n",
      "\tprecision\tfloat\n",
      "\trecall\tfloat\n",
      "\tcount\tint\n",
      "\n",
      "Rows: 2556\n",
      "\n",
      "Data:\n",
      "+--------+--------+-----------+--------+-------+\n",
      "| userId | cutoff | precision | recall | count |\n",
      "+--------+--------+-----------+--------+-------+\n",
      "|  292   |   1    |    0.0    |  0.0   |   72  |\n",
      "|  292   |   2    |    0.0    |  0.0   |   72  |\n",
      "|  292   |   3    |    0.0    |  0.0   |   72  |\n",
      "|  292   |   4    |    0.0    |  0.0   |   72  |\n",
      "|  292   |   5    |    0.0    |  0.0   |   72  |\n",
      "|  292   |   6    |    0.0    |  0.0   |   72  |\n",
      "|  292   |   7    |    0.0    |  0.0   |   72  |\n",
      "|  292   |   8    |    0.0    |  0.0   |   72  |\n",
      "|  292   |   9    |    0.0    |  0.0   |   72  |\n",
      "|  292   |   10   |    0.0    |  0.0   |   72  |\n",
      "+--------+--------+-----------+--------+-------+\n",
      "[2556 rows x 5 columns]\n",
      "Note: Only the head of the SFrame is printed.\n",
      "You can use print_rows(num_rows=m, num_columns=n) to print more rows and columns., 'rmse_overall': 0.9917488847414712}\n"
     ]
    },
    {
     "data": {
      "text/html": [
       "<pre>Recsys training: model = factorization_recommender</pre>"
      ],
      "text/plain": [
       "Recsys training: model = factorization_recommender"
      ]
     },
     "metadata": {},
     "output_type": "display_data"
    },
    {
     "data": {
      "text/html": [
       "<pre>Preparing data set.</pre>"
      ],
      "text/plain": [
       "Preparing data set."
      ]
     },
     "metadata": {},
     "output_type": "display_data"
    },
    {
     "data": {
      "text/html": [
       "<pre>    Data has 80003 observations with 671 users and 9125 items.</pre>"
      ],
      "text/plain": [
       "    Data has 80003 observations with 671 users and 9125 items."
      ]
     },
     "metadata": {},
     "output_type": "display_data"
    },
    {
     "data": {
      "text/html": [
       "<pre>    Data prepared in: 0.757376s</pre>"
      ],
      "text/plain": [
       "    Data prepared in: 0.757376s"
      ]
     },
     "metadata": {},
     "output_type": "display_data"
    },
    {
     "data": {
      "text/html": [
       "<pre>Training factorization_recommender for recommendations.</pre>"
      ],
      "text/plain": [
       "Training factorization_recommender for recommendations."
      ]
     },
     "metadata": {},
     "output_type": "display_data"
    },
    {
     "data": {
      "text/html": [
       "<pre>+--------------------------------+--------------------------------------------------+----------+</pre>"
      ],
      "text/plain": [
       "+--------------------------------+--------------------------------------------------+----------+"
      ]
     },
     "metadata": {},
     "output_type": "display_data"
    },
    {
     "data": {
      "text/html": [
       "<pre>| Parameter                      | Description                                      | Value    |</pre>"
      ],
      "text/plain": [
       "| Parameter                      | Description                                      | Value    |"
      ]
     },
     "metadata": {},
     "output_type": "display_data"
    },
    {
     "data": {
      "text/html": [
       "<pre>+--------------------------------+--------------------------------------------------+----------+</pre>"
      ],
      "text/plain": [
       "+--------------------------------+--------------------------------------------------+----------+"
      ]
     },
     "metadata": {},
     "output_type": "display_data"
    },
    {
     "data": {
      "text/html": [
       "<pre>| num_factors                    | Factor Dimension                                 | 4        |</pre>"
      ],
      "text/plain": [
       "| num_factors                    | Factor Dimension                                 | 4        |"
      ]
     },
     "metadata": {},
     "output_type": "display_data"
    },
    {
     "data": {
      "text/html": [
       "<pre>| regularization                 | L2 Regularization on Factors                     | 1e-08    |</pre>"
      ],
      "text/plain": [
       "| regularization                 | L2 Regularization on Factors                     | 1e-08    |"
      ]
     },
     "metadata": {},
     "output_type": "display_data"
    },
    {
     "data": {
      "text/html": [
       "<pre>| solver                         | Solver used for training                         | adagrad  |</pre>"
      ],
      "text/plain": [
       "| solver                         | Solver used for training                         | adagrad  |"
      ]
     },
     "metadata": {},
     "output_type": "display_data"
    },
    {
     "data": {
      "text/html": [
       "<pre>| linear_regularization          | L2 Regularization on Linear Coefficients         | 1e-10    |</pre>"
      ],
      "text/plain": [
       "| linear_regularization          | L2 Regularization on Linear Coefficients         | 1e-10    |"
      ]
     },
     "metadata": {},
     "output_type": "display_data"
    },
    {
     "data": {
      "text/html": [
       "<pre>| side_data_factorization        | Assign Factors for Side Data                     | True     |</pre>"
      ],
      "text/plain": [
       "| side_data_factorization        | Assign Factors for Side Data                     | True     |"
      ]
     },
     "metadata": {},
     "output_type": "display_data"
    },
    {
     "data": {
      "text/html": [
       "<pre>| max_iterations                 | Maximum Number of Iterations                     | 50       |</pre>"
      ],
      "text/plain": [
       "| max_iterations                 | Maximum Number of Iterations                     | 50       |"
      ]
     },
     "metadata": {},
     "output_type": "display_data"
    },
    {
     "data": {
      "text/html": [
       "<pre>+--------------------------------+--------------------------------------------------+----------+</pre>"
      ],
      "text/plain": [
       "+--------------------------------+--------------------------------------------------+----------+"
      ]
     },
     "metadata": {},
     "output_type": "display_data"
    },
    {
     "data": {
      "text/html": [
       "<pre>  Optimizing model using SGD; tuning step size.</pre>"
      ],
      "text/plain": [
       "  Optimizing model using SGD; tuning step size."
      ]
     },
     "metadata": {},
     "output_type": "display_data"
    },
    {
     "data": {
      "text/html": [
       "<pre>  Using 10000 / 80003 points for tuning the step size.</pre>"
      ],
      "text/plain": [
       "  Using 10000 / 80003 points for tuning the step size."
      ]
     },
     "metadata": {},
     "output_type": "display_data"
    },
    {
     "data": {
      "text/html": [
       "<pre>+---------+-------------------+------------------------------------------+</pre>"
      ],
      "text/plain": [
       "+---------+-------------------+------------------------------------------+"
      ]
     },
     "metadata": {},
     "output_type": "display_data"
    },
    {
     "data": {
      "text/html": [
       "<pre>| Attempt | Initial Step Size | Estimated Objective Value                |</pre>"
      ],
      "text/plain": [
       "| Attempt | Initial Step Size | Estimated Objective Value                |"
      ]
     },
     "metadata": {},
     "output_type": "display_data"
    },
    {
     "data": {
      "text/html": [
       "<pre>+---------+-------------------+------------------------------------------+</pre>"
      ],
      "text/plain": [
       "+---------+-------------------+------------------------------------------+"
      ]
     },
     "metadata": {},
     "output_type": "display_data"
    },
    {
     "data": {
      "text/html": [
       "<pre>| 0       | 1.21951           | Not Viable                               |</pre>"
      ],
      "text/plain": [
       "| 0       | 1.21951           | Not Viable                               |"
      ]
     },
     "metadata": {},
     "output_type": "display_data"
    },
    {
     "data": {
      "text/html": [
       "<pre>| 1       | 0.304878          | Not Viable                               |</pre>"
      ],
      "text/plain": [
       "| 1       | 0.304878          | Not Viable                               |"
      ]
     },
     "metadata": {},
     "output_type": "display_data"
    },
    {
     "data": {
      "text/html": [
       "<pre>| 2       | 0.0762195         | 0.11429                                  |</pre>"
      ],
      "text/plain": [
       "| 2       | 0.0762195         | 0.11429                                  |"
      ]
     },
     "metadata": {},
     "output_type": "display_data"
    },
    {
     "data": {
      "text/html": [
       "<pre>| 3       | 0.0381098         | 0.199933                                 |</pre>"
      ],
      "text/plain": [
       "| 3       | 0.0381098         | 0.199933                                 |"
      ]
     },
     "metadata": {},
     "output_type": "display_data"
    },
    {
     "data": {
      "text/html": [
       "<pre>| 4       | 0.0190549         | 0.295478                                 |</pre>"
      ],
      "text/plain": [
       "| 4       | 0.0190549         | 0.295478                                 |"
      ]
     },
     "metadata": {},
     "output_type": "display_data"
    },
    {
     "data": {
      "text/html": [
       "<pre>+---------+-------------------+------------------------------------------+</pre>"
      ],
      "text/plain": [
       "+---------+-------------------+------------------------------------------+"
      ]
     },
     "metadata": {},
     "output_type": "display_data"
    },
    {
     "data": {
      "text/html": [
       "<pre>| Final   | 0.0762195         | 0.11429                                  |</pre>"
      ],
      "text/plain": [
       "| Final   | 0.0762195         | 0.11429                                  |"
      ]
     },
     "metadata": {},
     "output_type": "display_data"
    },
    {
     "data": {
      "text/html": [
       "<pre>+---------+-------------------+------------------------------------------+</pre>"
      ],
      "text/plain": [
       "+---------+-------------------+------------------------------------------+"
      ]
     },
     "metadata": {},
     "output_type": "display_data"
    },
    {
     "data": {
      "text/html": [
       "<pre>Starting Optimization.</pre>"
      ],
      "text/plain": [
       "Starting Optimization."
      ]
     },
     "metadata": {},
     "output_type": "display_data"
    },
    {
     "data": {
      "text/html": [
       "<pre>+---------+--------------+-------------------+-----------------------+-------------+</pre>"
      ],
      "text/plain": [
       "+---------+--------------+-------------------+-----------------------+-------------+"
      ]
     },
     "metadata": {},
     "output_type": "display_data"
    },
    {
     "data": {
      "text/html": [
       "<pre>| Iter.   | Elapsed Time | Approx. Objective | Approx. Training RMSE | Step Size   |</pre>"
      ],
      "text/plain": [
       "| Iter.   | Elapsed Time | Approx. Objective | Approx. Training RMSE | Step Size   |"
      ]
     },
     "metadata": {},
     "output_type": "display_data"
    },
    {
     "data": {
      "text/html": [
       "<pre>+---------+--------------+-------------------+-----------------------+-------------+</pre>"
      ],
      "text/plain": [
       "+---------+--------------+-------------------+-----------------------+-------------+"
      ]
     },
     "metadata": {},
     "output_type": "display_data"
    },
    {
     "data": {
      "text/html": [
       "<pre>| Initial | 96us         | 1.10937           | 1.05326               |             |</pre>"
      ],
      "text/plain": [
       "| Initial | 96us         | 1.10937           | 1.05326               |             |"
      ]
     },
     "metadata": {},
     "output_type": "display_data"
    },
    {
     "data": {
      "text/html": [
       "<pre>+---------+--------------+-------------------+-----------------------+-------------+</pre>"
      ],
      "text/plain": [
       "+---------+--------------+-------------------+-----------------------+-------------+"
      ]
     },
     "metadata": {},
     "output_type": "display_data"
    },
    {
     "data": {
      "text/html": [
       "<pre>| 1       | 278.613ms    | 0.892111          | 0.944499              | 0.0762195   |</pre>"
      ],
      "text/plain": [
       "| 1       | 278.613ms    | 0.892111          | 0.944499              | 0.0762195   |"
      ]
     },
     "metadata": {},
     "output_type": "display_data"
    },
    {
     "data": {
      "text/html": [
       "<pre>| 2       | 551.094ms    | 0.570913          | 0.755566              | 0.0762195   |</pre>"
      ],
      "text/plain": [
       "| 2       | 551.094ms    | 0.570913          | 0.755566              | 0.0762195   |"
      ]
     },
     "metadata": {},
     "output_type": "display_data"
    },
    {
     "data": {
      "text/html": [
       "<pre>| 3       | 824.412ms    | 0.433347          | 0.658261              | 0.0762195   |</pre>"
      ],
      "text/plain": [
       "| 3       | 824.412ms    | 0.433347          | 0.658261              | 0.0762195   |"
      ]
     },
     "metadata": {},
     "output_type": "display_data"
    },
    {
     "data": {
      "text/html": [
       "<pre>| 4       | 1.09s        | 0.350295          | 0.59182               | 0.0762195   |</pre>"
      ],
      "text/plain": [
       "| 4       | 1.09s        | 0.350295          | 0.59182               | 0.0762195   |"
      ]
     },
     "metadata": {},
     "output_type": "display_data"
    },
    {
     "data": {
      "text/html": [
       "<pre>| 5       | 1.35s        | 0.293361          | 0.541583              | 0.0762195   |</pre>"
      ],
      "text/plain": [
       "| 5       | 1.35s        | 0.293361          | 0.541583              | 0.0762195   |"
      ]
     },
     "metadata": {},
     "output_type": "display_data"
    },
    {
     "data": {
      "text/html": [
       "<pre>| 6       | 1.62s        | 0.250505          | 0.50045               | 0.0762195   |</pre>"
      ],
      "text/plain": [
       "| 6       | 1.62s        | 0.250505          | 0.50045               | 0.0762195   |"
      ]
     },
     "metadata": {},
     "output_type": "display_data"
    },
    {
     "data": {
      "text/html": [
       "<pre>| 10      | 2.68s        | 0.149374          | 0.386398              | 0.0762195   |</pre>"
      ],
      "text/plain": [
       "| 10      | 2.68s        | 0.149374          | 0.386398              | 0.0762195   |"
      ]
     },
     "metadata": {},
     "output_type": "display_data"
    },
    {
     "data": {
      "text/html": [
       "<pre>| 11      | 2.95s        | 0.13291           | 0.364467              | 0.0762195   |</pre>"
      ],
      "text/plain": [
       "| 11      | 2.95s        | 0.13291           | 0.364467              | 0.0762195   |"
      ]
     },
     "metadata": {},
     "output_type": "display_data"
    },
    {
     "data": {
      "text/html": [
       "<pre>| 15      | 4.00s        | 0.0888955         | 0.298011              | 0.0762195   |</pre>"
      ],
      "text/plain": [
       "| 15      | 4.00s        | 0.0888955         | 0.298011              | 0.0762195   |"
      ]
     },
     "metadata": {},
     "output_type": "display_data"
    },
    {
     "data": {
      "text/html": [
       "<pre>| 20      | 5.39s        | 0.0587284         | 0.242145              | 0.0762195   |</pre>"
      ],
      "text/plain": [
       "| 20      | 5.39s        | 0.0587284         | 0.242145              | 0.0762195   |"
      ]
     },
     "metadata": {},
     "output_type": "display_data"
    },
    {
     "data": {
      "text/html": [
       "<pre>| 25      | 6.99s        | 0.0422036         | 0.20519               | 0.0762195   |</pre>"
      ],
      "text/plain": [
       "| 25      | 6.99s        | 0.0422036         | 0.20519               | 0.0762195   |"
      ]
     },
     "metadata": {},
     "output_type": "display_data"
    },
    {
     "data": {
      "text/html": [
       "<pre>| 30      | 8.49s        | 0.0326631         | 0.180439              | 0.0762195   |</pre>"
      ],
      "text/plain": [
       "| 30      | 8.49s        | 0.0326631         | 0.180439              | 0.0762195   |"
      ]
     },
     "metadata": {},
     "output_type": "display_data"
    },
    {
     "data": {
      "text/html": [
       "<pre>| 35      | 9.90s        | 0.0265616         | 0.162645              | 0.0762195   |</pre>"
      ],
      "text/plain": [
       "| 35      | 9.90s        | 0.0265616         | 0.162645              | 0.0762195   |"
      ]
     },
     "metadata": {},
     "output_type": "display_data"
    },
    {
     "data": {
      "text/html": [
       "<pre>| 40      | 11.25s       | 0.0222565         | 0.148815              | 0.0762195   |</pre>"
      ],
      "text/plain": [
       "| 40      | 11.25s       | 0.0222565         | 0.148815              | 0.0762195   |"
      ]
     },
     "metadata": {},
     "output_type": "display_data"
    },
    {
     "data": {
      "text/html": [
       "<pre>| 45      | 12.56s       | 0.0192139         | 0.138208              | 0.0762195   |</pre>"
      ],
      "text/plain": [
       "| 45      | 12.56s       | 0.0192139         | 0.138208              | 0.0762195   |"
      ]
     },
     "metadata": {},
     "output_type": "display_data"
    },
    {
     "data": {
      "text/html": [
       "<pre>| 50      | 13.87s       | 0.0180048         | 0.133757              | 0.0762195   |</pre>"
      ],
      "text/plain": [
       "| 50      | 13.87s       | 0.0180048         | 0.133757              | 0.0762195   |"
      ]
     },
     "metadata": {},
     "output_type": "display_data"
    },
    {
     "data": {
      "text/html": [
       "<pre>+---------+--------------+-------------------+-----------------------+-------------+</pre>"
      ],
      "text/plain": [
       "+---------+--------------+-------------------+-----------------------+-------------+"
      ]
     },
     "metadata": {},
     "output_type": "display_data"
    },
    {
     "data": {
      "text/html": [
       "<pre>Optimization Complete: Maximum number of passes through the data reached.</pre>"
      ],
      "text/plain": [
       "Optimization Complete: Maximum number of passes through the data reached."
      ]
     },
     "metadata": {},
     "output_type": "display_data"
    },
    {
     "data": {
      "text/html": [
       "<pre>Computing final objective value and training RMSE.</pre>"
      ],
      "text/plain": [
       "Computing final objective value and training RMSE."
      ]
     },
     "metadata": {},
     "output_type": "display_data"
    },
    {
     "data": {
      "text/html": [
       "<pre>       Final objective value: 0.0179604</pre>"
      ],
      "text/plain": [
       "       Final objective value: 0.0179604"
      ]
     },
     "metadata": {},
     "output_type": "display_data"
    },
    {
     "data": {
      "text/html": [
       "<pre>       Final training RMSE: 0.133591</pre>"
      ],
      "text/plain": [
       "       Final training RMSE: 0.133591"
      ]
     },
     "metadata": {},
     "output_type": "display_data"
    },
    {
     "name": "stdout",
     "output_type": "stream",
     "text": [
      "\n",
      "Precision and recall summary statistics by cutoff\n",
      "+--------+------------------+-------------------+\n",
      "| cutoff |  mean_precision  |    mean_recall    |\n",
      "+--------+------------------+-------------------+\n",
      "|   1    |       0.0        |        0.0        |\n",
      "|   2    | 0.00434782608696 | 5.53510641242e-06 |\n",
      "|   3    | 0.0202898550725  | 0.000132848175022 |\n",
      "|   4    | 0.0173913043478  | 0.000138383281435 |\n",
      "|   5    |  0.015652173913  |  0.00017082974477 |\n",
      "|   6    | 0.0130434782609  |  0.00017082974477 |\n",
      "|   7    | 0.0111801242236  |  0.00017082974477 |\n",
      "|   8    | 0.0108695652174  | 0.000185226519893 |\n",
      "|   9    | 0.00966183574879 | 0.000185226519893 |\n",
      "|   10   | 0.00869565217391 | 0.000185226519893 |\n",
      "+--------+------------------+-------------------+\n",
      "[10 rows x 3 columns]\n",
      "\n",
      "('\\nOverall RMSE: ', 0.9861612134221129)\n",
      "\n",
      "Per User RMSE (best)\n",
      "+--------+-------+----------------+\n",
      "| userId | count |      rmse      |\n",
      "+--------+-------+----------------+\n",
      "|  494   |   78  | 0.594704618082 |\n",
      "+--------+-------+----------------+\n",
      "[1 rows x 3 columns]\n",
      "\n",
      "\n",
      "Per User RMSE (worst)\n",
      "+--------+-------+---------------+\n",
      "| userId | count |      rmse     |\n",
      "+--------+-------+---------------+\n",
      "|  477   |   21  | 1.94298249221 |\n",
      "+--------+-------+---------------+\n",
      "[1 rows x 3 columns]\n",
      "\n",
      "\n",
      "Per Item RMSE (best)\n",
      "+---------+-------+-------------------+\n",
      "| movieId | count |        rmse       |\n",
      "+---------+-------+-------------------+\n",
      "|  132046 |   1   | 0.000593694959517 |\n",
      "+---------+-------+-------------------+\n",
      "[1 rows x 3 columns]\n",
      "\n",
      "\n",
      "Per Item RMSE (worst)\n",
      "+---------+-------+--------------+\n",
      "| movieId | count |     rmse     |\n",
      "+---------+-------+--------------+\n",
      "|   2570  |   1   | 4.0590550984 |\n",
      "+---------+-------+--------------+\n",
      "[1 rows x 3 columns]\n",
      "\n",
      "{'rmse_by_user': Columns:\n",
      "\tuserId\tint\n",
      "\tcount\tint\n",
      "\trmse\tfloat\n",
      "\n",
      "Rows: 115\n",
      "\n",
      "Data:\n",
      "+--------+-------+----------------+\n",
      "| userId | count |      rmse      |\n",
      "+--------+-------+----------------+\n",
      "|  435   |   23  | 0.92258635672  |\n",
      "|  537   |  307  | 0.990784828777 |\n",
      "|  526   |   27  | 0.835413775567 |\n",
      "|  511   |   31  | 0.955759014444 |\n",
      "|  454   |   27  | 0.924409582181 |\n",
      "|  444   |   20  |  1.0033782061  |\n",
      "|  499   |   33  | 0.914534096379 |\n",
      "|  517   |   42  | 1.25281093346  |\n",
      "|  496   |  126  |  1.0169908306  |\n",
      "|  498   |   20  | 1.23941104159  |\n",
      "+--------+-------+----------------+\n",
      "[115 rows x 3 columns]\n",
      "Note: Only the head of the SFrame is printed.\n",
      "You can use print_rows(num_rows=m, num_columns=n) to print more rows and columns., 'precision_recall_overall': Columns:\n",
      "\tcutoff\tint\n",
      "\tprecision\tfloat\n",
      "\trecall\tfloat\n",
      "\n",
      "Rows: 18\n",
      "\n",
      "Data:\n",
      "+--------+------------------+-------------------+\n",
      "| cutoff |    precision     |       recall      |\n",
      "+--------+------------------+-------------------+\n",
      "|   1    |       0.0        |        0.0        |\n",
      "|   2    | 0.00434782608696 | 5.53510641242e-06 |\n",
      "|   3    | 0.0202898550725  | 0.000132848175022 |\n",
      "|   4    | 0.0173913043478  | 0.000138383281435 |\n",
      "|   5    |  0.015652173913  |  0.00017082974477 |\n",
      "|   6    | 0.0130434782609  |  0.00017082974477 |\n",
      "|   7    | 0.0111801242236  |  0.00017082974477 |\n",
      "|   8    | 0.0108695652174  | 0.000185226519893 |\n",
      "|   9    | 0.00966183574879 | 0.000185226519893 |\n",
      "|   10   | 0.00869565217391 | 0.000185226519893 |\n",
      "+--------+------------------+-------------------+\n",
      "[18 rows x 3 columns]\n",
      "Note: Only the head of the SFrame is printed.\n",
      "You can use print_rows(num_rows=m, num_columns=n) to print more rows and columns., 'rmse_by_item': Columns:\n",
      "\tmovieId\tint\n",
      "\tcount\tint\n",
      "\trmse\tfloat\n",
      "\n",
      "Rows: 4914\n",
      "\n",
      "Data:\n",
      "+---------+-------+-----------------+\n",
      "| movieId | count |       rmse      |\n",
      "+---------+-------+-----------------+\n",
      "|   5288  |   2   |  0.971318278215 |\n",
      "|  42728  |   1   | 0.0307762042396 |\n",
      "|   2779  |   3   |  0.333380477811 |\n",
      "|   118   |   1   |  0.389569169581 |\n",
      "|   3988  |   7   |  1.95376316174  |\n",
      "|   2847  |   1   |  0.45923356101  |\n",
      "|  64614  |   8   |  0.766015782071 |\n",
      "|   2925  |   2   |  0.955910552165 |\n",
      "|   2871  |   12  |  0.859716836229 |\n",
      "|   3913  |   1   |  0.922757283183 |\n",
      "+---------+-------+-----------------+\n",
      "[4914 rows x 3 columns]\n",
      "Note: Only the head of the SFrame is printed.\n",
      "You can use print_rows(num_rows=m, num_columns=n) to print more rows and columns., 'precision_recall_by_user': Columns:\n",
      "\tuserId\tint\n",
      "\tcutoff\tint\n",
      "\tprecision\tfloat\n",
      "\trecall\tfloat\n",
      "\tcount\tint\n",
      "\n",
      "Rows: 2070\n",
      "\n",
      "Data:\n",
      "+--------+--------+-----------+--------+-------+\n",
      "| userId | cutoff | precision | recall | count |\n",
      "+--------+--------+-----------+--------+-------+\n",
      "|  433   |   1    |    0.0    |  0.0   |   55  |\n",
      "|  433   |   2    |    0.0    |  0.0   |   55  |\n",
      "|  433   |   3    |    0.0    |  0.0   |   55  |\n",
      "|  433   |   4    |    0.0    |  0.0   |   55  |\n",
      "|  433   |   5    |    0.0    |  0.0   |   55  |\n",
      "|  433   |   6    |    0.0    |  0.0   |   55  |\n",
      "|  433   |   7    |    0.0    |  0.0   |   55  |\n",
      "|  433   |   8    |    0.0    |  0.0   |   55  |\n",
      "|  433   |   9    |    0.0    |  0.0   |   55  |\n",
      "|  433   |   10   |    0.0    |  0.0   |   55  |\n",
      "+--------+--------+-----------+--------+-------+\n",
      "[2070 rows x 5 columns]\n",
      "Note: Only the head of the SFrame is printed.\n",
      "You can use print_rows(num_rows=m, num_columns=n) to print more rows and columns., 'rmse_overall': 0.9861612134221129}\n"
     ]
    },
    {
     "data": {
      "text/html": [
       "<pre>Recsys training: model = factorization_recommender</pre>"
      ],
      "text/plain": [
       "Recsys training: model = factorization_recommender"
      ]
     },
     "metadata": {},
     "output_type": "display_data"
    },
    {
     "data": {
      "text/html": [
       "<pre>Preparing data set.</pre>"
      ],
      "text/plain": [
       "Preparing data set."
      ]
     },
     "metadata": {},
     "output_type": "display_data"
    },
    {
     "data": {
      "text/html": [
       "<pre>    Data has 80004 observations with 671 users and 9125 items.</pre>"
      ],
      "text/plain": [
       "    Data has 80004 observations with 671 users and 9125 items."
      ]
     },
     "metadata": {},
     "output_type": "display_data"
    },
    {
     "data": {
      "text/html": [
       "<pre>    Data prepared in: 0.814388s</pre>"
      ],
      "text/plain": [
       "    Data prepared in: 0.814388s"
      ]
     },
     "metadata": {},
     "output_type": "display_data"
    },
    {
     "data": {
      "text/html": [
       "<pre>Training factorization_recommender for recommendations.</pre>"
      ],
      "text/plain": [
       "Training factorization_recommender for recommendations."
      ]
     },
     "metadata": {},
     "output_type": "display_data"
    },
    {
     "data": {
      "text/html": [
       "<pre>+--------------------------------+--------------------------------------------------+----------+</pre>"
      ],
      "text/plain": [
       "+--------------------------------+--------------------------------------------------+----------+"
      ]
     },
     "metadata": {},
     "output_type": "display_data"
    },
    {
     "data": {
      "text/html": [
       "<pre>| Parameter                      | Description                                      | Value    |</pre>"
      ],
      "text/plain": [
       "| Parameter                      | Description                                      | Value    |"
      ]
     },
     "metadata": {},
     "output_type": "display_data"
    },
    {
     "data": {
      "text/html": [
       "<pre>+--------------------------------+--------------------------------------------------+----------+</pre>"
      ],
      "text/plain": [
       "+--------------------------------+--------------------------------------------------+----------+"
      ]
     },
     "metadata": {},
     "output_type": "display_data"
    },
    {
     "data": {
      "text/html": [
       "<pre>| num_factors                    | Factor Dimension                                 | 4        |</pre>"
      ],
      "text/plain": [
       "| num_factors                    | Factor Dimension                                 | 4        |"
      ]
     },
     "metadata": {},
     "output_type": "display_data"
    },
    {
     "data": {
      "text/html": [
       "<pre>| regularization                 | L2 Regularization on Factors                     | 1e-08    |</pre>"
      ],
      "text/plain": [
       "| regularization                 | L2 Regularization on Factors                     | 1e-08    |"
      ]
     },
     "metadata": {},
     "output_type": "display_data"
    },
    {
     "data": {
      "text/html": [
       "<pre>| solver                         | Solver used for training                         | adagrad  |</pre>"
      ],
      "text/plain": [
       "| solver                         | Solver used for training                         | adagrad  |"
      ]
     },
     "metadata": {},
     "output_type": "display_data"
    },
    {
     "data": {
      "text/html": [
       "<pre>| linear_regularization          | L2 Regularization on Linear Coefficients         | 1e-10    |</pre>"
      ],
      "text/plain": [
       "| linear_regularization          | L2 Regularization on Linear Coefficients         | 1e-10    |"
      ]
     },
     "metadata": {},
     "output_type": "display_data"
    },
    {
     "data": {
      "text/html": [
       "<pre>| side_data_factorization        | Assign Factors for Side Data                     | True     |</pre>"
      ],
      "text/plain": [
       "| side_data_factorization        | Assign Factors for Side Data                     | True     |"
      ]
     },
     "metadata": {},
     "output_type": "display_data"
    },
    {
     "data": {
      "text/html": [
       "<pre>| max_iterations                 | Maximum Number of Iterations                     | 50       |</pre>"
      ],
      "text/plain": [
       "| max_iterations                 | Maximum Number of Iterations                     | 50       |"
      ]
     },
     "metadata": {},
     "output_type": "display_data"
    },
    {
     "data": {
      "text/html": [
       "<pre>+--------------------------------+--------------------------------------------------+----------+</pre>"
      ],
      "text/plain": [
       "+--------------------------------+--------------------------------------------------+----------+"
      ]
     },
     "metadata": {},
     "output_type": "display_data"
    },
    {
     "data": {
      "text/html": [
       "<pre>  Optimizing model using SGD; tuning step size.</pre>"
      ],
      "text/plain": [
       "  Optimizing model using SGD; tuning step size."
      ]
     },
     "metadata": {},
     "output_type": "display_data"
    },
    {
     "data": {
      "text/html": [
       "<pre>  Using 10000 / 80004 points for tuning the step size.</pre>"
      ],
      "text/plain": [
       "  Using 10000 / 80004 points for tuning the step size."
      ]
     },
     "metadata": {},
     "output_type": "display_data"
    },
    {
     "data": {
      "text/html": [
       "<pre>+---------+-------------------+------------------------------------------+</pre>"
      ],
      "text/plain": [
       "+---------+-------------------+------------------------------------------+"
      ]
     },
     "metadata": {},
     "output_type": "display_data"
    },
    {
     "data": {
      "text/html": [
       "<pre>| Attempt | Initial Step Size | Estimated Objective Value                |</pre>"
      ],
      "text/plain": [
       "| Attempt | Initial Step Size | Estimated Objective Value                |"
      ]
     },
     "metadata": {},
     "output_type": "display_data"
    },
    {
     "data": {
      "text/html": [
       "<pre>+---------+-------------------+------------------------------------------+</pre>"
      ],
      "text/plain": [
       "+---------+-------------------+------------------------------------------+"
      ]
     },
     "metadata": {},
     "output_type": "display_data"
    },
    {
     "data": {
      "text/html": [
       "<pre>| 0       | 1.21951           | Not Viable                               |</pre>"
      ],
      "text/plain": [
       "| 0       | 1.21951           | Not Viable                               |"
      ]
     },
     "metadata": {},
     "output_type": "display_data"
    },
    {
     "data": {
      "text/html": [
       "<pre>| 1       | 0.304878          | 0.175792                                 |</pre>"
      ],
      "text/plain": [
       "| 1       | 0.304878          | 0.175792                                 |"
      ]
     },
     "metadata": {},
     "output_type": "display_data"
    },
    {
     "data": {
      "text/html": [
       "<pre>| 2       | 0.152439          | 0.0720733                                |</pre>"
      ],
      "text/plain": [
       "| 2       | 0.152439          | 0.0720733                                |"
      ]
     },
     "metadata": {},
     "output_type": "display_data"
    },
    {
     "data": {
      "text/html": [
       "<pre>| 3       | 0.0762195         | 0.110765                                 |</pre>"
      ],
      "text/plain": [
       "| 3       | 0.0762195         | 0.110765                                 |"
      ]
     },
     "metadata": {},
     "output_type": "display_data"
    },
    {
     "data": {
      "text/html": [
       "<pre>| 4       | 0.0381098         | 0.186216                                 |</pre>"
      ],
      "text/plain": [
       "| 4       | 0.0381098         | 0.186216                                 |"
      ]
     },
     "metadata": {},
     "output_type": "display_data"
    },
    {
     "data": {
      "text/html": [
       "<pre>+---------+-------------------+------------------------------------------+</pre>"
      ],
      "text/plain": [
       "+---------+-------------------+------------------------------------------+"
      ]
     },
     "metadata": {},
     "output_type": "display_data"
    },
    {
     "data": {
      "text/html": [
       "<pre>| Final   | 0.152439          | 0.0720733                                |</pre>"
      ],
      "text/plain": [
       "| Final   | 0.152439          | 0.0720733                                |"
      ]
     },
     "metadata": {},
     "output_type": "display_data"
    },
    {
     "data": {
      "text/html": [
       "<pre>+---------+-------------------+------------------------------------------+</pre>"
      ],
      "text/plain": [
       "+---------+-------------------+------------------------------------------+"
      ]
     },
     "metadata": {},
     "output_type": "display_data"
    },
    {
     "data": {
      "text/html": [
       "<pre>Starting Optimization.</pre>"
      ],
      "text/plain": [
       "Starting Optimization."
      ]
     },
     "metadata": {},
     "output_type": "display_data"
    },
    {
     "data": {
      "text/html": [
       "<pre>+---------+--------------+-------------------+-----------------------+-------------+</pre>"
      ],
      "text/plain": [
       "+---------+--------------+-------------------+-----------------------+-------------+"
      ]
     },
     "metadata": {},
     "output_type": "display_data"
    },
    {
     "data": {
      "text/html": [
       "<pre>| Iter.   | Elapsed Time | Approx. Objective | Approx. Training RMSE | Step Size   |</pre>"
      ],
      "text/plain": [
       "| Iter.   | Elapsed Time | Approx. Objective | Approx. Training RMSE | Step Size   |"
      ]
     },
     "metadata": {},
     "output_type": "display_data"
    },
    {
     "data": {
      "text/html": [
       "<pre>+---------+--------------+-------------------+-----------------------+-------------+</pre>"
      ],
      "text/plain": [
       "+---------+--------------+-------------------+-----------------------+-------------+"
      ]
     },
     "metadata": {},
     "output_type": "display_data"
    },
    {
     "data": {
      "text/html": [
       "<pre>| Initial | 116us        | 1.13362           | 1.06472               |             |</pre>"
      ],
      "text/plain": [
       "| Initial | 116us        | 1.13362           | 1.06472               |             |"
      ]
     },
     "metadata": {},
     "output_type": "display_data"
    },
    {
     "data": {
      "text/html": [
       "<pre>+---------+--------------+-------------------+-----------------------+-------------+</pre>"
      ],
      "text/plain": [
       "+---------+--------------+-------------------+-----------------------+-------------+"
      ]
     },
     "metadata": {},
     "output_type": "display_data"
    },
    {
     "data": {
      "text/html": [
       "<pre>| 1       | 282.416ms    | 1.13484           | 1.06524               | 0.152439    |</pre>"
      ],
      "text/plain": [
       "| 1       | 282.416ms    | 1.13484           | 1.06524               | 0.152439    |"
      ]
     },
     "metadata": {},
     "output_type": "display_data"
    },
    {
     "data": {
      "text/html": [
       "<pre>| 2       | 555.23ms     | 0.616638          | 0.785203              | 0.152439    |</pre>"
      ],
      "text/plain": [
       "| 2       | 555.23ms     | 0.616638          | 0.785203              | 0.152439    |"
      ]
     },
     "metadata": {},
     "output_type": "display_data"
    },
    {
     "data": {
      "text/html": [
       "<pre>| 3       | 837.536ms    | 0.389535          | 0.624051              | 0.152439    |</pre>"
      ],
      "text/plain": [
       "| 3       | 837.536ms    | 0.389535          | 0.624051              | 0.152439    |"
      ]
     },
     "metadata": {},
     "output_type": "display_data"
    },
    {
     "data": {
      "text/html": [
       "<pre>| 4       | 1.11s        | 0.293981          | 0.542108              | 0.152439    |</pre>"
      ],
      "text/plain": [
       "| 4       | 1.11s        | 0.293981          | 0.542108              | 0.152439    |"
      ]
     },
     "metadata": {},
     "output_type": "display_data"
    },
    {
     "data": {
      "text/html": [
       "<pre>| 5       | 1.39s        | 0.23537           | 0.48504               | 0.152439    |</pre>"
      ],
      "text/plain": [
       "| 5       | 1.39s        | 0.23537           | 0.48504               | 0.152439    |"
      ]
     },
     "metadata": {},
     "output_type": "display_data"
    },
    {
     "data": {
      "text/html": [
       "<pre>| 6       | 1.65s        | 0.190772          | 0.436647              | 0.152439    |</pre>"
      ],
      "text/plain": [
       "| 6       | 1.65s        | 0.190772          | 0.436647              | 0.152439    |"
      ]
     },
     "metadata": {},
     "output_type": "display_data"
    },
    {
     "data": {
      "text/html": [
       "<pre>| 10      | 2.70s        | 0.0946963         | 0.307517              | 0.152439    |</pre>"
      ],
      "text/plain": [
       "| 10      | 2.70s        | 0.0946963         | 0.307517              | 0.152439    |"
      ]
     },
     "metadata": {},
     "output_type": "display_data"
    },
    {
     "data": {
      "text/html": [
       "<pre>| 11      | 2.96s        | 0.081007          | 0.284384              | 0.152439    |</pre>"
      ],
      "text/plain": [
       "| 11      | 2.96s        | 0.081007          | 0.284384              | 0.152439    |"
      ]
     },
     "metadata": {},
     "output_type": "display_data"
    },
    {
     "data": {
      "text/html": [
       "<pre>| 15      | 4.01s        | 0.0490033         | 0.221045              | 0.152439    |</pre>"
      ],
      "text/plain": [
       "| 15      | 4.01s        | 0.0490033         | 0.221045              | 0.152439    |"
      ]
     },
     "metadata": {},
     "output_type": "display_data"
    },
    {
     "data": {
      "text/html": [
       "<pre>| 20      | 5.31s        | 0.0311646         | 0.176111              | 0.152439    |</pre>"
      ],
      "text/plain": [
       "| 20      | 5.31s        | 0.0311646         | 0.176111              | 0.152439    |"
      ]
     },
     "metadata": {},
     "output_type": "display_data"
    },
    {
     "data": {
      "text/html": [
       "<pre>| 25      | 6.60s        | 0.0225173         | 0.149545              | 0.152439    |</pre>"
      ],
      "text/plain": [
       "| 25      | 6.60s        | 0.0225173         | 0.149545              | 0.152439    |"
      ]
     },
     "metadata": {},
     "output_type": "display_data"
    },
    {
     "data": {
      "text/html": [
       "<pre>| 30      | 7.90s        | 0.0177851         | 0.132773              | 0.152439    |</pre>"
      ],
      "text/plain": [
       "| 30      | 7.90s        | 0.0177851         | 0.132773              | 0.152439    |"
      ]
     },
     "metadata": {},
     "output_type": "display_data"
    },
    {
     "data": {
      "text/html": [
       "<pre>| 35      | 9.22s        | 0.0154317         | 0.123585              | 0.152439    |</pre>"
      ],
      "text/plain": [
       "| 35      | 9.22s        | 0.0154317         | 0.123585              | 0.152439    |"
      ]
     },
     "metadata": {},
     "output_type": "display_data"
    },
    {
     "data": {
      "text/html": [
       "<pre>| 40      | 10.54s       | 0.0131101         | 0.113798              | 0.152439    |</pre>"
      ],
      "text/plain": [
       "| 40      | 10.54s       | 0.0131101         | 0.113798              | 0.152439    |"
      ]
     },
     "metadata": {},
     "output_type": "display_data"
    },
    {
     "data": {
      "text/html": [
       "<pre>| 45      | 11.84s       | 0.0123077         | 0.11021               | 0.152439    |</pre>"
      ],
      "text/plain": [
       "| 45      | 11.84s       | 0.0123077         | 0.11021               | 0.152439    |"
      ]
     },
     "metadata": {},
     "output_type": "display_data"
    },
    {
     "data": {
      "text/html": [
       "<pre>| 50      | 13.15s       | 0.010497          | 0.101659              | 0.152439    |</pre>"
      ],
      "text/plain": [
       "| 50      | 13.15s       | 0.010497          | 0.101659              | 0.152439    |"
      ]
     },
     "metadata": {},
     "output_type": "display_data"
    },
    {
     "data": {
      "text/html": [
       "<pre>+---------+--------------+-------------------+-----------------------+-------------+</pre>"
      ],
      "text/plain": [
       "+---------+--------------+-------------------+-----------------------+-------------+"
      ]
     },
     "metadata": {},
     "output_type": "display_data"
    },
    {
     "data": {
      "text/html": [
       "<pre>Optimization Complete: Maximum number of passes through the data reached.</pre>"
      ],
      "text/plain": [
       "Optimization Complete: Maximum number of passes through the data reached."
      ]
     },
     "metadata": {},
     "output_type": "display_data"
    },
    {
     "data": {
      "text/html": [
       "<pre>Computing final objective value and training RMSE.</pre>"
      ],
      "text/plain": [
       "Computing final objective value and training RMSE."
      ]
     },
     "metadata": {},
     "output_type": "display_data"
    },
    {
     "data": {
      "text/html": [
       "<pre>       Final objective value: 0.0101083</pre>"
      ],
      "text/plain": [
       "       Final objective value: 0.0101083"
      ]
     },
     "metadata": {},
     "output_type": "display_data"
    },
    {
     "data": {
      "text/html": [
       "<pre>       Final training RMSE: 0.0997288</pre>"
      ],
      "text/plain": [
       "       Final training RMSE: 0.0997288"
      ]
     },
     "metadata": {},
     "output_type": "display_data"
    },
    {
     "name": "stdout",
     "output_type": "stream",
     "text": [
      "\n",
      "Precision and recall summary statistics by cutoff\n",
      "+--------+------------------+-------------------+\n",
      "| cutoff |  mean_precision  |    mean_recall    |\n",
      "+--------+------------------+-------------------+\n",
      "|   1    |      0.016       | 0.000146270627063 |\n",
      "|   2    |      0.008       | 0.000146270627063 |\n",
      "|   3    | 0.00533333333333 | 0.000146270627063 |\n",
      "|   4    |      0.004       | 0.000146270627063 |\n",
      "|   5    |      0.0032      | 0.000146270627063 |\n",
      "|   6    | 0.00533333333333 | 0.000171899740497 |\n",
      "|   7    | 0.00457142857143 | 0.000171899740497 |\n",
      "|   8    |      0.004       | 0.000171899740497 |\n",
      "|   9    | 0.00444444444444 | 0.000198926767524 |\n",
      "|   10   |      0.0056      | 0.000265197394586 |\n",
      "+--------+------------------+-------------------+\n",
      "[10 rows x 3 columns]\n",
      "\n",
      "('\\nOverall RMSE: ', 0.9891129559476167)\n",
      "\n",
      "Per User RMSE (best)\n",
      "+--------+-------+----------------+\n",
      "| userId | count |      rmse      |\n",
      "+--------+-------+----------------+\n",
      "|  583   |   20  | 0.581184344515 |\n",
      "+--------+-------+----------------+\n",
      "[1 rows x 3 columns]\n",
      "\n",
      "\n",
      "Per User RMSE (worst)\n",
      "+--------+-------+---------------+\n",
      "| userId | count |      rmse     |\n",
      "+--------+-------+---------------+\n",
      "|  579   |   21  | 2.39893758667 |\n",
      "+--------+-------+---------------+\n",
      "[1 rows x 3 columns]\n",
      "\n",
      "\n",
      "Per Item RMSE (best)\n",
      "+---------+-------+-------------------+\n",
      "| movieId | count |        rmse       |\n",
      "+---------+-------+-------------------+\n",
      "|  92665  |   1   | 0.000631819489349 |\n",
      "+---------+-------+-------------------+\n",
      "[1 rows x 3 columns]\n",
      "\n",
      "\n",
      "Per Item RMSE (worst)\n",
      "+---------+-------+---------------+\n",
      "| movieId | count |      rmse     |\n",
      "+---------+-------+---------------+\n",
      "|   2483  |   1   | 4.27718388542 |\n",
      "+---------+-------+---------------+\n",
      "[1 rows x 3 columns]\n",
      "\n",
      "{'rmse_by_user': Columns:\n",
      "\tuserId\tint\n",
      "\tcount\tint\n",
      "\trmse\tfloat\n",
      "\n",
      "Rows: 125\n",
      "\n",
      "Data:\n",
      "+--------+-------+----------------+\n",
      "| userId | count |      rmse      |\n",
      "+--------+-------+----------------+\n",
      "|  621   |   95  | 1.33344862867  |\n",
      "|  614   |   99  | 1.07562884323  |\n",
      "|  565   |   27  |  1.066815807   |\n",
      "|  640   |   49  | 1.11639423378  |\n",
      "|  631   |   31  | 0.879544067765 |\n",
      "|  573   |   38  | 0.866676302296 |\n",
      "|  617   |   75  | 1.22486678346  |\n",
      "|  578   |   34  | 1.66606600994  |\n",
      "|  550   |  135  | 0.826264796689 |\n",
      "|  607   |  427  | 0.883209534664 |\n",
      "+--------+-------+----------------+\n",
      "[125 rows x 3 columns]\n",
      "Note: Only the head of the SFrame is printed.\n",
      "You can use print_rows(num_rows=m, num_columns=n) to print more rows and columns., 'precision_recall_overall': Columns:\n",
      "\tcutoff\tint\n",
      "\tprecision\tfloat\n",
      "\trecall\tfloat\n",
      "\n",
      "Rows: 18\n",
      "\n",
      "Data:\n",
      "+--------+------------------+-------------------+\n",
      "| cutoff |    precision     |       recall      |\n",
      "+--------+------------------+-------------------+\n",
      "|   1    |      0.016       | 0.000146270627063 |\n",
      "|   2    |      0.008       | 0.000146270627063 |\n",
      "|   3    | 0.00533333333333 | 0.000146270627063 |\n",
      "|   4    |      0.004       | 0.000146270627063 |\n",
      "|   5    |      0.0032      | 0.000146270627063 |\n",
      "|   6    | 0.00533333333333 | 0.000171899740497 |\n",
      "|   7    | 0.00457142857143 | 0.000171899740497 |\n",
      "|   8    |      0.004       | 0.000171899740497 |\n",
      "|   9    | 0.00444444444444 | 0.000198926767524 |\n",
      "|   10   |      0.0056      | 0.000265197394586 |\n",
      "+--------+------------------+-------------------+\n",
      "[18 rows x 3 columns]\n",
      "Note: Only the head of the SFrame is printed.\n",
      "You can use print_rows(num_rows=m, num_columns=n) to print more rows and columns., 'rmse_by_item': Columns:\n",
      "\tmovieId\tint\n",
      "\tcount\tint\n",
      "\trmse\tfloat\n",
      "\n",
      "Rows: 5583\n",
      "\n",
      "Data:\n",
      "+---------+-------+-----------------+\n",
      "| movieId | count |       rmse      |\n",
      "+---------+-------+-----------------+\n",
      "|   7899  |   1   | 0.0489538604851 |\n",
      "|   6769  |   1   |   2.5473170288  |\n",
      "|   2779  |   6   |  0.709454898018 |\n",
      "|   118   |   2   |  1.43756880903  |\n",
      "|   3988  |   6   |  1.27324408446  |\n",
      "|   8727  |   1   |  1.28156153332  |\n",
      "|  64614  |   6   |  0.616183901326 |\n",
      "|   2925  |   1   |  1.17442735574  |\n",
      "|   2871  |   5   |  0.347647208025 |\n",
      "|   3913  |   1   |  0.171414278248 |\n",
      "+---------+-------+-----------------+\n",
      "[5583 rows x 3 columns]\n",
      "Note: Only the head of the SFrame is printed.\n",
      "You can use print_rows(num_rows=m, num_columns=n) to print more rows and columns., 'precision_recall_by_user': Columns:\n",
      "\tuserId\tint\n",
      "\tcutoff\tint\n",
      "\tprecision\tfloat\n",
      "\trecall\tfloat\n",
      "\tcount\tint\n",
      "\n",
      "Rows: 2250\n",
      "\n",
      "Data:\n",
      "+--------+--------+----------------+------------------+-------+\n",
      "| userId | cutoff |   precision    |      recall      | count |\n",
      "+--------+--------+----------------+------------------+-------+\n",
      "|  547   |   1    |      0.0       |       0.0        |  820  |\n",
      "|  547   |   2    |      0.0       |       0.0        |  820  |\n",
      "|  547   |   3    |      0.0       |       0.0        |  820  |\n",
      "|  547   |   4    |      0.0       |       0.0        |  820  |\n",
      "|  547   |   5    |      0.0       |       0.0        |  820  |\n",
      "|  547   |   6    | 0.166666666667 | 0.00121951219512 |  820  |\n",
      "|  547   |   7    | 0.142857142857 | 0.00121951219512 |  820  |\n",
      "|  547   |   8    |     0.125      | 0.00121951219512 |  820  |\n",
      "|  547   |   9    | 0.111111111111 | 0.00121951219512 |  820  |\n",
      "|  547   |   10   |      0.1       | 0.00121951219512 |  820  |\n",
      "+--------+--------+----------------+------------------+-------+\n",
      "[2250 rows x 5 columns]\n",
      "Note: Only the head of the SFrame is printed.\n",
      "You can use print_rows(num_rows=m, num_columns=n) to print more rows and columns., 'rmse_overall': 0.9891129559476167}\n"
     ]
    }
   ],
   "source": [
    "#K-Fold data split\n",
    "all_data.to_csv(\"full_dataset.csv\")\n",
    "hints = [int,int ,int ,float,str, str, str, str, str, str,str,str,str,str,str,str, str,str,float, int, float]\n",
    "data = graphlab.SFrame.read_csv('full_dataset.csv',column_type_hints= hints)\n",
    "\n",
    "data.head()\n",
    "\n",
    "kfolds = graphlab.cross_validation.KFold(data, 5)\n",
    "for train, test in kfolds:    \n",
    "    model = graphlab.factorization_recommender.create(train, target='rating', user_id='userId',\n",
    "                                               item_id='movieId',solver= \"adagrad\" , user_data = user_metadata,\n",
    "                                              item_data = movie_metadata, num_factors=4)\n",
    "    print(model.evaluate(test))\n",
    "\n"
   ]
  },
  {
   "cell_type": "code",
   "execution_count": 139,
   "metadata": {
    "collapsed": false
   },
   "outputs": [
    {
     "name": "stderr",
     "output_type": "stream",
     "text": [
      "[INFO] graphlab.deploy.job: Validating job.\n",
      "[INFO] graphlab.deploy.map_job: Validation complete. Job: 'Cross-Validation-Nov-07-2017-17-28-35-717361-55734694' ready for execution\n",
      "[INFO] graphlab.deploy.map_job: Job: 'Cross-Validation-Nov-07-2017-17-28-35-717361-55734694' scheduled.\n"
     ]
    },
    {
     "data": {
      "text/plain": [
       "Info\n",
       "------\n",
       "Job                : Cross-Validation-Nov-07-2017-17-28-35-717361-55734694\n",
       "Function(s)        : _train_test_model-0-0, _train_test_model-0-1, _train_test_model-0-2 ... (total 6 functions).\n",
       "Status             : Pending\n",
       "\n",
       "Help\n",
       "------\n",
       "Visualize progress : self.show()\n",
       "Query status       : self.get_status()\n",
       "Get results        : self.get_results()\n",
       "\n",
       "Environment\n",
       "----------\n",
       "LocalAsync: [\"name\": async]\n",
       "\n",
       "Metrics\n",
       "-------\n",
       "Start time         : None\n",
       "End time           : None\n",
       "None\n",
       "\n",
       "Execution Information\n",
       "---------------------\n",
       "Process pid          : 5251\n",
       "Execution Directory  : /Users/B.Patel@ibm.com/.graphlab/artifacts/results/job-results-a7d39a85-0fbf-4501-82cb-753214bc84c4\n",
       "Log file             : /Users/B.Patel@ibm.com/.graphlab/artifacts/results/job-results-a7d39a85-0fbf-4501-82cb-753214bc84c4/execution.log"
      ]
     },
     "execution_count": 139,
     "metadata": {},
     "output_type": "execute_result"
    }
   ],
   "source": [
    "params = dict([('target', 'rating'), ('user_id', 'userId'), ('item_id', 'movieId'), ('solver', 'adagrad')\n",
    "               , ('user_data', 'user_metadata'), ('item_data', 'movie_metadata'), ('num_factors', '4')])\n",
    "graphlab.toolkits.cross_validation.cross_val_score(kfolds, graphlab.factorization_recommender.create, params)\n"
   ]
  },
  {
   "cell_type": "code",
   "execution_count": 141,
   "metadata": {
    "collapsed": false
   },
   "outputs": [
    {
     "data": {
      "text/plain": [
       "(Columns:\n",
       " \tX1\tint\n",
       " \tuserId\tint\n",
       " \tmovieId\tint\n",
       " \trating\tfloat\n",
       " \ttimestamp\tstr\n",
       " \ttag\tstr\n",
       " \ttitle\tstr\n",
       " \tgenres\tstr\n",
       " \tgenres1\tstr\n",
       " \tgenres2\tstr\n",
       " \tgenres3\tstr\n",
       " \tgenres4\tstr\n",
       " \tgenres5\tstr\n",
       " \tgenres6\tstr\n",
       " \tgenres7\tstr\n",
       " \tgenres8\tstr\n",
       " \tgenres9\tstr\n",
       " \tgenres10\tstr\n",
       " \tYear_release\tfloat\n",
       " \timdbId\tint\n",
       " \ttmdbId\tfloat\n",
       " \n",
       " Rows: 80003\n",
       " \n",
       " Data:\n",
       " +----+--------+---------+--------+-------------------------+-----+\n",
       " | X1 | userId | movieId | rating |        timestamp        | tag |\n",
       " +----+--------+---------+--------+-------------------------+-----+\n",
       " | 0  |   1    |    31   |  2.5   | 1970-01-15 14:12:39.144 | nan |\n",
       " | 1  |   1    |   1029  |  3.0   | 1970-01-15 14:12:39.179 | nan |\n",
       " | 2  |   1    |   1061  |  3.0   | 1970-01-15 14:12:39.182 | nan |\n",
       " | 3  |   1    |   1129  |  2.0   | 1970-01-15 14:12:39.185 | nan |\n",
       " | 4  |   1    |   1172  |  4.0   | 1970-01-15 14:12:39.205 | nan |\n",
       " | 5  |   1    |   1263  |  2.0   | 1970-01-15 14:12:39.151 | nan |\n",
       " | 6  |   1    |   1287  |  2.0   | 1970-01-15 14:12:39.187 | nan |\n",
       " | 7  |   1    |   1293  |  2.0   | 1970-01-15 14:12:39.148 | nan |\n",
       " | 8  |   1    |   1339  |  3.5   | 1970-01-15 14:12:39.125 | nan |\n",
       " | 9  |   1    |   1343  |  2.0   | 1970-01-15 14:12:39.131 | nan |\n",
       " +----+--------+---------+--------+-------------------------+-----+\n",
       " +-------------------------------+-------------------------------+-----------+\n",
       " |             title             |             genres            |  genres1  |\n",
       " +-------------------------------+-------------------------------+-----------+\n",
       " |     Dangerous Minds (1995)    |             Drama             |   Drama   |\n",
       " |          Dumbo (1941)         | Animation|Children|Drama|M... | Animation |\n",
       " |        Sleepers (1996)        |            Thriller           |  Thriller |\n",
       " |  Escape from New York (1981)  | Action|Adventure|Sci-Fi|Th... |   Action  |\n",
       " | Cinema Paradiso (Nuovo cin... |             Drama             |   Drama   |\n",
       " |    Deer Hunter, The (1978)    |           Drama|War           |   Drama   |\n",
       " |         Ben-Hur (1959)        |     Action|Adventure|Drama    |   Action  |\n",
       " |         Gandhi (1982)         |             Drama             |   Drama   |\n",
       " | Dracula (Bram Stoker's Dra... | Fantasy|Horror|Romance|Thr... |  Fantasy  |\n",
       " |        Cape Fear (1991)       |            Thriller           |  Thriller |\n",
       " +-------------------------------+-------------------------------+-----------+\n",
       " +-----------+---------+----------+---------+---------+---------+---------+---------+\n",
       " |  genres2  | genres3 | genres4  | genres5 | genres6 | genres7 | genres8 | genres9 |\n",
       " +-----------+---------+----------+---------+---------+---------+---------+---------+\n",
       " |           |         |          |         |         |         |         |         |\n",
       " |  Children |  Drama  | Musical  |         |         |         |         |         |\n",
       " |           |         |          |         |         |         |         |         |\n",
       " | Adventure |  Sci-Fi | Thriller |         |         |         |         |         |\n",
       " |           |         |          |         |         |         |         |         |\n",
       " |    War    |         |          |         |         |         |         |         |\n",
       " | Adventure |  Drama  |          |         |         |         |         |         |\n",
       " |           |         |          |         |         |         |         |         |\n",
       " |   Horror  | Romance | Thriller |         |         |         |         |         |\n",
       " |           |         |          |         |         |         |         |         |\n",
       " +-----------+---------+----------+---------+---------+---------+---------+---------+\n",
       " +----------+--------------+--------+-----+\n",
       " | genres10 | Year_release | imdbId | ... |\n",
       " +----------+--------------+--------+-----+\n",
       " |          |    1995.0    | 112792 | ... |\n",
       " |          |    1941.0    | 33563  | ... |\n",
       " |          |    1996.0    | 117665 | ... |\n",
       " |          |    1981.0    | 82340  | ... |\n",
       " |          |    1989.0    | 95765  | ... |\n",
       " |          |    1978.0    | 77416  | ... |\n",
       " |          |    1959.0    | 52618  | ... |\n",
       " |          |    1982.0    | 83987  | ... |\n",
       " |          |    1992.0    | 103874 | ... |\n",
       " |          |    1991.0    | 101540 | ... |\n",
       " +----------+--------------+--------+-----+\n",
       " [80003 rows x 21 columns]\n",
       " Note: Only the head of the SFrame is printed.\n",
       " You can use print_rows(num_rows=m, num_columns=n) to print more rows and columns.,\n",
       " Columns:\n",
       " \tX1\tint\n",
       " \tuserId\tint\n",
       " \tmovieId\tint\n",
       " \trating\tfloat\n",
       " \ttimestamp\tstr\n",
       " \ttag\tstr\n",
       " \ttitle\tstr\n",
       " \tgenres\tstr\n",
       " \tgenres1\tstr\n",
       " \tgenres2\tstr\n",
       " \tgenres3\tstr\n",
       " \tgenres4\tstr\n",
       " \tgenres5\tstr\n",
       " \tgenres6\tstr\n",
       " \tgenres7\tstr\n",
       " \tgenres8\tstr\n",
       " \tgenres9\tstr\n",
       " \tgenres10\tstr\n",
       " \tYear_release\tfloat\n",
       " \timdbId\tint\n",
       " \ttmdbId\tfloat\n",
       " \n",
       " Rows: 20001\n",
       " \n",
       " Data:\n",
       " +-------+--------+---------+--------+-------------------------+-----+\n",
       " |   X1  | userId | movieId | rating |        timestamp        | tag |\n",
       " +-------+--------+---------+--------+-------------------------+-----+\n",
       " | 20001 |  133   |  72641  |  4.0   | 1970-01-17 09:22:28.353 | nan |\n",
       " | 20002 |  133   |  73290  |  5.0   | 1970-01-17 09:22:29.511 | nan |\n",
       " | 20003 |  133   |  73321  |  1.5   | 1970-01-17 09:22:32.072 | nan |\n",
       " | 20004 |  133   |  79132  |  1.0   | 1970-01-17 09:22:31.620 | nan |\n",
       " | 20005 |  133   |  80969  |  4.0   | 1970-01-17 09:22:30.601 | nan |\n",
       " | 20006 |  133   |  81562  |  4.0   | 1970-01-17 09:22:46.749 | nan |\n",
       " | 20007 |  133   |  81591  |  3.0   | 1970-01-17 09:22:28.004 | nan |\n",
       " | 20008 |  133   |  81834  |  4.0   | 1970-01-17 09:22:28.157 | nan |\n",
       " | 20009 |  133   |  82459  |  0.5   | 1970-01-17 09:22:31.654 | nan |\n",
       " | 20010 |  133   |  85438  |  2.5   | 1970-01-17 09:22:47.104 | nan |\n",
       " +-------+--------+---------+--------+-------------------------+-----+\n",
       " +-------------------------------+-------------------------------+-----------+\n",
       " |             title             |             genres            |  genres1  |\n",
       " +-------------------------------+-------------------------------+-----------+\n",
       " |    Blind Side, The  (2009)    |             Drama             |   Drama   |\n",
       " | Hachiko: A Dog's Story (a.... |             Drama             |   Drama   |\n",
       " |    Book of Eli, The (2010)    |     Action|Adventure|Drama    |   Action  |\n",
       " |        Inception (2010)       | Action|Crime|Drama|Mystery... |   Action  |\n",
       " |     Never Let Me Go (2010)    |      Drama|Romance|Sci-Fi     |   Drama   |\n",
       " |        127 Hours (2010)       |    Adventure|Drama|Thriller   | Adventure |\n",
       " |       Black Swan (2010)       |         Drama|Thriller        |   Drama   |\n",
       " | Harry Potter and the Death... | Action|Adventure|Fantasy|IMAX |   Action  |\n",
       " |        True Grit (2010)       |            Western            |  Western  |\n",
       " |        Jane Eyre (2011)       |         Drama|Romance         |   Drama   |\n",
       " +-------------------------------+-------------------------------+-----------+\n",
       " +-----------+----------+---------+---------+----------+---------+---------+---------+\n",
       " |  genres2  | genres3  | genres4 | genres5 | genres6  | genres7 | genres8 | genres9 |\n",
       " +-----------+----------+---------+---------+----------+---------+---------+---------+\n",
       " |           |          |         |         |          |         |         |         |\n",
       " |           |          |         |         |          |         |         |         |\n",
       " | Adventure |  Drama   |         |         |          |         |         |         |\n",
       " |   Crime   |  Drama   | Mystery |  Sci-Fi | Thriller |   IMAX  |         |         |\n",
       " |  Romance  |  Sci-Fi  |         |         |          |         |         |         |\n",
       " |   Drama   | Thriller |         |         |          |         |         |         |\n",
       " |  Thriller |          |         |         |          |         |         |         |\n",
       " | Adventure | Fantasy  |   IMAX  |         |          |         |         |         |\n",
       " |           |          |         |         |          |         |         |         |\n",
       " |  Romance  |          |         |         |          |         |         |         |\n",
       " +-----------+----------+---------+---------+----------+---------+---------+---------+\n",
       " +----------+--------------+---------+-----+\n",
       " | genres10 | Year_release |  imdbId | ... |\n",
       " +----------+--------------+---------+-----+\n",
       " |          |    2009.0    |  878804 | ... |\n",
       " |          |    2009.0    | 1028532 | ... |\n",
       " |          |    2010.0    | 1037705 | ... |\n",
       " |          |    2010.0    | 1375666 | ... |\n",
       " |          |    2010.0    | 1334260 | ... |\n",
       " |          |    2010.0    | 1542344 | ... |\n",
       " |          |    2010.0    |  947798 | ... |\n",
       " |          |    2010.0    |  926084 | ... |\n",
       " |          |    2010.0    | 1403865 | ... |\n",
       " |          |    2011.0    | 1229822 | ... |\n",
       " +----------+--------------+---------+-----+\n",
       " [20001 rows x 21 columns]\n",
       " Note: Only the head of the SFrame is printed.\n",
       " You can use print_rows(num_rows=m, num_columns=n) to print more rows and columns.)"
      ]
     },
     "execution_count": 141,
     "metadata": {},
     "output_type": "execute_result"
    }
   ],
   "source": [
    "#Sample fold\n",
    "(train, test) = kfolds[1]\n",
    "(train, test)"
   ]
  },
  {
   "cell_type": "markdown",
   "metadata": {},
   "source": [
    "The cross-validation error for K=5 is .9933. "
   ]
  }
 ],
 "metadata": {
  "kernelspec": {
   "display_name": "Python 2",
   "language": "python",
   "name": "python2"
  },
  "language_info": {
   "codemirror_mode": {
    "name": "ipython",
    "version": 2
   },
   "file_extension": ".py",
   "mimetype": "text/x-python",
   "name": "python",
   "nbconvert_exporter": "python",
   "pygments_lexer": "ipython2",
   "version": "2.7.11"
  }
 },
 "nbformat": 4,
 "nbformat_minor": 2
}
