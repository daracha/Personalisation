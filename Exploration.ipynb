{
 "cells": [
  {
   "cell_type": "code",
   "execution_count": 44,
   "metadata": {},
   "outputs": [],
   "source": [
    "#Importing required packages\n",
    "import pandas as pd\n",
    "import graphlab\n",
    "from sklearn.model_selection import train_test_split\n",
    "from matplotlib import pyplot as plt\n",
    "import numpy as np"
   ]
  },
  {
   "cell_type": "code",
   "execution_count": 2,
   "metadata": {
    "collapsed": true
   },
   "outputs": [],
   "source": [
    "#Importing datasets all the datasets from csv file\n",
    "links = pd.read_csv(\"links.csv\")\n",
    "movies = pd.read_csv(\"movies.csv\")\n",
    "ratings = pd.read_csv(\"ratings.csv\")\n",
    "tags = pd.read_csv(\"tags.csv\")"
   ]
  },
  {
   "cell_type": "code",
   "execution_count": 3,
   "metadata": {},
   "outputs": [
    {
     "data": {
      "text/html": [
       "<div>\n",
       "<style>\n",
       "    .dataframe thead tr:only-child th {\n",
       "        text-align: right;\n",
       "    }\n",
       "\n",
       "    .dataframe thead th {\n",
       "        text-align: left;\n",
       "    }\n",
       "\n",
       "    .dataframe tbody tr th {\n",
       "        vertical-align: top;\n",
       "    }\n",
       "</style>\n",
       "<table border=\"1\" class=\"dataframe\">\n",
       "  <thead>\n",
       "    <tr style=\"text-align: right;\">\n",
       "      <th></th>\n",
       "      <th>movieId</th>\n",
       "      <th>imdbId</th>\n",
       "      <th>tmdbId</th>\n",
       "    </tr>\n",
       "  </thead>\n",
       "  <tbody>\n",
       "    <tr>\n",
       "      <th>0</th>\n",
       "      <td>1</td>\n",
       "      <td>114709</td>\n",
       "      <td>862.0</td>\n",
       "    </tr>\n",
       "    <tr>\n",
       "      <th>1</th>\n",
       "      <td>2</td>\n",
       "      <td>113497</td>\n",
       "      <td>8844.0</td>\n",
       "    </tr>\n",
       "    <tr>\n",
       "      <th>2</th>\n",
       "      <td>3</td>\n",
       "      <td>113228</td>\n",
       "      <td>15602.0</td>\n",
       "    </tr>\n",
       "    <tr>\n",
       "      <th>3</th>\n",
       "      <td>4</td>\n",
       "      <td>114885</td>\n",
       "      <td>31357.0</td>\n",
       "    </tr>\n",
       "    <tr>\n",
       "      <th>4</th>\n",
       "      <td>5</td>\n",
       "      <td>113041</td>\n",
       "      <td>11862.0</td>\n",
       "    </tr>\n",
       "  </tbody>\n",
       "</table>\n",
       "</div>"
      ],
      "text/plain": [
       "   movieId  imdbId   tmdbId\n",
       "0        1  114709    862.0\n",
       "1        2  113497   8844.0\n",
       "2        3  113228  15602.0\n",
       "3        4  114885  31357.0\n",
       "4        5  113041  11862.0"
      ]
     },
     "execution_count": 3,
     "metadata": {},
     "output_type": "execute_result"
    }
   ],
   "source": [
    "#checking the head of the links dataset (at movie ID level)\n",
    "links.head()"
   ]
  },
  {
   "cell_type": "code",
   "execution_count": 4,
   "metadata": {},
   "outputs": [
    {
     "name": "stdout",
     "output_type": "stream",
     "text": [
      "Shape of links dataset = (9125, 3)\n"
     ]
    }
   ],
   "source": [
    "#checking the shape of the links dataset\n",
    "links_shape = links.shape\n",
    "print(\"Shape of links dataset = {}\".format(links_shape))"
   ]
  },
  {
   "cell_type": "code",
   "execution_count": 5,
   "metadata": {},
   "outputs": [
    {
     "name": "stdout",
     "output_type": "stream",
     "text": [
      "No of unique movieIds in links dataset = 9125\n"
     ]
    }
   ],
   "source": [
    "#number of unique movie Ids in the links dataset\n",
    "uni_movieIds_links = links[\"movieId\"].nunique()\n",
    "print(\"No of unique movieIds in links dataset = {}\".format(uni_movieIds_links))"
   ]
  },
  {
   "cell_type": "code",
   "execution_count": 7,
   "metadata": {},
   "outputs": [
    {
     "data": {
      "text/plain": [
       "movieId    False\n",
       "imdbId     False\n",
       "tmdbId      True\n",
       "dtype: bool"
      ]
     },
     "execution_count": 7,
     "metadata": {},
     "output_type": "execute_result"
    }
   ],
   "source": [
    "#checking if a column has null values \n",
    "links.isnull().any()"
   ]
  },
  {
   "cell_type": "code",
   "execution_count": 8,
   "metadata": {},
   "outputs": [
    {
     "data": {
      "text/html": [
       "<div>\n",
       "<style>\n",
       "    .dataframe thead tr:only-child th {\n",
       "        text-align: right;\n",
       "    }\n",
       "\n",
       "    .dataframe thead th {\n",
       "        text-align: left;\n",
       "    }\n",
       "\n",
       "    .dataframe tbody tr th {\n",
       "        vertical-align: top;\n",
       "    }\n",
       "</style>\n",
       "<table border=\"1\" class=\"dataframe\">\n",
       "  <thead>\n",
       "    <tr style=\"text-align: right;\">\n",
       "      <th></th>\n",
       "      <th>movieId</th>\n",
       "      <th>imdbId</th>\n",
       "      <th>tmdbId</th>\n",
       "    </tr>\n",
       "  </thead>\n",
       "  <tbody>\n",
       "    <tr>\n",
       "      <th>607</th>\n",
       "      <td>720</td>\n",
       "      <td>118114</td>\n",
       "      <td>NaN</td>\n",
       "    </tr>\n",
       "    <tr>\n",
       "      <th>608</th>\n",
       "      <td>721</td>\n",
       "      <td>114103</td>\n",
       "      <td>NaN</td>\n",
       "    </tr>\n",
       "    <tr>\n",
       "      <th>640</th>\n",
       "      <td>769</td>\n",
       "      <td>116992</td>\n",
       "      <td>NaN</td>\n",
       "    </tr>\n",
       "    <tr>\n",
       "      <th>910</th>\n",
       "      <td>1133</td>\n",
       "      <td>111357</td>\n",
       "      <td>NaN</td>\n",
       "    </tr>\n",
       "    <tr>\n",
       "      <th>2282</th>\n",
       "      <td>2851</td>\n",
       "      <td>81454</td>\n",
       "      <td>NaN</td>\n",
       "    </tr>\n",
       "  </tbody>\n",
       "</table>\n",
       "</div>"
      ],
      "text/plain": [
       "      movieId  imdbId  tmdbId\n",
       "607       720  118114     NaN\n",
       "608       721  114103     NaN\n",
       "640       769  116992     NaN\n",
       "910      1133  111357     NaN\n",
       "2282     2851   81454     NaN"
      ]
     },
     "execution_count": 8,
     "metadata": {},
     "output_type": "execute_result"
    }
   ],
   "source": [
    "#looking at rows with missing tmdbid\n",
    "links[links[\"tmdbId\"].isnull()].head()"
   ]
  },
  {
   "cell_type": "code",
   "execution_count": 9,
   "metadata": {},
   "outputs": [
    {
     "name": "stdout",
     "output_type": "stream",
     "text": [
      "13 movies have missing tmdbId\n"
     ]
    }
   ],
   "source": [
    "#number of movies from which tmdbid is missing (13)\n",
    "missing_tmdbId = links.loc[links[\"tmdbId\"].isnull(), \"movieId\"].nunique()\n",
    "print(\"{} movies have missing tmdbId\".format(missing_tmdbId))"
   ]
  },
  {
   "cell_type": "code",
   "execution_count": 10,
   "metadata": {},
   "outputs": [
    {
     "data": {
      "text/html": [
       "<div>\n",
       "<style>\n",
       "    .dataframe thead tr:only-child th {\n",
       "        text-align: right;\n",
       "    }\n",
       "\n",
       "    .dataframe thead th {\n",
       "        text-align: left;\n",
       "    }\n",
       "\n",
       "    .dataframe tbody tr th {\n",
       "        vertical-align: top;\n",
       "    }\n",
       "</style>\n",
       "<table border=\"1\" class=\"dataframe\">\n",
       "  <thead>\n",
       "    <tr style=\"text-align: right;\">\n",
       "      <th></th>\n",
       "      <th>movieId</th>\n",
       "      <th>title</th>\n",
       "      <th>genres</th>\n",
       "    </tr>\n",
       "  </thead>\n",
       "  <tbody>\n",
       "    <tr>\n",
       "      <th>0</th>\n",
       "      <td>1</td>\n",
       "      <td>Toy Story (1995)</td>\n",
       "      <td>Adventure|Animation|Children|Comedy|Fantasy</td>\n",
       "    </tr>\n",
       "    <tr>\n",
       "      <th>1</th>\n",
       "      <td>2</td>\n",
       "      <td>Jumanji (1995)</td>\n",
       "      <td>Adventure|Children|Fantasy</td>\n",
       "    </tr>\n",
       "    <tr>\n",
       "      <th>2</th>\n",
       "      <td>3</td>\n",
       "      <td>Grumpier Old Men (1995)</td>\n",
       "      <td>Comedy|Romance</td>\n",
       "    </tr>\n",
       "    <tr>\n",
       "      <th>3</th>\n",
       "      <td>4</td>\n",
       "      <td>Waiting to Exhale (1995)</td>\n",
       "      <td>Comedy|Drama|Romance</td>\n",
       "    </tr>\n",
       "    <tr>\n",
       "      <th>4</th>\n",
       "      <td>5</td>\n",
       "      <td>Father of the Bride Part II (1995)</td>\n",
       "      <td>Comedy</td>\n",
       "    </tr>\n",
       "  </tbody>\n",
       "</table>\n",
       "</div>"
      ],
      "text/plain": [
       "   movieId                               title  \\\n",
       "0        1                    Toy Story (1995)   \n",
       "1        2                      Jumanji (1995)   \n",
       "2        3             Grumpier Old Men (1995)   \n",
       "3        4            Waiting to Exhale (1995)   \n",
       "4        5  Father of the Bride Part II (1995)   \n",
       "\n",
       "                                        genres  \n",
       "0  Adventure|Animation|Children|Comedy|Fantasy  \n",
       "1                   Adventure|Children|Fantasy  \n",
       "2                               Comedy|Romance  \n",
       "3                         Comedy|Drama|Romance  \n",
       "4                                       Comedy  "
      ]
     },
     "execution_count": 10,
     "metadata": {},
     "output_type": "execute_result"
    }
   ],
   "source": [
    "#checking the head of the movies dataset (at movie ID level)\n",
    "movies.head()"
   ]
  },
  {
   "cell_type": "code",
   "execution_count": 11,
   "metadata": {},
   "outputs": [
    {
     "name": "stdout",
     "output_type": "stream",
     "text": [
      "Shape of movies dataset = (9125, 3)\n"
     ]
    }
   ],
   "source": [
    "#checking the shape of the movies dataset\n",
    "movies_shape = movies.shape\n",
    "print(\"Shape of movies dataset = {}\".format(movies_shape))"
   ]
  },
  {
   "cell_type": "code",
   "execution_count": 12,
   "metadata": {},
   "outputs": [
    {
     "name": "stdout",
     "output_type": "stream",
     "text": [
      "No of unique movies in movies dataset = 9125\n"
     ]
    }
   ],
   "source": [
    "#Data is unique at movie Id level\n",
    "no_movies = movies[\"movieId\"].nunique()\n",
    "print(\"No of unique movies in movies dataset = {}\".format(no_movies))"
   ]
  },
  {
   "cell_type": "code",
   "execution_count": 13,
   "metadata": {},
   "outputs": [
    {
     "data": {
      "text/plain": [
       "movieId    False\n",
       "title      False\n",
       "genres     False\n",
       "dtype: bool"
      ]
     },
     "execution_count": 13,
     "metadata": {},
     "output_type": "execute_result"
    }
   ],
   "source": [
    "#checking for mising values (None)\n",
    "movies.isnull().any()"
   ]
  },
  {
   "cell_type": "code",
   "execution_count": 14,
   "metadata": {
    "collapsed": true
   },
   "outputs": [],
   "source": [
    "#creating a new dataset with genres split into different columns\n",
    "movies2 = pd.DataFrame(movies.genres.str.split('|').tolist(), columns = [\"genres1\",\"genres2\",\"genres3\",\"genres4\",\"genres5\",\"genres6\",\"genres7\",\"genres8\",\"genres9\",\"genres10\"])"
   ]
  },
  {
   "cell_type": "code",
   "execution_count": 15,
   "metadata": {},
   "outputs": [
    {
     "data": {
      "text/html": [
       "<div>\n",
       "<style>\n",
       "    .dataframe thead tr:only-child th {\n",
       "        text-align: right;\n",
       "    }\n",
       "\n",
       "    .dataframe thead th {\n",
       "        text-align: left;\n",
       "    }\n",
       "\n",
       "    .dataframe tbody tr th {\n",
       "        vertical-align: top;\n",
       "    }\n",
       "</style>\n",
       "<table border=\"1\" class=\"dataframe\">\n",
       "  <thead>\n",
       "    <tr style=\"text-align: right;\">\n",
       "      <th></th>\n",
       "      <th>movieId</th>\n",
       "      <th>title</th>\n",
       "      <th>genres</th>\n",
       "      <th>genres1</th>\n",
       "      <th>genres2</th>\n",
       "      <th>genres3</th>\n",
       "      <th>genres4</th>\n",
       "      <th>genres5</th>\n",
       "      <th>genres6</th>\n",
       "      <th>genres7</th>\n",
       "      <th>genres8</th>\n",
       "      <th>genres9</th>\n",
       "      <th>genres10</th>\n",
       "    </tr>\n",
       "  </thead>\n",
       "  <tbody>\n",
       "    <tr>\n",
       "      <th>0</th>\n",
       "      <td>1</td>\n",
       "      <td>Toy Story (1995)</td>\n",
       "      <td>Adventure|Animation|Children|Comedy|Fantasy</td>\n",
       "      <td>Adventure</td>\n",
       "      <td>Animation</td>\n",
       "      <td>Children</td>\n",
       "      <td>Comedy</td>\n",
       "      <td>Fantasy</td>\n",
       "      <td>None</td>\n",
       "      <td>None</td>\n",
       "      <td>None</td>\n",
       "      <td>None</td>\n",
       "      <td>None</td>\n",
       "    </tr>\n",
       "    <tr>\n",
       "      <th>1</th>\n",
       "      <td>2</td>\n",
       "      <td>Jumanji (1995)</td>\n",
       "      <td>Adventure|Children|Fantasy</td>\n",
       "      <td>Adventure</td>\n",
       "      <td>Children</td>\n",
       "      <td>Fantasy</td>\n",
       "      <td>None</td>\n",
       "      <td>None</td>\n",
       "      <td>None</td>\n",
       "      <td>None</td>\n",
       "      <td>None</td>\n",
       "      <td>None</td>\n",
       "      <td>None</td>\n",
       "    </tr>\n",
       "    <tr>\n",
       "      <th>2</th>\n",
       "      <td>3</td>\n",
       "      <td>Grumpier Old Men (1995)</td>\n",
       "      <td>Comedy|Romance</td>\n",
       "      <td>Comedy</td>\n",
       "      <td>Romance</td>\n",
       "      <td>None</td>\n",
       "      <td>None</td>\n",
       "      <td>None</td>\n",
       "      <td>None</td>\n",
       "      <td>None</td>\n",
       "      <td>None</td>\n",
       "      <td>None</td>\n",
       "      <td>None</td>\n",
       "    </tr>\n",
       "    <tr>\n",
       "      <th>3</th>\n",
       "      <td>4</td>\n",
       "      <td>Waiting to Exhale (1995)</td>\n",
       "      <td>Comedy|Drama|Romance</td>\n",
       "      <td>Comedy</td>\n",
       "      <td>Drama</td>\n",
       "      <td>Romance</td>\n",
       "      <td>None</td>\n",
       "      <td>None</td>\n",
       "      <td>None</td>\n",
       "      <td>None</td>\n",
       "      <td>None</td>\n",
       "      <td>None</td>\n",
       "      <td>None</td>\n",
       "    </tr>\n",
       "    <tr>\n",
       "      <th>4</th>\n",
       "      <td>5</td>\n",
       "      <td>Father of the Bride Part II (1995)</td>\n",
       "      <td>Comedy</td>\n",
       "      <td>Comedy</td>\n",
       "      <td>None</td>\n",
       "      <td>None</td>\n",
       "      <td>None</td>\n",
       "      <td>None</td>\n",
       "      <td>None</td>\n",
       "      <td>None</td>\n",
       "      <td>None</td>\n",
       "      <td>None</td>\n",
       "      <td>None</td>\n",
       "    </tr>\n",
       "  </tbody>\n",
       "</table>\n",
       "</div>"
      ],
      "text/plain": [
       "   movieId                               title  \\\n",
       "0        1                    Toy Story (1995)   \n",
       "1        2                      Jumanji (1995)   \n",
       "2        3             Grumpier Old Men (1995)   \n",
       "3        4            Waiting to Exhale (1995)   \n",
       "4        5  Father of the Bride Part II (1995)   \n",
       "\n",
       "                                        genres    genres1    genres2  \\\n",
       "0  Adventure|Animation|Children|Comedy|Fantasy  Adventure  Animation   \n",
       "1                   Adventure|Children|Fantasy  Adventure   Children   \n",
       "2                               Comedy|Romance     Comedy    Romance   \n",
       "3                         Comedy|Drama|Romance     Comedy      Drama   \n",
       "4                                       Comedy     Comedy       None   \n",
       "\n",
       "    genres3 genres4  genres5 genres6 genres7 genres8 genres9 genres10  \n",
       "0  Children  Comedy  Fantasy    None    None    None    None     None  \n",
       "1   Fantasy    None     None    None    None    None    None     None  \n",
       "2      None    None     None    None    None    None    None     None  \n",
       "3   Romance    None     None    None    None    None    None     None  \n",
       "4      None    None     None    None    None    None    None     None  "
      ]
     },
     "execution_count": 15,
     "metadata": {},
     "output_type": "execute_result"
    }
   ],
   "source": [
    "#concatenating the two datasets to create the final movies dataset\n",
    "movies_new = pd.concat([movies,movies2],axis = 1)\n",
    "movies_new.head()"
   ]
  },
  {
   "cell_type": "code",
   "execution_count": 16,
   "metadata": {},
   "outputs": [
    {
     "data": {
      "text/html": [
       "<div>\n",
       "<style>\n",
       "    .dataframe thead tr:only-child th {\n",
       "        text-align: right;\n",
       "    }\n",
       "\n",
       "    .dataframe thead th {\n",
       "        text-align: left;\n",
       "    }\n",
       "\n",
       "    .dataframe tbody tr th {\n",
       "        vertical-align: top;\n",
       "    }\n",
       "</style>\n",
       "<table border=\"1\" class=\"dataframe\">\n",
       "  <thead>\n",
       "    <tr style=\"text-align: right;\">\n",
       "      <th></th>\n",
       "      <th>movieId</th>\n",
       "      <th>title</th>\n",
       "      <th>genres</th>\n",
       "      <th>genres1</th>\n",
       "      <th>genres2</th>\n",
       "      <th>genres3</th>\n",
       "      <th>genres4</th>\n",
       "      <th>genres5</th>\n",
       "      <th>genres6</th>\n",
       "      <th>genres7</th>\n",
       "      <th>genres8</th>\n",
       "      <th>genres9</th>\n",
       "      <th>genres10</th>\n",
       "      <th>Year_release</th>\n",
       "    </tr>\n",
       "  </thead>\n",
       "  <tbody>\n",
       "    <tr>\n",
       "      <th>0</th>\n",
       "      <td>1</td>\n",
       "      <td>Toy Story (1995)</td>\n",
       "      <td>Adventure|Animation|Children|Comedy|Fantasy</td>\n",
       "      <td>Adventure</td>\n",
       "      <td>Animation</td>\n",
       "      <td>Children</td>\n",
       "      <td>Comedy</td>\n",
       "      <td>Fantasy</td>\n",
       "      <td>None</td>\n",
       "      <td>None</td>\n",
       "      <td>None</td>\n",
       "      <td>None</td>\n",
       "      <td>None</td>\n",
       "      <td>1995</td>\n",
       "    </tr>\n",
       "    <tr>\n",
       "      <th>1</th>\n",
       "      <td>2</td>\n",
       "      <td>Jumanji (1995)</td>\n",
       "      <td>Adventure|Children|Fantasy</td>\n",
       "      <td>Adventure</td>\n",
       "      <td>Children</td>\n",
       "      <td>Fantasy</td>\n",
       "      <td>None</td>\n",
       "      <td>None</td>\n",
       "      <td>None</td>\n",
       "      <td>None</td>\n",
       "      <td>None</td>\n",
       "      <td>None</td>\n",
       "      <td>None</td>\n",
       "      <td>1995</td>\n",
       "    </tr>\n",
       "    <tr>\n",
       "      <th>2</th>\n",
       "      <td>3</td>\n",
       "      <td>Grumpier Old Men (1995)</td>\n",
       "      <td>Comedy|Romance</td>\n",
       "      <td>Comedy</td>\n",
       "      <td>Romance</td>\n",
       "      <td>None</td>\n",
       "      <td>None</td>\n",
       "      <td>None</td>\n",
       "      <td>None</td>\n",
       "      <td>None</td>\n",
       "      <td>None</td>\n",
       "      <td>None</td>\n",
       "      <td>None</td>\n",
       "      <td>1995</td>\n",
       "    </tr>\n",
       "    <tr>\n",
       "      <th>3</th>\n",
       "      <td>4</td>\n",
       "      <td>Waiting to Exhale (1995)</td>\n",
       "      <td>Comedy|Drama|Romance</td>\n",
       "      <td>Comedy</td>\n",
       "      <td>Drama</td>\n",
       "      <td>Romance</td>\n",
       "      <td>None</td>\n",
       "      <td>None</td>\n",
       "      <td>None</td>\n",
       "      <td>None</td>\n",
       "      <td>None</td>\n",
       "      <td>None</td>\n",
       "      <td>None</td>\n",
       "      <td>1995</td>\n",
       "    </tr>\n",
       "    <tr>\n",
       "      <th>4</th>\n",
       "      <td>5</td>\n",
       "      <td>Father of the Bride Part II (1995)</td>\n",
       "      <td>Comedy</td>\n",
       "      <td>Comedy</td>\n",
       "      <td>None</td>\n",
       "      <td>None</td>\n",
       "      <td>None</td>\n",
       "      <td>None</td>\n",
       "      <td>None</td>\n",
       "      <td>None</td>\n",
       "      <td>None</td>\n",
       "      <td>None</td>\n",
       "      <td>None</td>\n",
       "      <td>1995</td>\n",
       "    </tr>\n",
       "  </tbody>\n",
       "</table>\n",
       "</div>"
      ],
      "text/plain": [
       "   movieId                               title  \\\n",
       "0        1                    Toy Story (1995)   \n",
       "1        2                      Jumanji (1995)   \n",
       "2        3             Grumpier Old Men (1995)   \n",
       "3        4            Waiting to Exhale (1995)   \n",
       "4        5  Father of the Bride Part II (1995)   \n",
       "\n",
       "                                        genres    genres1    genres2  \\\n",
       "0  Adventure|Animation|Children|Comedy|Fantasy  Adventure  Animation   \n",
       "1                   Adventure|Children|Fantasy  Adventure   Children   \n",
       "2                               Comedy|Romance     Comedy    Romance   \n",
       "3                         Comedy|Drama|Romance     Comedy      Drama   \n",
       "4                                       Comedy     Comedy       None   \n",
       "\n",
       "    genres3 genres4  genres5 genres6 genres7 genres8 genres9 genres10  \\\n",
       "0  Children  Comedy  Fantasy    None    None    None    None     None   \n",
       "1   Fantasy    None     None    None    None    None    None     None   \n",
       "2      None    None     None    None    None    None    None     None   \n",
       "3   Romance    None     None    None    None    None    None     None   \n",
       "4      None    None     None    None    None    None    None     None   \n",
       "\n",
       "  Year_release  \n",
       "0         1995  \n",
       "1         1995  \n",
       "2         1995  \n",
       "3         1995  \n",
       "4         1995  "
      ]
     },
     "execution_count": 16,
     "metadata": {},
     "output_type": "execute_result"
    }
   ],
   "source": [
    "#creating the year of release dataset from the title column\n",
    "movies_new[\"Year_release\"] = movies_new['title'].str.extract('(\\d\\d\\d\\d)', expand=True)\n",
    "movies_new.head()"
   ]
  },
  {
   "cell_type": "code",
   "execution_count": 17,
   "metadata": {},
   "outputs": [
    {
     "name": "stdout",
     "output_type": "stream",
     "text": [
      "Shape of movies_links dataset = (9125, 16)\n"
     ]
    }
   ],
   "source": [
    "#merging the the links and movies datasets as both are on movie ID level\n",
    "movies_links = pd.merge(movies_new,links, on = \"movieId\")\n",
    "movies_links.head()\n",
    "movies_links.shape\n",
    "movies_links_shape = movies_links.shape\n",
    "print(\"Shape of movies_links dataset = {}\".format(movies_links_shape))"
   ]
  },
  {
   "cell_type": "code",
   "execution_count": 19,
   "metadata": {},
   "outputs": [
    {
     "data": {
      "text/plain": [
       "movieId         False\n",
       "title           False\n",
       "genres          False\n",
       "genres1         False\n",
       "genres2          True\n",
       "genres3          True\n",
       "genres4          True\n",
       "genres5          True\n",
       "genres6          True\n",
       "genres7          True\n",
       "genres8          True\n",
       "genres9          True\n",
       "genres10         True\n",
       "Year_release     True\n",
       "imdbId          False\n",
       "tmdbId           True\n",
       "dtype: bool"
      ]
     },
     "execution_count": 19,
     "metadata": {},
     "output_type": "execute_result"
    }
   ],
   "source": [
    "movies_links.isnull().any()"
   ]
  },
  {
   "cell_type": "code",
   "execution_count": 24,
   "metadata": {},
   "outputs": [
    {
     "name": "stdout",
     "output_type": "stream",
     "text": [
      "4 movies have missing year of release\n"
     ]
    }
   ],
   "source": [
    "#No of movies with missing year of release \n",
    "missing_year = movies_new.loc[movies_new['Year_release'].isnull(),'movieId'].nunique()\n",
    "print(\"{} movies have missing year of release\".format(missing_year))"
   ]
  },
  {
   "cell_type": "code",
   "execution_count": 19,
   "metadata": {},
   "outputs": [
    {
     "data": {
      "text/html": [
       "<div>\n",
       "<style>\n",
       "    .dataframe thead tr:only-child th {\n",
       "        text-align: right;\n",
       "    }\n",
       "\n",
       "    .dataframe thead th {\n",
       "        text-align: left;\n",
       "    }\n",
       "\n",
       "    .dataframe tbody tr th {\n",
       "        vertical-align: top;\n",
       "    }\n",
       "</style>\n",
       "<table border=\"1\" class=\"dataframe\">\n",
       "  <thead>\n",
       "    <tr style=\"text-align: right;\">\n",
       "      <th></th>\n",
       "      <th>userId</th>\n",
       "      <th>movieId</th>\n",
       "      <th>rating</th>\n",
       "      <th>timestamp</th>\n",
       "    </tr>\n",
       "  </thead>\n",
       "  <tbody>\n",
       "    <tr>\n",
       "      <th>0</th>\n",
       "      <td>1</td>\n",
       "      <td>31</td>\n",
       "      <td>2.5</td>\n",
       "      <td>1260759144</td>\n",
       "    </tr>\n",
       "    <tr>\n",
       "      <th>1</th>\n",
       "      <td>1</td>\n",
       "      <td>1029</td>\n",
       "      <td>3.0</td>\n",
       "      <td>1260759179</td>\n",
       "    </tr>\n",
       "    <tr>\n",
       "      <th>2</th>\n",
       "      <td>1</td>\n",
       "      <td>1061</td>\n",
       "      <td>3.0</td>\n",
       "      <td>1260759182</td>\n",
       "    </tr>\n",
       "    <tr>\n",
       "      <th>3</th>\n",
       "      <td>1</td>\n",
       "      <td>1129</td>\n",
       "      <td>2.0</td>\n",
       "      <td>1260759185</td>\n",
       "    </tr>\n",
       "    <tr>\n",
       "      <th>4</th>\n",
       "      <td>1</td>\n",
       "      <td>1172</td>\n",
       "      <td>4.0</td>\n",
       "      <td>1260759205</td>\n",
       "    </tr>\n",
       "  </tbody>\n",
       "</table>\n",
       "</div>"
      ],
      "text/plain": [
       "   userId  movieId  rating   timestamp\n",
       "0       1       31     2.5  1260759144\n",
       "1       1     1029     3.0  1260759179\n",
       "2       1     1061     3.0  1260759182\n",
       "3       1     1129     2.0  1260759185\n",
       "4       1     1172     4.0  1260759205"
      ]
     },
     "execution_count": 19,
     "metadata": {},
     "output_type": "execute_result"
    }
   ],
   "source": [
    "#checking the head of the ratings data (unique at userID, movieID, timestamp level)\n",
    "ratings.head()"
   ]
  },
  {
   "cell_type": "code",
   "execution_count": 49,
   "metadata": {},
   "outputs": [
    {
     "name": "stdout",
     "output_type": "stream",
     "text": [
      "(100004, 4) is the shape of ratings data\n"
     ]
    }
   ],
   "source": [
    "#checking the shape of the ratings data\n",
    "ratings_shape = ratings.shape\n",
    "print(\"{} is the shape of ratings data\".format(ratings_shape))"
   ]
  },
  {
   "cell_type": "code",
   "execution_count": 50,
   "metadata": {},
   "outputs": [
    {
     "data": {
      "text/plain": [
       "userId       False\n",
       "movieId      False\n",
       "rating       False\n",
       "timestamp    False\n",
       "dtype: bool"
      ]
     },
     "execution_count": 50,
     "metadata": {},
     "output_type": "execute_result"
    }
   ],
   "source": [
    "#No missing entries in ratings data\n",
    "ratings.isnull().any()"
   ]
  },
  {
   "cell_type": "code",
   "execution_count": 35,
   "metadata": {},
   "outputs": [
    {
     "name": "stdout",
     "output_type": "stream",
     "text": [
      "No of unique users who have rated a movie = 671 \n",
      "No of unique movies that have been rated = 9066 \n",
      "No of unique values of ratings = 10 \n"
     ]
    }
   ],
   "source": [
    "#No of unique users 671\n",
    "m = ratings.nunique()\n",
    "uni_user = m[0]\n",
    "uni_movies = m[1]\n",
    "uni_ratings = m[2]\n",
    "print(\"No of unique users who have rated a movie = {} \".format(uni_user))\n",
    "print(\"No of unique movies that have been rated = {} \".format(uni_movies))\n",
    "print(\"No of unique values of ratings = {} \".format(uni_ratings))"
   ]
  },
  {
   "cell_type": "code",
   "execution_count": 47,
   "metadata": {},
   "outputs": [
    {
     "name": "stdout",
     "output_type": "stream",
     "text": [
      "Values of ratings =  [ 0.5  1.   1.5  2.   2.5  3.   3.5  4.   4.5  5. ]\n"
     ]
    }
   ],
   "source": [
    "#unique values of ratings \n",
    "k = ratings['rating'].unique()\n",
    "k = np.sort(k, kind= \"quicksort\")\n",
    "print(\"Values of ratings =  {}\".format(k))"
   ]
  },
  {
   "cell_type": "code",
   "execution_count": 48,
   "metadata": {},
   "outputs": [
    {
     "data": {
      "text/plain": [
       "rating\n",
       "0.5     1101\n",
       "1.0     3326\n",
       "1.5     1687\n",
       "2.0     7271\n",
       "2.5     4449\n",
       "3.0    20064\n",
       "3.5    10538\n",
       "4.0    28750\n",
       "4.5     7723\n",
       "5.0    15095\n",
       "Name: userId, dtype: int64"
      ]
     },
     "execution_count": 48,
     "metadata": {},
     "output_type": "execute_result"
    }
   ],
   "source": [
    "#overall distribution of ratings \n",
    "ratings.groupby('rating').userId.count()"
   ]
  },
  {
   "cell_type": "code",
   "execution_count": 25,
   "metadata": {},
   "outputs": [
    {
     "data": {
      "text/plain": [
       "1    100004\n",
       "Name: userId, dtype: int64"
      ]
     },
     "execution_count": 25,
     "metadata": {},
     "output_type": "execute_result"
    }
   ],
   "source": [
    "#Every customer has rated a movie only once\n",
    "ratings.groupby(['userId','movieId']).userId.count().value_counts()"
   ]
  },
  {
   "cell_type": "code",
   "execution_count": 26,
   "metadata": {},
   "outputs": [
    {
     "data": {
      "text/html": [
       "<div>\n",
       "<style>\n",
       "    .dataframe thead tr:only-child th {\n",
       "        text-align: right;\n",
       "    }\n",
       "\n",
       "    .dataframe thead th {\n",
       "        text-align: left;\n",
       "    }\n",
       "\n",
       "    .dataframe tbody tr th {\n",
       "        vertical-align: top;\n",
       "    }\n",
       "</style>\n",
       "<table border=\"1\" class=\"dataframe\">\n",
       "  <thead>\n",
       "    <tr style=\"text-align: right;\">\n",
       "      <th></th>\n",
       "      <th>userId</th>\n",
       "      <th>movieId</th>\n",
       "      <th>rating</th>\n",
       "      <th>timestamp</th>\n",
       "    </tr>\n",
       "  </thead>\n",
       "  <tbody>\n",
       "    <tr>\n",
       "      <th>0</th>\n",
       "      <td>1</td>\n",
       "      <td>31</td>\n",
       "      <td>2.5</td>\n",
       "      <td>1970-01-15 14:12:39.144</td>\n",
       "    </tr>\n",
       "    <tr>\n",
       "      <th>1</th>\n",
       "      <td>1</td>\n",
       "      <td>1029</td>\n",
       "      <td>3.0</td>\n",
       "      <td>1970-01-15 14:12:39.179</td>\n",
       "    </tr>\n",
       "    <tr>\n",
       "      <th>2</th>\n",
       "      <td>1</td>\n",
       "      <td>1061</td>\n",
       "      <td>3.0</td>\n",
       "      <td>1970-01-15 14:12:39.182</td>\n",
       "    </tr>\n",
       "    <tr>\n",
       "      <th>3</th>\n",
       "      <td>1</td>\n",
       "      <td>1129</td>\n",
       "      <td>2.0</td>\n",
       "      <td>1970-01-15 14:12:39.185</td>\n",
       "    </tr>\n",
       "    <tr>\n",
       "      <th>4</th>\n",
       "      <td>1</td>\n",
       "      <td>1172</td>\n",
       "      <td>4.0</td>\n",
       "      <td>1970-01-15 14:12:39.205</td>\n",
       "    </tr>\n",
       "  </tbody>\n",
       "</table>\n",
       "</div>"
      ],
      "text/plain": [
       "   userId  movieId  rating               timestamp\n",
       "0       1       31     2.5 1970-01-15 14:12:39.144\n",
       "1       1     1029     3.0 1970-01-15 14:12:39.179\n",
       "2       1     1061     3.0 1970-01-15 14:12:39.182\n",
       "3       1     1129     2.0 1970-01-15 14:12:39.185\n",
       "4       1     1172     4.0 1970-01-15 14:12:39.205"
      ]
     },
     "execution_count": 26,
     "metadata": {},
     "output_type": "execute_result"
    }
   ],
   "source": [
    "#converting time since epoch to datetime \n",
    "ratings[\"timestamp\"] = pd.to_datetime(ratings['timestamp'], unit='ms')\n",
    "ratings.head()"
   ]
  },
  {
   "cell_type": "code",
   "execution_count": 55,
   "metadata": {},
   "outputs": [
    {
     "data": {
      "text/html": [
       "<div>\n",
       "<style>\n",
       "    .dataframe thead tr:only-child th {\n",
       "        text-align: right;\n",
       "    }\n",
       "\n",
       "    .dataframe thead th {\n",
       "        text-align: left;\n",
       "    }\n",
       "\n",
       "    .dataframe tbody tr th {\n",
       "        vertical-align: top;\n",
       "    }\n",
       "</style>\n",
       "<table border=\"1\" class=\"dataframe\">\n",
       "  <thead>\n",
       "    <tr style=\"text-align: right;\">\n",
       "      <th></th>\n",
       "      <th>userId</th>\n",
       "      <th>movieId</th>\n",
       "      <th>tag</th>\n",
       "      <th>timestamp</th>\n",
       "    </tr>\n",
       "  </thead>\n",
       "  <tbody>\n",
       "    <tr>\n",
       "      <th>0</th>\n",
       "      <td>15</td>\n",
       "      <td>339</td>\n",
       "      <td>sandra 'boring' bullock</td>\n",
       "      <td>1138537770</td>\n",
       "    </tr>\n",
       "    <tr>\n",
       "      <th>1</th>\n",
       "      <td>15</td>\n",
       "      <td>1955</td>\n",
       "      <td>dentist</td>\n",
       "      <td>1193435061</td>\n",
       "    </tr>\n",
       "    <tr>\n",
       "      <th>2</th>\n",
       "      <td>15</td>\n",
       "      <td>7478</td>\n",
       "      <td>Cambodia</td>\n",
       "      <td>1170560997</td>\n",
       "    </tr>\n",
       "    <tr>\n",
       "      <th>3</th>\n",
       "      <td>15</td>\n",
       "      <td>32892</td>\n",
       "      <td>Russian</td>\n",
       "      <td>1170626366</td>\n",
       "    </tr>\n",
       "    <tr>\n",
       "      <th>4</th>\n",
       "      <td>15</td>\n",
       "      <td>34162</td>\n",
       "      <td>forgettable</td>\n",
       "      <td>1141391765</td>\n",
       "    </tr>\n",
       "  </tbody>\n",
       "</table>\n",
       "</div>"
      ],
      "text/plain": [
       "   userId  movieId                      tag   timestamp\n",
       "0      15      339  sandra 'boring' bullock  1138537770\n",
       "1      15     1955                  dentist  1193435061\n",
       "2      15     7478                 Cambodia  1170560997\n",
       "3      15    32892                  Russian  1170626366\n",
       "4      15    34162              forgettable  1141391765"
      ]
     },
     "execution_count": 55,
     "metadata": {},
     "output_type": "execute_result"
    }
   ],
   "source": [
    "#checking tags data \n",
    "tags.head()"
   ]
  },
  {
   "cell_type": "code",
   "execution_count": 57,
   "metadata": {},
   "outputs": [
    {
     "data": {
      "text/html": [
       "<div>\n",
       "<style>\n",
       "    .dataframe thead tr:only-child th {\n",
       "        text-align: right;\n",
       "    }\n",
       "\n",
       "    .dataframe thead th {\n",
       "        text-align: left;\n",
       "    }\n",
       "\n",
       "    .dataframe tbody tr th {\n",
       "        vertical-align: top;\n",
       "    }\n",
       "</style>\n",
       "<table border=\"1\" class=\"dataframe\">\n",
       "  <thead>\n",
       "    <tr style=\"text-align: right;\">\n",
       "      <th></th>\n",
       "      <th>userId</th>\n",
       "      <th>movieId</th>\n",
       "      <th>tag</th>\n",
       "      <th>timestamp</th>\n",
       "    </tr>\n",
       "  </thead>\n",
       "  <tbody>\n",
       "    <tr>\n",
       "      <th>0</th>\n",
       "      <td>15</td>\n",
       "      <td>339</td>\n",
       "      <td>sandra 'boring' bullock</td>\n",
       "      <td>1970-01-14 04:15:37.770</td>\n",
       "    </tr>\n",
       "    <tr>\n",
       "      <th>1</th>\n",
       "      <td>15</td>\n",
       "      <td>1955</td>\n",
       "      <td>dentist</td>\n",
       "      <td>1970-01-14 19:30:35.061</td>\n",
       "    </tr>\n",
       "    <tr>\n",
       "      <th>2</th>\n",
       "      <td>15</td>\n",
       "      <td>7478</td>\n",
       "      <td>Cambodia</td>\n",
       "      <td>1970-01-14 13:09:20.997</td>\n",
       "    </tr>\n",
       "    <tr>\n",
       "      <th>3</th>\n",
       "      <td>15</td>\n",
       "      <td>32892</td>\n",
       "      <td>Russian</td>\n",
       "      <td>1970-01-14 13:10:26.366</td>\n",
       "    </tr>\n",
       "    <tr>\n",
       "      <th>4</th>\n",
       "      <td>15</td>\n",
       "      <td>34162</td>\n",
       "      <td>forgettable</td>\n",
       "      <td>1970-01-14 05:03:11.765</td>\n",
       "    </tr>\n",
       "  </tbody>\n",
       "</table>\n",
       "</div>"
      ],
      "text/plain": [
       "   userId  movieId                      tag               timestamp\n",
       "0      15      339  sandra 'boring' bullock 1970-01-14 04:15:37.770\n",
       "1      15     1955                  dentist 1970-01-14 19:30:35.061\n",
       "2      15     7478                 Cambodia 1970-01-14 13:09:20.997\n",
       "3      15    32892                  Russian 1970-01-14 13:10:26.366\n",
       "4      15    34162              forgettable 1970-01-14 05:03:11.765"
      ]
     },
     "execution_count": 57,
     "metadata": {},
     "output_type": "execute_result"
    }
   ],
   "source": [
    "#converting time since epoch to datetime \n",
    "tags[\"timestamp\"] = pd.to_datetime(tags['timestamp'], unit='ms')\n",
    "tags.head()"
   ]
  },
  {
   "cell_type": "code",
   "execution_count": 58,
   "metadata": {},
   "outputs": [
    {
     "name": "stdout",
     "output_type": "stream",
     "text": [
      "Shape of tags dataset = (1296, 4)\n"
     ]
    }
   ],
   "source": [
    "#shape of tags data\n",
    "tags_shape = tags.shape\n",
    "print(\"Shape of tags dataset = {}\".format(tags_shape))"
   ]
  },
  {
   "cell_type": "code",
   "execution_count": 60,
   "metadata": {},
   "outputs": [
    {
     "name": "stdout",
     "output_type": "stream",
     "text": [
      "No of unique users who have tagged a movie = 61 \n",
      "No of unique movies that have been tagged = 689 \n",
      "No of unique values of tags = 582 \n"
     ]
    }
   ],
   "source": [
    "#No of unique values in tags dataset\n",
    "m = tags.nunique()\n",
    "uni_user = m[0]\n",
    "uni_movies = m[1]\n",
    "uni_tags = m[2]\n",
    "print(\"No of unique users who have tagged a movie = {} \".format(uni_user))\n",
    "print(\"No of unique movies that have been tagged = {} \".format(uni_movies))\n",
    "print(\"No of unique values of tags = {} \".format(uni_tags))"
   ]
  },
  {
   "cell_type": "code",
   "execution_count": 61,
   "metadata": {},
   "outputs": [
    {
     "data": {
      "text/plain": [
       "userId       False\n",
       "movieId      False\n",
       "tag          False\n",
       "timestamp    False\n",
       "dtype: bool"
      ]
     },
     "execution_count": 61,
     "metadata": {},
     "output_type": "execute_result"
    }
   ],
   "source": [
    "#checking Null values in the tags dataset\n",
    "tags.isnull().any()"
   ]
  },
  {
   "cell_type": "code",
   "execution_count": 73,
   "metadata": {},
   "outputs": [
    {
     "data": {
      "text/html": [
       "<div>\n",
       "<style>\n",
       "    .dataframe thead tr:only-child th {\n",
       "        text-align: right;\n",
       "    }\n",
       "\n",
       "    .dataframe thead th {\n",
       "        text-align: left;\n",
       "    }\n",
       "\n",
       "    .dataframe tbody tr th {\n",
       "        vertical-align: top;\n",
       "    }\n",
       "</style>\n",
       "<table border=\"1\" class=\"dataframe\">\n",
       "  <thead>\n",
       "    <tr style=\"text-align: right;\">\n",
       "      <th></th>\n",
       "      <th></th>\n",
       "      <th>tag</th>\n",
       "      <th>timestamp</th>\n",
       "    </tr>\n",
       "    <tr>\n",
       "      <th>userId</th>\n",
       "      <th>movieId</th>\n",
       "      <th></th>\n",
       "      <th></th>\n",
       "    </tr>\n",
       "  </thead>\n",
       "  <tbody>\n",
       "    <tr>\n",
       "      <th rowspan=\"3\" valign=\"top\">138</th>\n",
       "      <th>48780</th>\n",
       "      <td>6</td>\n",
       "      <td>6</td>\n",
       "    </tr>\n",
       "    <tr>\n",
       "      <th>79132</th>\n",
       "      <td>7</td>\n",
       "      <td>7</td>\n",
       "    </tr>\n",
       "    <tr>\n",
       "      <th>109487</th>\n",
       "      <td>12</td>\n",
       "      <td>12</td>\n",
       "    </tr>\n",
       "    <tr>\n",
       "      <th rowspan=\"2\" valign=\"top\">212</th>\n",
       "      <th>64957</th>\n",
       "      <td>8</td>\n",
       "      <td>8</td>\n",
       "    </tr>\n",
       "    <tr>\n",
       "      <th>66097</th>\n",
       "      <td>7</td>\n",
       "      <td>7</td>\n",
       "    </tr>\n",
       "  </tbody>\n",
       "</table>\n",
       "</div>"
      ],
      "text/plain": [
       "                tag  timestamp\n",
       "userId movieId                \n",
       "138    48780      6          6\n",
       "       79132      7          7\n",
       "       109487    12         12\n",
       "212    64957      8          8\n",
       "       66097      7          7"
      ]
     },
     "execution_count": 73,
     "metadata": {},
     "output_type": "execute_result"
    }
   ],
   "source": [
    "#looking at data with more than 5 tags for a movie\n",
    "df = tags.groupby(['userId','movieId']).count()\n",
    "df.loc[df['tag'] > 5].head()"
   ]
  },
  {
   "cell_type": "code",
   "execution_count": 64,
   "metadata": {
    "collapsed": true
   },
   "outputs": [],
   "source": [
    "#creating combined tag for a particular user movie combination\n",
    "tags_new =tags.groupby(['userId','movieId'], as_index=False).sum()"
   ]
  },
  {
   "cell_type": "code",
   "execution_count": 65,
   "metadata": {},
   "outputs": [
    {
     "data": {
      "text/html": [
       "<div>\n",
       "<style>\n",
       "    .dataframe thead tr:only-child th {\n",
       "        text-align: right;\n",
       "    }\n",
       "\n",
       "    .dataframe thead th {\n",
       "        text-align: left;\n",
       "    }\n",
       "\n",
       "    .dataframe tbody tr th {\n",
       "        vertical-align: top;\n",
       "    }\n",
       "</style>\n",
       "<table border=\"1\" class=\"dataframe\">\n",
       "  <thead>\n",
       "    <tr style=\"text-align: right;\">\n",
       "      <th></th>\n",
       "      <th>userId</th>\n",
       "      <th>movieId</th>\n",
       "      <th>tag</th>\n",
       "    </tr>\n",
       "  </thead>\n",
       "  <tbody>\n",
       "    <tr>\n",
       "      <th>0</th>\n",
       "      <td>15</td>\n",
       "      <td>339</td>\n",
       "      <td>sandra 'boring' bullock</td>\n",
       "    </tr>\n",
       "    <tr>\n",
       "      <th>1</th>\n",
       "      <td>15</td>\n",
       "      <td>1955</td>\n",
       "      <td>dentist</td>\n",
       "    </tr>\n",
       "    <tr>\n",
       "      <th>2</th>\n",
       "      <td>15</td>\n",
       "      <td>7478</td>\n",
       "      <td>Cambodia</td>\n",
       "    </tr>\n",
       "    <tr>\n",
       "      <th>3</th>\n",
       "      <td>15</td>\n",
       "      <td>32892</td>\n",
       "      <td>Russian</td>\n",
       "    </tr>\n",
       "    <tr>\n",
       "      <th>4</th>\n",
       "      <td>15</td>\n",
       "      <td>34162</td>\n",
       "      <td>forgettable</td>\n",
       "    </tr>\n",
       "  </tbody>\n",
       "</table>\n",
       "</div>"
      ],
      "text/plain": [
       "   userId  movieId                      tag\n",
       "0      15      339  sandra 'boring' bullock\n",
       "1      15     1955                  dentist\n",
       "2      15     7478                 Cambodia\n",
       "3      15    32892                  Russian\n",
       "4      15    34162              forgettable"
      ]
     },
     "execution_count": 65,
     "metadata": {},
     "output_type": "execute_result"
    }
   ],
   "source": [
    "tags_new.head()"
   ]
  },
  {
   "cell_type": "code",
   "execution_count": 66,
   "metadata": {},
   "outputs": [
    {
     "name": "stdout",
     "output_type": "stream",
     "text": [
      "shape of tags dataset = (772, 3)\n"
     ]
    }
   ],
   "source": [
    "#New shape of tags dataset\n",
    "tags_shape = tags_new.shape\n",
    "print(\"shape of tags dataset = {}\".format(tags_shape))"
   ]
  },
  {
   "cell_type": "code",
   "execution_count": 68,
   "metadata": {
    "collapsed": true
   },
   "outputs": [],
   "source": [
    "#merning the ratings and tags data : information at user level\n",
    "ratings_tags = pd.merge(ratings,tags_new[['userId','movieId','tag']],how = 'left', left_on = ['userId','movieId'], right_on = ['userId','movieId'])"
   ]
  },
  {
   "cell_type": "code",
   "execution_count": 69,
   "metadata": {},
   "outputs": [
    {
     "name": "stdout",
     "output_type": "stream",
     "text": [
      "shape of ratings_tags dataset = (100004, 5)\n"
     ]
    }
   ],
   "source": [
    "#shape of the new ratings _tags dataset\n",
    "ratings_tags_shape = ratings_tags.shape\n",
    "print(\"shape of ratings_tags dataset = {}\".format(ratings_tags_shape))"
   ]
  },
  {
   "cell_type": "code",
   "execution_count": 70,
   "metadata": {},
   "outputs": [
    {
     "data": {
      "text/html": [
       "<div>\n",
       "<style>\n",
       "    .dataframe thead tr:only-child th {\n",
       "        text-align: right;\n",
       "    }\n",
       "\n",
       "    .dataframe thead th {\n",
       "        text-align: left;\n",
       "    }\n",
       "\n",
       "    .dataframe tbody tr th {\n",
       "        vertical-align: top;\n",
       "    }\n",
       "</style>\n",
       "<table border=\"1\" class=\"dataframe\">\n",
       "  <thead>\n",
       "    <tr style=\"text-align: right;\">\n",
       "      <th></th>\n",
       "      <th>userId</th>\n",
       "      <th>movieId</th>\n",
       "      <th>rating</th>\n",
       "      <th>timestamp</th>\n",
       "      <th>tag</th>\n",
       "    </tr>\n",
       "  </thead>\n",
       "  <tbody>\n",
       "    <tr>\n",
       "      <th>1048</th>\n",
       "      <td>15</td>\n",
       "      <td>339</td>\n",
       "      <td>2.5</td>\n",
       "      <td>1122576622</td>\n",
       "      <td>sandra 'boring' bullock</td>\n",
       "    </tr>\n",
       "  </tbody>\n",
       "</table>\n",
       "</div>"
      ],
      "text/plain": [
       "      userId  movieId  rating   timestamp                      tag\n",
       "1048      15      339     2.5  1122576622  sandra 'boring' bullock"
      ]
     },
     "execution_count": 70,
     "metadata": {},
     "output_type": "execute_result"
    }
   ],
   "source": [
    "#checking data for a particular entry\n",
    "ratings_tags.loc[(ratings_tags.userId == 15) & (ratings_tags.movieId == 339)]"
   ]
  },
  {
   "cell_type": "code",
   "execution_count": 71,
   "metadata": {
    "collapsed": true
   },
   "outputs": [],
   "source": [
    "#Including the movie information to the ratings_tags data\n",
    "all_data = pd.merge(ratings_tags, movies_links,how = 'left', left_on = ['movieId'], right_on = ['movieId'])"
   ]
  },
  {
   "cell_type": "code",
   "execution_count": 74,
   "metadata": {},
   "outputs": [
    {
     "data": {
      "text/html": [
       "<div>\n",
       "<style>\n",
       "    .dataframe thead tr:only-child th {\n",
       "        text-align: right;\n",
       "    }\n",
       "\n",
       "    .dataframe thead th {\n",
       "        text-align: left;\n",
       "    }\n",
       "\n",
       "    .dataframe tbody tr th {\n",
       "        vertical-align: top;\n",
       "    }\n",
       "</style>\n",
       "<table border=\"1\" class=\"dataframe\">\n",
       "  <thead>\n",
       "    <tr style=\"text-align: right;\">\n",
       "      <th></th>\n",
       "      <th>userId</th>\n",
       "      <th>movieId</th>\n",
       "      <th>rating</th>\n",
       "      <th>timestamp</th>\n",
       "      <th>tag</th>\n",
       "      <th>title</th>\n",
       "      <th>genres</th>\n",
       "      <th>genres1</th>\n",
       "      <th>genres2</th>\n",
       "      <th>genres3</th>\n",
       "      <th>genres4</th>\n",
       "      <th>genres5</th>\n",
       "      <th>genres6</th>\n",
       "      <th>genres7</th>\n",
       "      <th>genres8</th>\n",
       "      <th>genres9</th>\n",
       "      <th>genres10</th>\n",
       "      <th>Year_release</th>\n",
       "      <th>imdbId</th>\n",
       "      <th>tmdbId</th>\n",
       "    </tr>\n",
       "  </thead>\n",
       "  <tbody>\n",
       "    <tr>\n",
       "      <th>0</th>\n",
       "      <td>1</td>\n",
       "      <td>31</td>\n",
       "      <td>2.5</td>\n",
       "      <td>1260759144</td>\n",
       "      <td>NaN</td>\n",
       "      <td>Dangerous Minds (1995)</td>\n",
       "      <td>Drama</td>\n",
       "      <td>Drama</td>\n",
       "      <td>None</td>\n",
       "      <td>None</td>\n",
       "      <td>None</td>\n",
       "      <td>None</td>\n",
       "      <td>None</td>\n",
       "      <td>None</td>\n",
       "      <td>None</td>\n",
       "      <td>None</td>\n",
       "      <td>None</td>\n",
       "      <td>1995</td>\n",
       "      <td>112792</td>\n",
       "      <td>9909.0</td>\n",
       "    </tr>\n",
       "    <tr>\n",
       "      <th>1</th>\n",
       "      <td>1</td>\n",
       "      <td>1029</td>\n",
       "      <td>3.0</td>\n",
       "      <td>1260759179</td>\n",
       "      <td>NaN</td>\n",
       "      <td>Dumbo (1941)</td>\n",
       "      <td>Animation|Children|Drama|Musical</td>\n",
       "      <td>Animation</td>\n",
       "      <td>Children</td>\n",
       "      <td>Drama</td>\n",
       "      <td>Musical</td>\n",
       "      <td>None</td>\n",
       "      <td>None</td>\n",
       "      <td>None</td>\n",
       "      <td>None</td>\n",
       "      <td>None</td>\n",
       "      <td>None</td>\n",
       "      <td>1941</td>\n",
       "      <td>33563</td>\n",
       "      <td>11360.0</td>\n",
       "    </tr>\n",
       "    <tr>\n",
       "      <th>2</th>\n",
       "      <td>1</td>\n",
       "      <td>1061</td>\n",
       "      <td>3.0</td>\n",
       "      <td>1260759182</td>\n",
       "      <td>NaN</td>\n",
       "      <td>Sleepers (1996)</td>\n",
       "      <td>Thriller</td>\n",
       "      <td>Thriller</td>\n",
       "      <td>None</td>\n",
       "      <td>None</td>\n",
       "      <td>None</td>\n",
       "      <td>None</td>\n",
       "      <td>None</td>\n",
       "      <td>None</td>\n",
       "      <td>None</td>\n",
       "      <td>None</td>\n",
       "      <td>None</td>\n",
       "      <td>1996</td>\n",
       "      <td>117665</td>\n",
       "      <td>819.0</td>\n",
       "    </tr>\n",
       "    <tr>\n",
       "      <th>3</th>\n",
       "      <td>1</td>\n",
       "      <td>1129</td>\n",
       "      <td>2.0</td>\n",
       "      <td>1260759185</td>\n",
       "      <td>NaN</td>\n",
       "      <td>Escape from New York (1981)</td>\n",
       "      <td>Action|Adventure|Sci-Fi|Thriller</td>\n",
       "      <td>Action</td>\n",
       "      <td>Adventure</td>\n",
       "      <td>Sci-Fi</td>\n",
       "      <td>Thriller</td>\n",
       "      <td>None</td>\n",
       "      <td>None</td>\n",
       "      <td>None</td>\n",
       "      <td>None</td>\n",
       "      <td>None</td>\n",
       "      <td>None</td>\n",
       "      <td>1981</td>\n",
       "      <td>82340</td>\n",
       "      <td>1103.0</td>\n",
       "    </tr>\n",
       "    <tr>\n",
       "      <th>4</th>\n",
       "      <td>1</td>\n",
       "      <td>1172</td>\n",
       "      <td>4.0</td>\n",
       "      <td>1260759205</td>\n",
       "      <td>NaN</td>\n",
       "      <td>Cinema Paradiso (Nuovo cinema Paradiso) (1989)</td>\n",
       "      <td>Drama</td>\n",
       "      <td>Drama</td>\n",
       "      <td>None</td>\n",
       "      <td>None</td>\n",
       "      <td>None</td>\n",
       "      <td>None</td>\n",
       "      <td>None</td>\n",
       "      <td>None</td>\n",
       "      <td>None</td>\n",
       "      <td>None</td>\n",
       "      <td>None</td>\n",
       "      <td>1989</td>\n",
       "      <td>95765</td>\n",
       "      <td>11216.0</td>\n",
       "    </tr>\n",
       "  </tbody>\n",
       "</table>\n",
       "</div>"
      ],
      "text/plain": [
       "   userId  movieId  rating   timestamp  tag  \\\n",
       "0       1       31     2.5  1260759144  NaN   \n",
       "1       1     1029     3.0  1260759179  NaN   \n",
       "2       1     1061     3.0  1260759182  NaN   \n",
       "3       1     1129     2.0  1260759185  NaN   \n",
       "4       1     1172     4.0  1260759205  NaN   \n",
       "\n",
       "                                            title  \\\n",
       "0                          Dangerous Minds (1995)   \n",
       "1                                    Dumbo (1941)   \n",
       "2                                 Sleepers (1996)   \n",
       "3                     Escape from New York (1981)   \n",
       "4  Cinema Paradiso (Nuovo cinema Paradiso) (1989)   \n",
       "\n",
       "                             genres    genres1    genres2 genres3   genres4  \\\n",
       "0                             Drama      Drama       None    None      None   \n",
       "1  Animation|Children|Drama|Musical  Animation   Children   Drama   Musical   \n",
       "2                          Thriller   Thriller       None    None      None   \n",
       "3  Action|Adventure|Sci-Fi|Thriller     Action  Adventure  Sci-Fi  Thriller   \n",
       "4                             Drama      Drama       None    None      None   \n",
       "\n",
       "  genres5 genres6 genres7 genres8 genres9 genres10 Year_release  imdbId  \\\n",
       "0    None    None    None    None    None     None         1995  112792   \n",
       "1    None    None    None    None    None     None         1941   33563   \n",
       "2    None    None    None    None    None     None         1996  117665   \n",
       "3    None    None    None    None    None     None         1981   82340   \n",
       "4    None    None    None    None    None     None         1989   95765   \n",
       "\n",
       "    tmdbId  \n",
       "0   9909.0  \n",
       "1  11360.0  \n",
       "2    819.0  \n",
       "3   1103.0  \n",
       "4  11216.0  "
      ]
     },
     "execution_count": 74,
     "metadata": {},
     "output_type": "execute_result"
    }
   ],
   "source": [
    "#checking the head of the combined data\n",
    "all_data.head()"
   ]
  },
  {
   "cell_type": "code",
   "execution_count": 75,
   "metadata": {},
   "outputs": [
    {
     "name": "stdout",
     "output_type": "stream",
     "text": [
      "shape of combined dataset = (100004, 20)\n"
     ]
    }
   ],
   "source": [
    "#shape of the combined data\n",
    "all_data_shape = all_data.shape\n",
    "print(\"shape of combined dataset = {}\".format(all_data_shape))"
   ]
  },
  {
   "cell_type": "code",
   "execution_count": 76,
   "metadata": {
    "collapsed": true
   },
   "outputs": [],
   "source": [
    "#converting the tags column to string type\n",
    "all_data['tag'] = all_data['tag'].astype(str)"
   ]
  },
  {
   "cell_type": "code",
   "execution_count": 77,
   "metadata": {},
   "outputs": [
    {
     "data": {
      "text/plain": [
       "userId            int64\n",
       "movieId           int64\n",
       "rating          float64\n",
       "timestamp         int64\n",
       "tag              object\n",
       "title            object\n",
       "genres           object\n",
       "genres1          object\n",
       "genres2          object\n",
       "genres3          object\n",
       "genres4          object\n",
       "genres5          object\n",
       "genres6          object\n",
       "genres7          object\n",
       "genres8          object\n",
       "genres9          object\n",
       "genres10         object\n",
       "Year_release     object\n",
       "imdbId            int64\n",
       "tmdbId          float64\n",
       "dtype: object"
      ]
     },
     "execution_count": 77,
     "metadata": {},
     "output_type": "execute_result"
    }
   ],
   "source": [
    "#checking data type of all columns \n",
    "all_data.dtypes"
   ]
  },
  {
   "cell_type": "code",
   "execution_count": 79,
   "metadata": {
    "collapsed": true
   },
   "outputs": [],
   "source": [
    "#replacing missing values of year release and tmdbID to 0\n",
    "all_data.loc[(all_data.Year_release.isnull()) , \"Year_release\"] = 0\n",
    "all_data.loc[(all_data.tmdbId.isnull()) , \"tmdbId\"] = 0"
   ]
  },
  {
   "cell_type": "code",
   "execution_count": 49,
   "metadata": {},
   "outputs": [
    {
     "data": {
      "text/html": [
       "<div>\n",
       "<style>\n",
       "    .dataframe thead tr:only-child th {\n",
       "        text-align: right;\n",
       "    }\n",
       "\n",
       "    .dataframe thead th {\n",
       "        text-align: left;\n",
       "    }\n",
       "\n",
       "    .dataframe tbody tr th {\n",
       "        vertical-align: top;\n",
       "    }\n",
       "</style>\n",
       "<table border=\"1\" class=\"dataframe\">\n",
       "  <thead>\n",
       "    <tr style=\"text-align: right;\">\n",
       "      <th></th>\n",
       "      <th>userId</th>\n",
       "      <th>movieId</th>\n",
       "      <th>rating</th>\n",
       "      <th>timestamp</th>\n",
       "      <th>tag</th>\n",
       "      <th>title</th>\n",
       "      <th>genres</th>\n",
       "      <th>genres1</th>\n",
       "      <th>genres2</th>\n",
       "      <th>genres3</th>\n",
       "      <th>genres4</th>\n",
       "      <th>genres5</th>\n",
       "      <th>genres6</th>\n",
       "      <th>genres7</th>\n",
       "      <th>genres8</th>\n",
       "      <th>genres9</th>\n",
       "      <th>genres10</th>\n",
       "      <th>Year_release</th>\n",
       "      <th>imdbId</th>\n",
       "      <th>tmdbId</th>\n",
       "    </tr>\n",
       "  </thead>\n",
       "  <tbody>\n",
       "    <tr>\n",
       "      <th>95</th>\n",
       "      <td>2</td>\n",
       "      <td>720</td>\n",
       "      <td>4.0</td>\n",
       "      <td>1970-01-10 16:02:35.978</td>\n",
       "      <td>nan</td>\n",
       "      <td>Wallace &amp; Gromit: The Best of Aardman Animatio...</td>\n",
       "      <td>Adventure|Animation|Comedy</td>\n",
       "      <td>Adventure</td>\n",
       "      <td>Animation</td>\n",
       "      <td>Comedy</td>\n",
       "      <td>None</td>\n",
       "      <td>None</td>\n",
       "      <td>None</td>\n",
       "      <td>None</td>\n",
       "      <td>None</td>\n",
       "      <td>None</td>\n",
       "      <td>None</td>\n",
       "      <td>1996</td>\n",
       "      <td>118114</td>\n",
       "      <td>0.0</td>\n",
       "    </tr>\n",
       "    <tr>\n",
       "      <th>537</th>\n",
       "      <td>7</td>\n",
       "      <td>720</td>\n",
       "      <td>5.0</td>\n",
       "      <td>1970-01-10 20:37:48.019</td>\n",
       "      <td>nan</td>\n",
       "      <td>Wallace &amp; Gromit: The Best of Aardman Animatio...</td>\n",
       "      <td>Adventure|Animation|Comedy</td>\n",
       "      <td>Adventure</td>\n",
       "      <td>Animation</td>\n",
       "      <td>Comedy</td>\n",
       "      <td>None</td>\n",
       "      <td>None</td>\n",
       "      <td>None</td>\n",
       "      <td>None</td>\n",
       "      <td>None</td>\n",
       "      <td>None</td>\n",
       "      <td>None</td>\n",
       "      <td>1996</td>\n",
       "      <td>118114</td>\n",
       "      <td>0.0</td>\n",
       "    </tr>\n",
       "    <tr>\n",
       "      <th>1118</th>\n",
       "      <td>15</td>\n",
       "      <td>720</td>\n",
       "      <td>3.0</td>\n",
       "      <td>1970-01-12 23:02:25.122</td>\n",
       "      <td>nan</td>\n",
       "      <td>Wallace &amp; Gromit: The Best of Aardman Animatio...</td>\n",
       "      <td>Adventure|Animation|Comedy</td>\n",
       "      <td>Adventure</td>\n",
       "      <td>Animation</td>\n",
       "      <td>Comedy</td>\n",
       "      <td>None</td>\n",
       "      <td>None</td>\n",
       "      <td>None</td>\n",
       "      <td>None</td>\n",
       "      <td>None</td>\n",
       "      <td>None</td>\n",
       "      <td>None</td>\n",
       "      <td>1996</td>\n",
       "      <td>118114</td>\n",
       "      <td>0.0</td>\n",
       "    </tr>\n",
       "    <tr>\n",
       "      <th>2130</th>\n",
       "      <td>15</td>\n",
       "      <td>26587</td>\n",
       "      <td>5.0</td>\n",
       "      <td>1970-01-17 09:22:00.087</td>\n",
       "      <td>nan</td>\n",
       "      <td>Decalogue, The (Dekalog) (1989)</td>\n",
       "      <td>Crime|Drama|Romance</td>\n",
       "      <td>Crime</td>\n",
       "      <td>Drama</td>\n",
       "      <td>Romance</td>\n",
       "      <td>None</td>\n",
       "      <td>None</td>\n",
       "      <td>None</td>\n",
       "      <td>None</td>\n",
       "      <td>None</td>\n",
       "      <td>None</td>\n",
       "      <td>None</td>\n",
       "      <td>1989</td>\n",
       "      <td>92337</td>\n",
       "      <td>0.0</td>\n",
       "    </tr>\n",
       "    <tr>\n",
       "      <th>3559</th>\n",
       "      <td>20</td>\n",
       "      <td>720</td>\n",
       "      <td>5.0</td>\n",
       "      <td>1970-01-15 04:00:43.166</td>\n",
       "      <td>nan</td>\n",
       "      <td>Wallace &amp; Gromit: The Best of Aardman Animatio...</td>\n",
       "      <td>Adventure|Animation|Comedy</td>\n",
       "      <td>Adventure</td>\n",
       "      <td>Animation</td>\n",
       "      <td>Comedy</td>\n",
       "      <td>None</td>\n",
       "      <td>None</td>\n",
       "      <td>None</td>\n",
       "      <td>None</td>\n",
       "      <td>None</td>\n",
       "      <td>None</td>\n",
       "      <td>None</td>\n",
       "      <td>1996</td>\n",
       "      <td>118114</td>\n",
       "      <td>0.0</td>\n",
       "    </tr>\n",
       "    <tr>\n",
       "      <th>4806</th>\n",
       "      <td>26</td>\n",
       "      <td>720</td>\n",
       "      <td>3.0</td>\n",
       "      <td>1970-01-16 15:25:44.331</td>\n",
       "      <td>nan</td>\n",
       "      <td>Wallace &amp; Gromit: The Best of Aardman Animatio...</td>\n",
       "      <td>Adventure|Animation|Comedy</td>\n",
       "      <td>Adventure</td>\n",
       "      <td>Animation</td>\n",
       "      <td>Comedy</td>\n",
       "      <td>None</td>\n",
       "      <td>None</td>\n",
       "      <td>None</td>\n",
       "      <td>None</td>\n",
       "      <td>None</td>\n",
       "      <td>None</td>\n",
       "      <td>None</td>\n",
       "      <td>1996</td>\n",
       "      <td>118114</td>\n",
       "      <td>0.0</td>\n",
       "    </tr>\n",
       "    <tr>\n",
       "      <th>5600</th>\n",
       "      <td>30</td>\n",
       "      <td>2851</td>\n",
       "      <td>2.0</td>\n",
       "      <td>1970-01-11 22:34:55.588</td>\n",
       "      <td>nan</td>\n",
       "      <td>Saturn 3 (1980)</td>\n",
       "      <td>Adventure|Sci-Fi|Thriller</td>\n",
       "      <td>Adventure</td>\n",
       "      <td>Sci-Fi</td>\n",
       "      <td>Thriller</td>\n",
       "      <td>None</td>\n",
       "      <td>None</td>\n",
       "      <td>None</td>\n",
       "      <td>None</td>\n",
       "      <td>None</td>\n",
       "      <td>None</td>\n",
       "      <td>None</td>\n",
       "      <td>1980</td>\n",
       "      <td>81454</td>\n",
       "      <td>0.0</td>\n",
       "    </tr>\n",
       "    <tr>\n",
       "      <th>6617</th>\n",
       "      <td>36</td>\n",
       "      <td>720</td>\n",
       "      <td>4.0</td>\n",
       "      <td>1970-01-10 19:17:37.827</td>\n",
       "      <td>nan</td>\n",
       "      <td>Wallace &amp; Gromit: The Best of Aardman Animatio...</td>\n",
       "      <td>Adventure|Animation|Comedy</td>\n",
       "      <td>Adventure</td>\n",
       "      <td>Animation</td>\n",
       "      <td>Comedy</td>\n",
       "      <td>None</td>\n",
       "      <td>None</td>\n",
       "      <td>None</td>\n",
       "      <td>None</td>\n",
       "      <td>None</td>\n",
       "      <td>None</td>\n",
       "      <td>None</td>\n",
       "      <td>1996</td>\n",
       "      <td>118114</td>\n",
       "      <td>0.0</td>\n",
       "    </tr>\n",
       "    <tr>\n",
       "      <th>6733</th>\n",
       "      <td>38</td>\n",
       "      <td>26587</td>\n",
       "      <td>4.5</td>\n",
       "      <td>1970-01-17 02:02:02.725</td>\n",
       "      <td>nan</td>\n",
       "      <td>Decalogue, The (Dekalog) (1989)</td>\n",
       "      <td>Crime|Drama|Romance</td>\n",
       "      <td>Crime</td>\n",
       "      <td>Drama</td>\n",
       "      <td>Romance</td>\n",
       "      <td>None</td>\n",
       "      <td>None</td>\n",
       "      <td>None</td>\n",
       "      <td>None</td>\n",
       "      <td>None</td>\n",
       "      <td>None</td>\n",
       "      <td>None</td>\n",
       "      <td>1989</td>\n",
       "      <td>92337</td>\n",
       "      <td>0.0</td>\n",
       "    </tr>\n",
       "    <tr>\n",
       "      <th>9085</th>\n",
       "      <td>59</td>\n",
       "      <td>720</td>\n",
       "      <td>4.5</td>\n",
       "      <td>1970-01-14 05:59:16.414</td>\n",
       "      <td>nan</td>\n",
       "      <td>Wallace &amp; Gromit: The Best of Aardman Animatio...</td>\n",
       "      <td>Adventure|Animation|Comedy</td>\n",
       "      <td>Adventure</td>\n",
       "      <td>Animation</td>\n",
       "      <td>Comedy</td>\n",
       "      <td>None</td>\n",
       "      <td>None</td>\n",
       "      <td>None</td>\n",
       "      <td>None</td>\n",
       "      <td>None</td>\n",
       "      <td>None</td>\n",
       "      <td>None</td>\n",
       "      <td>1996</td>\n",
       "      <td>118114</td>\n",
       "      <td>0.0</td>\n",
       "    </tr>\n",
       "    <tr>\n",
       "      <th>9152</th>\n",
       "      <td>60</td>\n",
       "      <td>720</td>\n",
       "      <td>4.0</td>\n",
       "      <td>1970-01-14 00:43:49.203</td>\n",
       "      <td>nan</td>\n",
       "      <td>Wallace &amp; Gromit: The Best of Aardman Animatio...</td>\n",
       "      <td>Adventure|Animation|Comedy</td>\n",
       "      <td>Adventure</td>\n",
       "      <td>Animation</td>\n",
       "      <td>Comedy</td>\n",
       "      <td>None</td>\n",
       "      <td>None</td>\n",
       "      <td>None</td>\n",
       "      <td>None</td>\n",
       "      <td>None</td>\n",
       "      <td>None</td>\n",
       "      <td>None</td>\n",
       "      <td>1996</td>\n",
       "      <td>118114</td>\n",
       "      <td>0.0</td>\n",
       "    </tr>\n",
       "    <tr>\n",
       "      <th>9435</th>\n",
       "      <td>63</td>\n",
       "      <td>720</td>\n",
       "      <td>4.0</td>\n",
       "      <td>1970-01-13 10:58:43.993</td>\n",
       "      <td>nan</td>\n",
       "      <td>Wallace &amp; Gromit: The Best of Aardman Animatio...</td>\n",
       "      <td>Adventure|Animation|Comedy</td>\n",
       "      <td>Adventure</td>\n",
       "      <td>Animation</td>\n",
       "      <td>Comedy</td>\n",
       "      <td>None</td>\n",
       "      <td>None</td>\n",
       "      <td>None</td>\n",
       "      <td>None</td>\n",
       "      <td>None</td>\n",
       "      <td>None</td>\n",
       "      <td>None</td>\n",
       "      <td>1996</td>\n",
       "      <td>118114</td>\n",
       "      <td>0.0</td>\n",
       "    </tr>\n",
       "    <tr>\n",
       "      <th>11539</th>\n",
       "      <td>73</td>\n",
       "      <td>73759</td>\n",
       "      <td>4.0</td>\n",
       "      <td>1970-01-15 17:40:12.258</td>\n",
       "      <td>nan</td>\n",
       "      <td>Hellsing Ultimate OVA Series (2006)</td>\n",
       "      <td>Action|Animation|Horror</td>\n",
       "      <td>Action</td>\n",
       "      <td>Animation</td>\n",
       "      <td>Horror</td>\n",
       "      <td>None</td>\n",
       "      <td>None</td>\n",
       "      <td>None</td>\n",
       "      <td>None</td>\n",
       "      <td>None</td>\n",
       "      <td>None</td>\n",
       "      <td>None</td>\n",
       "      <td>2006</td>\n",
       "      <td>495212</td>\n",
       "      <td>0.0</td>\n",
       "    </tr>\n",
       "    <tr>\n",
       "      <th>11737</th>\n",
       "      <td>73</td>\n",
       "      <td>108583</td>\n",
       "      <td>5.0</td>\n",
       "      <td>1970-01-17 14:44:32.609</td>\n",
       "      <td>nan</td>\n",
       "      <td>Fawlty Towers (1975-1979)</td>\n",
       "      <td>Comedy</td>\n",
       "      <td>Comedy</td>\n",
       "      <td>None</td>\n",
       "      <td>None</td>\n",
       "      <td>None</td>\n",
       "      <td>None</td>\n",
       "      <td>None</td>\n",
       "      <td>None</td>\n",
       "      <td>None</td>\n",
       "      <td>None</td>\n",
       "      <td>None</td>\n",
       "      <td>1975</td>\n",
       "      <td>72500</td>\n",
       "      <td>0.0</td>\n",
       "    </tr>\n",
       "    <tr>\n",
       "      <th>12096</th>\n",
       "      <td>77</td>\n",
       "      <td>720</td>\n",
       "      <td>3.0</td>\n",
       "      <td>1970-01-14 16:45:12.581</td>\n",
       "      <td>nan</td>\n",
       "      <td>Wallace &amp; Gromit: The Best of Aardman Animatio...</td>\n",
       "      <td>Adventure|Animation|Comedy</td>\n",
       "      <td>Adventure</td>\n",
       "      <td>Animation</td>\n",
       "      <td>Comedy</td>\n",
       "      <td>None</td>\n",
       "      <td>None</td>\n",
       "      <td>None</td>\n",
       "      <td>None</td>\n",
       "      <td>None</td>\n",
       "      <td>None</td>\n",
       "      <td>None</td>\n",
       "      <td>1996</td>\n",
       "      <td>118114</td>\n",
       "      <td>0.0</td>\n",
       "    </tr>\n",
       "    <tr>\n",
       "      <th>13454</th>\n",
       "      <td>86</td>\n",
       "      <td>720</td>\n",
       "      <td>4.0</td>\n",
       "      <td>1970-01-10 19:36:02.097</td>\n",
       "      <td>nan</td>\n",
       "      <td>Wallace &amp; Gromit: The Best of Aardman Animatio...</td>\n",
       "      <td>Adventure|Animation|Comedy</td>\n",
       "      <td>Adventure</td>\n",
       "      <td>Animation</td>\n",
       "      <td>Comedy</td>\n",
       "      <td>None</td>\n",
       "      <td>None</td>\n",
       "      <td>None</td>\n",
       "      <td>None</td>\n",
       "      <td>None</td>\n",
       "      <td>None</td>\n",
       "      <td>None</td>\n",
       "      <td>1996</td>\n",
       "      <td>118114</td>\n",
       "      <td>0.0</td>\n",
       "    </tr>\n",
       "    <tr>\n",
       "      <th>14006</th>\n",
       "      <td>91</td>\n",
       "      <td>94466</td>\n",
       "      <td>4.0</td>\n",
       "      <td>1970-01-17 18:26:38.161</td>\n",
       "      <td>nan</td>\n",
       "      <td>Black Mirror (2011)</td>\n",
       "      <td>Drama|Sci-Fi</td>\n",
       "      <td>Drama</td>\n",
       "      <td>Sci-Fi</td>\n",
       "      <td>None</td>\n",
       "      <td>None</td>\n",
       "      <td>None</td>\n",
       "      <td>None</td>\n",
       "      <td>None</td>\n",
       "      <td>None</td>\n",
       "      <td>None</td>\n",
       "      <td>None</td>\n",
       "      <td>2011</td>\n",
       "      <td>2085059</td>\n",
       "      <td>0.0</td>\n",
       "    </tr>\n",
       "    <tr>\n",
       "      <th>15120</th>\n",
       "      <td>99</td>\n",
       "      <td>720</td>\n",
       "      <td>5.0</td>\n",
       "      <td>1970-01-11 20:43:06.021</td>\n",
       "      <td>nan</td>\n",
       "      <td>Wallace &amp; Gromit: The Best of Aardman Animatio...</td>\n",
       "      <td>Adventure|Animation|Comedy</td>\n",
       "      <td>Adventure</td>\n",
       "      <td>Animation</td>\n",
       "      <td>Comedy</td>\n",
       "      <td>None</td>\n",
       "      <td>None</td>\n",
       "      <td>None</td>\n",
       "      <td>None</td>\n",
       "      <td>None</td>\n",
       "      <td>None</td>\n",
       "      <td>None</td>\n",
       "      <td>1996</td>\n",
       "      <td>118114</td>\n",
       "      <td>0.0</td>\n",
       "    </tr>\n",
       "    <tr>\n",
       "      <th>19432</th>\n",
       "      <td>130</td>\n",
       "      <td>720</td>\n",
       "      <td>4.0</td>\n",
       "      <td>1970-01-14 04:23:17.913</td>\n",
       "      <td>nan</td>\n",
       "      <td>Wallace &amp; Gromit: The Best of Aardman Animatio...</td>\n",
       "      <td>Adventure|Animation|Comedy</td>\n",
       "      <td>Adventure</td>\n",
       "      <td>Animation</td>\n",
       "      <td>Comedy</td>\n",
       "      <td>None</td>\n",
       "      <td>None</td>\n",
       "      <td>None</td>\n",
       "      <td>None</td>\n",
       "      <td>None</td>\n",
       "      <td>None</td>\n",
       "      <td>None</td>\n",
       "      <td>1996</td>\n",
       "      <td>118114</td>\n",
       "      <td>0.0</td>\n",
       "    </tr>\n",
       "    <tr>\n",
       "      <th>25174</th>\n",
       "      <td>184</td>\n",
       "      <td>720</td>\n",
       "      <td>5.0</td>\n",
       "      <td>1970-01-10 15:32:05.124</td>\n",
       "      <td>nan</td>\n",
       "      <td>Wallace &amp; Gromit: The Best of Aardman Animatio...</td>\n",
       "      <td>Adventure|Animation|Comedy</td>\n",
       "      <td>Adventure</td>\n",
       "      <td>Animation</td>\n",
       "      <td>Comedy</td>\n",
       "      <td>None</td>\n",
       "      <td>None</td>\n",
       "      <td>None</td>\n",
       "      <td>None</td>\n",
       "      <td>None</td>\n",
       "      <td>None</td>\n",
       "      <td>None</td>\n",
       "      <td>1996</td>\n",
       "      <td>118114</td>\n",
       "      <td>0.0</td>\n",
       "    </tr>\n",
       "    <tr>\n",
       "      <th>25213</th>\n",
       "      <td>185</td>\n",
       "      <td>720</td>\n",
       "      <td>4.0</td>\n",
       "      <td>1970-01-12 14:45:23.251</td>\n",
       "      <td>nan</td>\n",
       "      <td>Wallace &amp; Gromit: The Best of Aardman Animatio...</td>\n",
       "      <td>Adventure|Animation|Comedy</td>\n",
       "      <td>Adventure</td>\n",
       "      <td>Animation</td>\n",
       "      <td>Comedy</td>\n",
       "      <td>None</td>\n",
       "      <td>None</td>\n",
       "      <td>None</td>\n",
       "      <td>None</td>\n",
       "      <td>None</td>\n",
       "      <td>None</td>\n",
       "      <td>None</td>\n",
       "      <td>1996</td>\n",
       "      <td>118114</td>\n",
       "      <td>0.0</td>\n",
       "    </tr>\n",
       "    <tr>\n",
       "      <th>27954</th>\n",
       "      <td>205</td>\n",
       "      <td>720</td>\n",
       "      <td>1.0</td>\n",
       "      <td>1970-01-17 16:35:48.501</td>\n",
       "      <td>nan</td>\n",
       "      <td>Wallace &amp; Gromit: The Best of Aardman Animatio...</td>\n",
       "      <td>Adventure|Animation|Comedy</td>\n",
       "      <td>Adventure</td>\n",
       "      <td>Animation</td>\n",
       "      <td>Comedy</td>\n",
       "      <td>None</td>\n",
       "      <td>None</td>\n",
       "      <td>None</td>\n",
       "      <td>None</td>\n",
       "      <td>None</td>\n",
       "      <td>None</td>\n",
       "      <td>None</td>\n",
       "      <td>1996</td>\n",
       "      <td>118114</td>\n",
       "      <td>0.0</td>\n",
       "    </tr>\n",
       "    <tr>\n",
       "      <th>31742</th>\n",
       "      <td>232</td>\n",
       "      <td>720</td>\n",
       "      <td>5.0</td>\n",
       "      <td>1970-01-12 01:18:08.635</td>\n",
       "      <td>nan</td>\n",
       "      <td>Wallace &amp; Gromit: The Best of Aardman Animatio...</td>\n",
       "      <td>Adventure|Animation|Comedy</td>\n",
       "      <td>Adventure</td>\n",
       "      <td>Animation</td>\n",
       "      <td>Comedy</td>\n",
       "      <td>None</td>\n",
       "      <td>None</td>\n",
       "      <td>None</td>\n",
       "      <td>None</td>\n",
       "      <td>None</td>\n",
       "      <td>None</td>\n",
       "      <td>None</td>\n",
       "      <td>1996</td>\n",
       "      <td>118114</td>\n",
       "      <td>0.0</td>\n",
       "    </tr>\n",
       "    <tr>\n",
       "      <th>32175</th>\n",
       "      <td>232</td>\n",
       "      <td>2851</td>\n",
       "      <td>3.0</td>\n",
       "      <td>1970-01-12 01:18:08.535</td>\n",
       "      <td>nan</td>\n",
       "      <td>Saturn 3 (1980)</td>\n",
       "      <td>Adventure|Sci-Fi|Thriller</td>\n",
       "      <td>Adventure</td>\n",
       "      <td>Sci-Fi</td>\n",
       "      <td>Thriller</td>\n",
       "      <td>None</td>\n",
       "      <td>None</td>\n",
       "      <td>None</td>\n",
       "      <td>None</td>\n",
       "      <td>None</td>\n",
       "      <td>None</td>\n",
       "      <td>None</td>\n",
       "      <td>1980</td>\n",
       "      <td>81454</td>\n",
       "      <td>0.0</td>\n",
       "    </tr>\n",
       "    <tr>\n",
       "      <th>32367</th>\n",
       "      <td>234</td>\n",
       "      <td>720</td>\n",
       "      <td>3.5</td>\n",
       "      <td>1970-01-15 01:10:07.932</td>\n",
       "      <td>nan</td>\n",
       "      <td>Wallace &amp; Gromit: The Best of Aardman Animatio...</td>\n",
       "      <td>Adventure|Animation|Comedy</td>\n",
       "      <td>Adventure</td>\n",
       "      <td>Animation</td>\n",
       "      <td>Comedy</td>\n",
       "      <td>None</td>\n",
       "      <td>None</td>\n",
       "      <td>None</td>\n",
       "      <td>None</td>\n",
       "      <td>None</td>\n",
       "      <td>None</td>\n",
       "      <td>None</td>\n",
       "      <td>1996</td>\n",
       "      <td>118114</td>\n",
       "      <td>0.0</td>\n",
       "    </tr>\n",
       "    <tr>\n",
       "      <th>34342</th>\n",
       "      <td>244</td>\n",
       "      <td>94466</td>\n",
       "      <td>0.5</td>\n",
       "      <td>1970-01-17 18:16:15.610</td>\n",
       "      <td>nan</td>\n",
       "      <td>Black Mirror (2011)</td>\n",
       "      <td>Drama|Sci-Fi</td>\n",
       "      <td>Drama</td>\n",
       "      <td>Sci-Fi</td>\n",
       "      <td>None</td>\n",
       "      <td>None</td>\n",
       "      <td>None</td>\n",
       "      <td>None</td>\n",
       "      <td>None</td>\n",
       "      <td>None</td>\n",
       "      <td>None</td>\n",
       "      <td>None</td>\n",
       "      <td>2011</td>\n",
       "      <td>2085059</td>\n",
       "      <td>0.0</td>\n",
       "    </tr>\n",
       "    <tr>\n",
       "      <th>36436</th>\n",
       "      <td>262</td>\n",
       "      <td>26587</td>\n",
       "      <td>3.5</td>\n",
       "      <td>1970-01-17 14:18:19.681</td>\n",
       "      <td>nan</td>\n",
       "      <td>Decalogue, The (Dekalog) (1989)</td>\n",
       "      <td>Crime|Drama|Romance</td>\n",
       "      <td>Crime</td>\n",
       "      <td>Drama</td>\n",
       "      <td>Romance</td>\n",
       "      <td>None</td>\n",
       "      <td>None</td>\n",
       "      <td>None</td>\n",
       "      <td>None</td>\n",
       "      <td>None</td>\n",
       "      <td>None</td>\n",
       "      <td>None</td>\n",
       "      <td>1989</td>\n",
       "      <td>92337</td>\n",
       "      <td>0.0</td>\n",
       "    </tr>\n",
       "    <tr>\n",
       "      <th>36583</th>\n",
       "      <td>262</td>\n",
       "      <td>94466</td>\n",
       "      <td>3.0</td>\n",
       "      <td>1970-01-17 14:18:19.032</td>\n",
       "      <td>nan</td>\n",
       "      <td>Black Mirror (2011)</td>\n",
       "      <td>Drama|Sci-Fi</td>\n",
       "      <td>Drama</td>\n",
       "      <td>Sci-Fi</td>\n",
       "      <td>None</td>\n",
       "      <td>None</td>\n",
       "      <td>None</td>\n",
       "      <td>None</td>\n",
       "      <td>None</td>\n",
       "      <td>None</td>\n",
       "      <td>None</td>\n",
       "      <td>None</td>\n",
       "      <td>2011</td>\n",
       "      <td>2085059</td>\n",
       "      <td>0.0</td>\n",
       "    </tr>\n",
       "    <tr>\n",
       "      <th>36618</th>\n",
       "      <td>262</td>\n",
       "      <td>108583</td>\n",
       "      <td>2.5</td>\n",
       "      <td>1970-01-17 14:18:19.163</td>\n",
       "      <td>nan</td>\n",
       "      <td>Fawlty Towers (1975-1979)</td>\n",
       "      <td>Comedy</td>\n",
       "      <td>Comedy</td>\n",
       "      <td>None</td>\n",
       "      <td>None</td>\n",
       "      <td>None</td>\n",
       "      <td>None</td>\n",
       "      <td>None</td>\n",
       "      <td>None</td>\n",
       "      <td>None</td>\n",
       "      <td>None</td>\n",
       "      <td>None</td>\n",
       "      <td>1975</td>\n",
       "      <td>72500</td>\n",
       "      <td>0.0</td>\n",
       "    </tr>\n",
       "    <tr>\n",
       "      <th>37641</th>\n",
       "      <td>270</td>\n",
       "      <td>94466</td>\n",
       "      <td>5.0</td>\n",
       "      <td>1970-01-18 00:07:58.482</td>\n",
       "      <td>nan</td>\n",
       "      <td>Black Mirror (2011)</td>\n",
       "      <td>Drama|Sci-Fi</td>\n",
       "      <td>Drama</td>\n",
       "      <td>Sci-Fi</td>\n",
       "      <td>None</td>\n",
       "      <td>None</td>\n",
       "      <td>None</td>\n",
       "      <td>None</td>\n",
       "      <td>None</td>\n",
       "      <td>None</td>\n",
       "      <td>None</td>\n",
       "      <td>None</td>\n",
       "      <td>2011</td>\n",
       "      <td>2085059</td>\n",
       "      <td>0.0</td>\n",
       "    </tr>\n",
       "    <tr>\n",
       "      <th>...</th>\n",
       "      <td>...</td>\n",
       "      <td>...</td>\n",
       "      <td>...</td>\n",
       "      <td>...</td>\n",
       "      <td>...</td>\n",
       "      <td>...</td>\n",
       "      <td>...</td>\n",
       "      <td>...</td>\n",
       "      <td>...</td>\n",
       "      <td>...</td>\n",
       "      <td>...</td>\n",
       "      <td>...</td>\n",
       "      <td>...</td>\n",
       "      <td>...</td>\n",
       "      <td>...</td>\n",
       "      <td>...</td>\n",
       "      <td>...</td>\n",
       "      <td>...</td>\n",
       "      <td>...</td>\n",
       "      <td>...</td>\n",
       "    </tr>\n",
       "    <tr>\n",
       "      <th>58375</th>\n",
       "      <td>423</td>\n",
       "      <td>72781</td>\n",
       "      <td>4.5</td>\n",
       "      <td>1970-01-16 16:01:41.647</td>\n",
       "      <td>nan</td>\n",
       "      <td>Red Chapel (R��de kapel) (2006)</td>\n",
       "      <td>Comedy|Documentary</td>\n",
       "      <td>Comedy</td>\n",
       "      <td>Documentary</td>\n",
       "      <td>None</td>\n",
       "      <td>None</td>\n",
       "      <td>None</td>\n",
       "      <td>None</td>\n",
       "      <td>None</td>\n",
       "      <td>None</td>\n",
       "      <td>None</td>\n",
       "      <td>None</td>\n",
       "      <td>2006</td>\n",
       "      <td>1104746</td>\n",
       "      <td>0.0</td>\n",
       "    </tr>\n",
       "    <tr>\n",
       "      <th>60255</th>\n",
       "      <td>435</td>\n",
       "      <td>720</td>\n",
       "      <td>5.0</td>\n",
       "      <td>1970-01-11 07:38:28.321</td>\n",
       "      <td>nan</td>\n",
       "      <td>Wallace &amp; Gromit: The Best of Aardman Animatio...</td>\n",
       "      <td>Adventure|Animation|Comedy</td>\n",
       "      <td>Adventure</td>\n",
       "      <td>Animation</td>\n",
       "      <td>Comedy</td>\n",
       "      <td>None</td>\n",
       "      <td>None</td>\n",
       "      <td>None</td>\n",
       "      <td>None</td>\n",
       "      <td>None</td>\n",
       "      <td>None</td>\n",
       "      <td>None</td>\n",
       "      <td>1996</td>\n",
       "      <td>118114</td>\n",
       "      <td>0.0</td>\n",
       "    </tr>\n",
       "    <tr>\n",
       "      <th>61366</th>\n",
       "      <td>450</td>\n",
       "      <td>94466</td>\n",
       "      <td>5.0</td>\n",
       "      <td>1970-01-17 18:35:49.275</td>\n",
       "      <td>nan</td>\n",
       "      <td>Black Mirror (2011)</td>\n",
       "      <td>Drama|Sci-Fi</td>\n",
       "      <td>Drama</td>\n",
       "      <td>Sci-Fi</td>\n",
       "      <td>None</td>\n",
       "      <td>None</td>\n",
       "      <td>None</td>\n",
       "      <td>None</td>\n",
       "      <td>None</td>\n",
       "      <td>None</td>\n",
       "      <td>None</td>\n",
       "      <td>None</td>\n",
       "      <td>2011</td>\n",
       "      <td>2085059</td>\n",
       "      <td>0.0</td>\n",
       "    </tr>\n",
       "    <tr>\n",
       "      <th>64221</th>\n",
       "      <td>461</td>\n",
       "      <td>720</td>\n",
       "      <td>4.0</td>\n",
       "      <td>1970-01-13 15:19:19.466</td>\n",
       "      <td>nan</td>\n",
       "      <td>Wallace &amp; Gromit: The Best of Aardman Animatio...</td>\n",
       "      <td>Adventure|Animation|Comedy</td>\n",
       "      <td>Adventure</td>\n",
       "      <td>Animation</td>\n",
       "      <td>Comedy</td>\n",
       "      <td>None</td>\n",
       "      <td>None</td>\n",
       "      <td>None</td>\n",
       "      <td>None</td>\n",
       "      <td>None</td>\n",
       "      <td>None</td>\n",
       "      <td>None</td>\n",
       "      <td>1996</td>\n",
       "      <td>118114</td>\n",
       "      <td>0.0</td>\n",
       "    </tr>\n",
       "    <tr>\n",
       "      <th>66953</th>\n",
       "      <td>469</td>\n",
       "      <td>720</td>\n",
       "      <td>4.0</td>\n",
       "      <td>1970-01-15 20:14:31.400</td>\n",
       "      <td>nan</td>\n",
       "      <td>Wallace &amp; Gromit: The Best of Aardman Animatio...</td>\n",
       "      <td>Adventure|Animation|Comedy</td>\n",
       "      <td>Adventure</td>\n",
       "      <td>Animation</td>\n",
       "      <td>Comedy</td>\n",
       "      <td>None</td>\n",
       "      <td>None</td>\n",
       "      <td>None</td>\n",
       "      <td>None</td>\n",
       "      <td>None</td>\n",
       "      <td>None</td>\n",
       "      <td>None</td>\n",
       "      <td>1996</td>\n",
       "      <td>118114</td>\n",
       "      <td>0.0</td>\n",
       "    </tr>\n",
       "    <tr>\n",
       "      <th>67352</th>\n",
       "      <td>472</td>\n",
       "      <td>720</td>\n",
       "      <td>5.0</td>\n",
       "      <td>1970-01-11 21:01:31.164</td>\n",
       "      <td>nan</td>\n",
       "      <td>Wallace &amp; Gromit: The Best of Aardman Animatio...</td>\n",
       "      <td>Adventure|Animation|Comedy</td>\n",
       "      <td>Adventure</td>\n",
       "      <td>Animation</td>\n",
       "      <td>Comedy</td>\n",
       "      <td>None</td>\n",
       "      <td>None</td>\n",
       "      <td>None</td>\n",
       "      <td>None</td>\n",
       "      <td>None</td>\n",
       "      <td>None</td>\n",
       "      <td>None</td>\n",
       "      <td>1996</td>\n",
       "      <td>118114</td>\n",
       "      <td>0.0</td>\n",
       "    </tr>\n",
       "    <tr>\n",
       "      <th>67356</th>\n",
       "      <td>472</td>\n",
       "      <td>769</td>\n",
       "      <td>3.0</td>\n",
       "      <td>1970-01-11 21:01:31.164</td>\n",
       "      <td>nan</td>\n",
       "      <td>Marlene Dietrich: Shadow and Light (1996)</td>\n",
       "      <td>Documentary</td>\n",
       "      <td>Documentary</td>\n",
       "      <td>None</td>\n",
       "      <td>None</td>\n",
       "      <td>None</td>\n",
       "      <td>None</td>\n",
       "      <td>None</td>\n",
       "      <td>None</td>\n",
       "      <td>None</td>\n",
       "      <td>None</td>\n",
       "      <td>None</td>\n",
       "      <td>1996</td>\n",
       "      <td>116992</td>\n",
       "      <td>0.0</td>\n",
       "    </tr>\n",
       "    <tr>\n",
       "      <th>70609</th>\n",
       "      <td>492</td>\n",
       "      <td>721</td>\n",
       "      <td>4.0</td>\n",
       "      <td>1970-01-11 09:28:30.927</td>\n",
       "      <td>nan</td>\n",
       "      <td>Halfmoon (Paul Bowles - Halbmond) (1995)</td>\n",
       "      <td>Drama</td>\n",
       "      <td>Drama</td>\n",
       "      <td>None</td>\n",
       "      <td>None</td>\n",
       "      <td>None</td>\n",
       "      <td>None</td>\n",
       "      <td>None</td>\n",
       "      <td>None</td>\n",
       "      <td>None</td>\n",
       "      <td>None</td>\n",
       "      <td>None</td>\n",
       "      <td>1995</td>\n",
       "      <td>114103</td>\n",
       "      <td>0.0</td>\n",
       "    </tr>\n",
       "    <tr>\n",
       "      <th>71642</th>\n",
       "      <td>502</td>\n",
       "      <td>720</td>\n",
       "      <td>3.0</td>\n",
       "      <td>1970-01-10 23:15:04.068</td>\n",
       "      <td>nan</td>\n",
       "      <td>Wallace &amp; Gromit: The Best of Aardman Animatio...</td>\n",
       "      <td>Adventure|Animation|Comedy</td>\n",
       "      <td>Adventure</td>\n",
       "      <td>Animation</td>\n",
       "      <td>Comedy</td>\n",
       "      <td>None</td>\n",
       "      <td>None</td>\n",
       "      <td>None</td>\n",
       "      <td>None</td>\n",
       "      <td>None</td>\n",
       "      <td>None</td>\n",
       "      <td>None</td>\n",
       "      <td>1996</td>\n",
       "      <td>118114</td>\n",
       "      <td>0.0</td>\n",
       "    </tr>\n",
       "    <tr>\n",
       "      <th>73401</th>\n",
       "      <td>511</td>\n",
       "      <td>720</td>\n",
       "      <td>5.0</td>\n",
       "      <td>1970-01-10 14:22:31.964</td>\n",
       "      <td>nan</td>\n",
       "      <td>Wallace &amp; Gromit: The Best of Aardman Animatio...</td>\n",
       "      <td>Adventure|Animation|Comedy</td>\n",
       "      <td>Adventure</td>\n",
       "      <td>Animation</td>\n",
       "      <td>Comedy</td>\n",
       "      <td>None</td>\n",
       "      <td>None</td>\n",
       "      <td>None</td>\n",
       "      <td>None</td>\n",
       "      <td>None</td>\n",
       "      <td>None</td>\n",
       "      <td>None</td>\n",
       "      <td>1996</td>\n",
       "      <td>118114</td>\n",
       "      <td>0.0</td>\n",
       "    </tr>\n",
       "    <tr>\n",
       "      <th>73638</th>\n",
       "      <td>514</td>\n",
       "      <td>720</td>\n",
       "      <td>5.0</td>\n",
       "      <td>1970-01-10 21:11:33.735</td>\n",
       "      <td>nan</td>\n",
       "      <td>Wallace &amp; Gromit: The Best of Aardman Animatio...</td>\n",
       "      <td>Adventure|Animation|Comedy</td>\n",
       "      <td>Adventure</td>\n",
       "      <td>Animation</td>\n",
       "      <td>Comedy</td>\n",
       "      <td>None</td>\n",
       "      <td>None</td>\n",
       "      <td>None</td>\n",
       "      <td>None</td>\n",
       "      <td>None</td>\n",
       "      <td>None</td>\n",
       "      <td>None</td>\n",
       "      <td>1996</td>\n",
       "      <td>118114</td>\n",
       "      <td>0.0</td>\n",
       "    </tr>\n",
       "    <tr>\n",
       "      <th>76539</th>\n",
       "      <td>529</td>\n",
       "      <td>26587</td>\n",
       "      <td>4.0</td>\n",
       "      <td>1970-01-16 01:15:47.022</td>\n",
       "      <td>nan</td>\n",
       "      <td>Decalogue, The (Dekalog) (1989)</td>\n",
       "      <td>Crime|Drama|Romance</td>\n",
       "      <td>Crime</td>\n",
       "      <td>Drama</td>\n",
       "      <td>Romance</td>\n",
       "      <td>None</td>\n",
       "      <td>None</td>\n",
       "      <td>None</td>\n",
       "      <td>None</td>\n",
       "      <td>None</td>\n",
       "      <td>None</td>\n",
       "      <td>None</td>\n",
       "      <td>1989</td>\n",
       "      <td>92337</td>\n",
       "      <td>0.0</td>\n",
       "    </tr>\n",
       "    <tr>\n",
       "      <th>76621</th>\n",
       "      <td>530</td>\n",
       "      <td>720</td>\n",
       "      <td>5.0</td>\n",
       "      <td>1970-01-11 05:06:28.791</td>\n",
       "      <td>nan</td>\n",
       "      <td>Wallace &amp; Gromit: The Best of Aardman Animatio...</td>\n",
       "      <td>Adventure|Animation|Comedy</td>\n",
       "      <td>Adventure</td>\n",
       "      <td>Animation</td>\n",
       "      <td>Comedy</td>\n",
       "      <td>None</td>\n",
       "      <td>None</td>\n",
       "      <td>None</td>\n",
       "      <td>None</td>\n",
       "      <td>None</td>\n",
       "      <td>None</td>\n",
       "      <td>None</td>\n",
       "      <td>1996</td>\n",
       "      <td>118114</td>\n",
       "      <td>0.0</td>\n",
       "    </tr>\n",
       "    <tr>\n",
       "      <th>76691</th>\n",
       "      <td>531</td>\n",
       "      <td>720</td>\n",
       "      <td>4.0</td>\n",
       "      <td>1970-01-15 08:33:21.432</td>\n",
       "      <td>nan</td>\n",
       "      <td>Wallace &amp; Gromit: The Best of Aardman Animatio...</td>\n",
       "      <td>Adventure|Animation|Comedy</td>\n",
       "      <td>Adventure</td>\n",
       "      <td>Animation</td>\n",
       "      <td>Comedy</td>\n",
       "      <td>None</td>\n",
       "      <td>None</td>\n",
       "      <td>None</td>\n",
       "      <td>None</td>\n",
       "      <td>None</td>\n",
       "      <td>None</td>\n",
       "      <td>None</td>\n",
       "      <td>1996</td>\n",
       "      <td>118114</td>\n",
       "      <td>0.0</td>\n",
       "    </tr>\n",
       "    <tr>\n",
       "      <th>77606</th>\n",
       "      <td>537</td>\n",
       "      <td>720</td>\n",
       "      <td>5.0</td>\n",
       "      <td>1970-01-11 04:18:22.583</td>\n",
       "      <td>nan</td>\n",
       "      <td>Wallace &amp; Gromit: The Best of Aardman Animatio...</td>\n",
       "      <td>Adventure|Animation|Comedy</td>\n",
       "      <td>Adventure</td>\n",
       "      <td>Animation</td>\n",
       "      <td>Comedy</td>\n",
       "      <td>None</td>\n",
       "      <td>None</td>\n",
       "      <td>None</td>\n",
       "      <td>None</td>\n",
       "      <td>None</td>\n",
       "      <td>None</td>\n",
       "      <td>None</td>\n",
       "      <td>1996</td>\n",
       "      <td>118114</td>\n",
       "      <td>0.0</td>\n",
       "    </tr>\n",
       "    <tr>\n",
       "      <th>78570</th>\n",
       "      <td>547</td>\n",
       "      <td>720</td>\n",
       "      <td>2.0</td>\n",
       "      <td>1970-01-12 20:04:39.501</td>\n",
       "      <td>nan</td>\n",
       "      <td>Wallace &amp; Gromit: The Best of Aardman Animatio...</td>\n",
       "      <td>Adventure|Animation|Comedy</td>\n",
       "      <td>Adventure</td>\n",
       "      <td>Animation</td>\n",
       "      <td>Comedy</td>\n",
       "      <td>None</td>\n",
       "      <td>None</td>\n",
       "      <td>None</td>\n",
       "      <td>None</td>\n",
       "      <td>None</td>\n",
       "      <td>None</td>\n",
       "      <td>None</td>\n",
       "      <td>1996</td>\n",
       "      <td>118114</td>\n",
       "      <td>0.0</td>\n",
       "    </tr>\n",
       "    <tr>\n",
       "      <th>83212</th>\n",
       "      <td>564</td>\n",
       "      <td>720</td>\n",
       "      <td>4.0</td>\n",
       "      <td>1970-01-12 06:46:30.351</td>\n",
       "      <td>nan</td>\n",
       "      <td>Wallace &amp; Gromit: The Best of Aardman Animatio...</td>\n",
       "      <td>Adventure|Animation|Comedy</td>\n",
       "      <td>Adventure</td>\n",
       "      <td>Animation</td>\n",
       "      <td>Comedy</td>\n",
       "      <td>None</td>\n",
       "      <td>None</td>\n",
       "      <td>None</td>\n",
       "      <td>None</td>\n",
       "      <td>None</td>\n",
       "      <td>None</td>\n",
       "      <td>None</td>\n",
       "      <td>1996</td>\n",
       "      <td>118114</td>\n",
       "      <td>0.0</td>\n",
       "    </tr>\n",
       "    <tr>\n",
       "      <th>84236</th>\n",
       "      <td>564</td>\n",
       "      <td>2851</td>\n",
       "      <td>4.0</td>\n",
       "      <td>1970-01-12 06:47:24.767</td>\n",
       "      <td>nan</td>\n",
       "      <td>Saturn 3 (1980)</td>\n",
       "      <td>Adventure|Sci-Fi|Thriller</td>\n",
       "      <td>Adventure</td>\n",
       "      <td>Sci-Fi</td>\n",
       "      <td>Thriller</td>\n",
       "      <td>None</td>\n",
       "      <td>None</td>\n",
       "      <td>None</td>\n",
       "      <td>None</td>\n",
       "      <td>None</td>\n",
       "      <td>None</td>\n",
       "      <td>None</td>\n",
       "      <td>1980</td>\n",
       "      <td>81454</td>\n",
       "      <td>0.0</td>\n",
       "    </tr>\n",
       "    <tr>\n",
       "      <th>87478</th>\n",
       "      <td>582</td>\n",
       "      <td>720</td>\n",
       "      <td>1.0</td>\n",
       "      <td>1970-01-13 23:42:47.413</td>\n",
       "      <td>nan</td>\n",
       "      <td>Wallace &amp; Gromit: The Best of Aardman Animatio...</td>\n",
       "      <td>Adventure|Animation|Comedy</td>\n",
       "      <td>Adventure</td>\n",
       "      <td>Animation</td>\n",
       "      <td>Comedy</td>\n",
       "      <td>None</td>\n",
       "      <td>None</td>\n",
       "      <td>None</td>\n",
       "      <td>None</td>\n",
       "      <td>None</td>\n",
       "      <td>None</td>\n",
       "      <td>None</td>\n",
       "      <td>1996</td>\n",
       "      <td>118114</td>\n",
       "      <td>0.0</td>\n",
       "    </tr>\n",
       "    <tr>\n",
       "      <th>87843</th>\n",
       "      <td>585</td>\n",
       "      <td>720</td>\n",
       "      <td>4.0</td>\n",
       "      <td>1970-01-12 06:56:05.187</td>\n",
       "      <td>nan</td>\n",
       "      <td>Wallace &amp; Gromit: The Best of Aardman Animatio...</td>\n",
       "      <td>Adventure|Animation|Comedy</td>\n",
       "      <td>Adventure</td>\n",
       "      <td>Animation</td>\n",
       "      <td>Comedy</td>\n",
       "      <td>None</td>\n",
       "      <td>None</td>\n",
       "      <td>None</td>\n",
       "      <td>None</td>\n",
       "      <td>None</td>\n",
       "      <td>None</td>\n",
       "      <td>None</td>\n",
       "      <td>1996</td>\n",
       "      <td>118114</td>\n",
       "      <td>0.0</td>\n",
       "    </tr>\n",
       "    <tr>\n",
       "      <th>88861</th>\n",
       "      <td>591</td>\n",
       "      <td>720</td>\n",
       "      <td>3.0</td>\n",
       "      <td>1970-01-13 21:00:15.994</td>\n",
       "      <td>nan</td>\n",
       "      <td>Wallace &amp; Gromit: The Best of Aardman Animatio...</td>\n",
       "      <td>Adventure|Animation|Comedy</td>\n",
       "      <td>Adventure</td>\n",
       "      <td>Animation</td>\n",
       "      <td>Comedy</td>\n",
       "      <td>None</td>\n",
       "      <td>None</td>\n",
       "      <td>None</td>\n",
       "      <td>None</td>\n",
       "      <td>None</td>\n",
       "      <td>None</td>\n",
       "      <td>None</td>\n",
       "      <td>1996</td>\n",
       "      <td>118114</td>\n",
       "      <td>0.0</td>\n",
       "    </tr>\n",
       "    <tr>\n",
       "      <th>91457</th>\n",
       "      <td>607</td>\n",
       "      <td>720</td>\n",
       "      <td>4.0</td>\n",
       "      <td>1970-01-14 05:59:50.749</td>\n",
       "      <td>nan</td>\n",
       "      <td>Wallace &amp; Gromit: The Best of Aardman Animatio...</td>\n",
       "      <td>Adventure|Animation|Comedy</td>\n",
       "      <td>Adventure</td>\n",
       "      <td>Animation</td>\n",
       "      <td>Comedy</td>\n",
       "      <td>None</td>\n",
       "      <td>None</td>\n",
       "      <td>None</td>\n",
       "      <td>None</td>\n",
       "      <td>None</td>\n",
       "      <td>None</td>\n",
       "      <td>None</td>\n",
       "      <td>1996</td>\n",
       "      <td>118114</td>\n",
       "      <td>0.0</td>\n",
       "    </tr>\n",
       "    <tr>\n",
       "      <th>92105</th>\n",
       "      <td>609</td>\n",
       "      <td>720</td>\n",
       "      <td>1.0</td>\n",
       "      <td>1970-01-12 22:04:29.989</td>\n",
       "      <td>nan</td>\n",
       "      <td>Wallace &amp; Gromit: The Best of Aardman Animatio...</td>\n",
       "      <td>Adventure|Animation|Comedy</td>\n",
       "      <td>Adventure</td>\n",
       "      <td>Animation</td>\n",
       "      <td>Comedy</td>\n",
       "      <td>None</td>\n",
       "      <td>None</td>\n",
       "      <td>None</td>\n",
       "      <td>None</td>\n",
       "      <td>None</td>\n",
       "      <td>None</td>\n",
       "      <td>None</td>\n",
       "      <td>1996</td>\n",
       "      <td>118114</td>\n",
       "      <td>0.0</td>\n",
       "    </tr>\n",
       "    <tr>\n",
       "      <th>92909</th>\n",
       "      <td>615</td>\n",
       "      <td>108583</td>\n",
       "      <td>5.0</td>\n",
       "      <td>1970-01-17 11:58:24.620</td>\n",
       "      <td>nan</td>\n",
       "      <td>Fawlty Towers (1975-1979)</td>\n",
       "      <td>Comedy</td>\n",
       "      <td>Comedy</td>\n",
       "      <td>None</td>\n",
       "      <td>None</td>\n",
       "      <td>None</td>\n",
       "      <td>None</td>\n",
       "      <td>None</td>\n",
       "      <td>None</td>\n",
       "      <td>None</td>\n",
       "      <td>None</td>\n",
       "      <td>None</td>\n",
       "      <td>1975</td>\n",
       "      <td>72500</td>\n",
       "      <td>0.0</td>\n",
       "    </tr>\n",
       "    <tr>\n",
       "      <th>93288</th>\n",
       "      <td>620</td>\n",
       "      <td>94466</td>\n",
       "      <td>3.5</td>\n",
       "      <td>1970-01-17 20:18:52.807</td>\n",
       "      <td>nan</td>\n",
       "      <td>Black Mirror (2011)</td>\n",
       "      <td>Drama|Sci-Fi</td>\n",
       "      <td>Drama</td>\n",
       "      <td>Sci-Fi</td>\n",
       "      <td>None</td>\n",
       "      <td>None</td>\n",
       "      <td>None</td>\n",
       "      <td>None</td>\n",
       "      <td>None</td>\n",
       "      <td>None</td>\n",
       "      <td>None</td>\n",
       "      <td>None</td>\n",
       "      <td>2011</td>\n",
       "      <td>2085059</td>\n",
       "      <td>0.0</td>\n",
       "    </tr>\n",
       "    <tr>\n",
       "      <th>93644</th>\n",
       "      <td>624</td>\n",
       "      <td>720</td>\n",
       "      <td>4.0</td>\n",
       "      <td>1970-01-12 19:05:26.661</td>\n",
       "      <td>nan</td>\n",
       "      <td>Wallace &amp; Gromit: The Best of Aardman Animatio...</td>\n",
       "      <td>Adventure|Animation|Comedy</td>\n",
       "      <td>Adventure</td>\n",
       "      <td>Animation</td>\n",
       "      <td>Comedy</td>\n",
       "      <td>None</td>\n",
       "      <td>None</td>\n",
       "      <td>None</td>\n",
       "      <td>None</td>\n",
       "      <td>None</td>\n",
       "      <td>None</td>\n",
       "      <td>None</td>\n",
       "      <td>1996</td>\n",
       "      <td>118114</td>\n",
       "      <td>0.0</td>\n",
       "    </tr>\n",
       "    <tr>\n",
       "      <th>94167</th>\n",
       "      <td>624</td>\n",
       "      <td>4051</td>\n",
       "      <td>0.5</td>\n",
       "      <td>1970-01-15 14:53:57.066</td>\n",
       "      <td>nan</td>\n",
       "      <td>Horrors of Spider Island (Ein Toter Hing im Ne...</td>\n",
       "      <td>Horror|Sci-Fi</td>\n",
       "      <td>Horror</td>\n",
       "      <td>Sci-Fi</td>\n",
       "      <td>None</td>\n",
       "      <td>None</td>\n",
       "      <td>None</td>\n",
       "      <td>None</td>\n",
       "      <td>None</td>\n",
       "      <td>None</td>\n",
       "      <td>None</td>\n",
       "      <td>None</td>\n",
       "      <td>1960</td>\n",
       "      <td>56600</td>\n",
       "      <td>0.0</td>\n",
       "    </tr>\n",
       "    <tr>\n",
       "      <th>96447</th>\n",
       "      <td>646</td>\n",
       "      <td>720</td>\n",
       "      <td>5.0</td>\n",
       "      <td>1970-01-12 00:55:03.937</td>\n",
       "      <td>nan</td>\n",
       "      <td>Wallace &amp; Gromit: The Best of Aardman Animatio...</td>\n",
       "      <td>Adventure|Animation|Comedy</td>\n",
       "      <td>Adventure</td>\n",
       "      <td>Animation</td>\n",
       "      <td>Comedy</td>\n",
       "      <td>None</td>\n",
       "      <td>None</td>\n",
       "      <td>None</td>\n",
       "      <td>None</td>\n",
       "      <td>None</td>\n",
       "      <td>None</td>\n",
       "      <td>None</td>\n",
       "      <td>1996</td>\n",
       "      <td>118114</td>\n",
       "      <td>0.0</td>\n",
       "    </tr>\n",
       "    <tr>\n",
       "      <th>97418</th>\n",
       "      <td>653</td>\n",
       "      <td>720</td>\n",
       "      <td>5.0</td>\n",
       "      <td>1970-01-11 23:22:40.316</td>\n",
       "      <td>nan</td>\n",
       "      <td>Wallace &amp; Gromit: The Best of Aardman Animatio...</td>\n",
       "      <td>Adventure|Animation|Comedy</td>\n",
       "      <td>Adventure</td>\n",
       "      <td>Animation</td>\n",
       "      <td>Comedy</td>\n",
       "      <td>None</td>\n",
       "      <td>None</td>\n",
       "      <td>None</td>\n",
       "      <td>None</td>\n",
       "      <td>None</td>\n",
       "      <td>None</td>\n",
       "      <td>None</td>\n",
       "      <td>1996</td>\n",
       "      <td>118114</td>\n",
       "      <td>0.0</td>\n",
       "    </tr>\n",
       "    <tr>\n",
       "      <th>99805</th>\n",
       "      <td>668</td>\n",
       "      <td>720</td>\n",
       "      <td>3.0</td>\n",
       "      <td>1970-01-12 12:00:13.415</td>\n",
       "      <td>nan</td>\n",
       "      <td>Wallace &amp; Gromit: The Best of Aardman Animatio...</td>\n",
       "      <td>Adventure|Animation|Comedy</td>\n",
       "      <td>Adventure</td>\n",
       "      <td>Animation</td>\n",
       "      <td>Comedy</td>\n",
       "      <td>None</td>\n",
       "      <td>None</td>\n",
       "      <td>None</td>\n",
       "      <td>None</td>\n",
       "      <td>None</td>\n",
       "      <td>None</td>\n",
       "      <td>None</td>\n",
       "      <td>1996</td>\n",
       "      <td>118114</td>\n",
       "      <td>0.0</td>\n",
       "    </tr>\n",
       "  </tbody>\n",
       "</table>\n",
       "<p>71 rows × 20 columns</p>\n",
       "</div>"
      ],
      "text/plain": [
       "       userId  movieId  rating               timestamp  tag  \\\n",
       "95          2      720     4.0 1970-01-10 16:02:35.978  nan   \n",
       "537         7      720     5.0 1970-01-10 20:37:48.019  nan   \n",
       "1118       15      720     3.0 1970-01-12 23:02:25.122  nan   \n",
       "2130       15    26587     5.0 1970-01-17 09:22:00.087  nan   \n",
       "3559       20      720     5.0 1970-01-15 04:00:43.166  nan   \n",
       "4806       26      720     3.0 1970-01-16 15:25:44.331  nan   \n",
       "5600       30     2851     2.0 1970-01-11 22:34:55.588  nan   \n",
       "6617       36      720     4.0 1970-01-10 19:17:37.827  nan   \n",
       "6733       38    26587     4.5 1970-01-17 02:02:02.725  nan   \n",
       "9085       59      720     4.5 1970-01-14 05:59:16.414  nan   \n",
       "9152       60      720     4.0 1970-01-14 00:43:49.203  nan   \n",
       "9435       63      720     4.0 1970-01-13 10:58:43.993  nan   \n",
       "11539      73    73759     4.0 1970-01-15 17:40:12.258  nan   \n",
       "11737      73   108583     5.0 1970-01-17 14:44:32.609  nan   \n",
       "12096      77      720     3.0 1970-01-14 16:45:12.581  nan   \n",
       "13454      86      720     4.0 1970-01-10 19:36:02.097  nan   \n",
       "14006      91    94466     4.0 1970-01-17 18:26:38.161  nan   \n",
       "15120      99      720     5.0 1970-01-11 20:43:06.021  nan   \n",
       "19432     130      720     4.0 1970-01-14 04:23:17.913  nan   \n",
       "25174     184      720     5.0 1970-01-10 15:32:05.124  nan   \n",
       "25213     185      720     4.0 1970-01-12 14:45:23.251  nan   \n",
       "27954     205      720     1.0 1970-01-17 16:35:48.501  nan   \n",
       "31742     232      720     5.0 1970-01-12 01:18:08.635  nan   \n",
       "32175     232     2851     3.0 1970-01-12 01:18:08.535  nan   \n",
       "32367     234      720     3.5 1970-01-15 01:10:07.932  nan   \n",
       "34342     244    94466     0.5 1970-01-17 18:16:15.610  nan   \n",
       "36436     262    26587     3.5 1970-01-17 14:18:19.681  nan   \n",
       "36583     262    94466     3.0 1970-01-17 14:18:19.032  nan   \n",
       "36618     262   108583     2.5 1970-01-17 14:18:19.163  nan   \n",
       "37641     270    94466     5.0 1970-01-18 00:07:58.482  nan   \n",
       "...       ...      ...     ...                     ...  ...   \n",
       "58375     423    72781     4.5 1970-01-16 16:01:41.647  nan   \n",
       "60255     435      720     5.0 1970-01-11 07:38:28.321  nan   \n",
       "61366     450    94466     5.0 1970-01-17 18:35:49.275  nan   \n",
       "64221     461      720     4.0 1970-01-13 15:19:19.466  nan   \n",
       "66953     469      720     4.0 1970-01-15 20:14:31.400  nan   \n",
       "67352     472      720     5.0 1970-01-11 21:01:31.164  nan   \n",
       "67356     472      769     3.0 1970-01-11 21:01:31.164  nan   \n",
       "70609     492      721     4.0 1970-01-11 09:28:30.927  nan   \n",
       "71642     502      720     3.0 1970-01-10 23:15:04.068  nan   \n",
       "73401     511      720     5.0 1970-01-10 14:22:31.964  nan   \n",
       "73638     514      720     5.0 1970-01-10 21:11:33.735  nan   \n",
       "76539     529    26587     4.0 1970-01-16 01:15:47.022  nan   \n",
       "76621     530      720     5.0 1970-01-11 05:06:28.791  nan   \n",
       "76691     531      720     4.0 1970-01-15 08:33:21.432  nan   \n",
       "77606     537      720     5.0 1970-01-11 04:18:22.583  nan   \n",
       "78570     547      720     2.0 1970-01-12 20:04:39.501  nan   \n",
       "83212     564      720     4.0 1970-01-12 06:46:30.351  nan   \n",
       "84236     564     2851     4.0 1970-01-12 06:47:24.767  nan   \n",
       "87478     582      720     1.0 1970-01-13 23:42:47.413  nan   \n",
       "87843     585      720     4.0 1970-01-12 06:56:05.187  nan   \n",
       "88861     591      720     3.0 1970-01-13 21:00:15.994  nan   \n",
       "91457     607      720     4.0 1970-01-14 05:59:50.749  nan   \n",
       "92105     609      720     1.0 1970-01-12 22:04:29.989  nan   \n",
       "92909     615   108583     5.0 1970-01-17 11:58:24.620  nan   \n",
       "93288     620    94466     3.5 1970-01-17 20:18:52.807  nan   \n",
       "93644     624      720     4.0 1970-01-12 19:05:26.661  nan   \n",
       "94167     624     4051     0.5 1970-01-15 14:53:57.066  nan   \n",
       "96447     646      720     5.0 1970-01-12 00:55:03.937  nan   \n",
       "97418     653      720     5.0 1970-01-11 23:22:40.316  nan   \n",
       "99805     668      720     3.0 1970-01-12 12:00:13.415  nan   \n",
       "\n",
       "                                                   title  \\\n",
       "95     Wallace & Gromit: The Best of Aardman Animatio...   \n",
       "537    Wallace & Gromit: The Best of Aardman Animatio...   \n",
       "1118   Wallace & Gromit: The Best of Aardman Animatio...   \n",
       "2130                     Decalogue, The (Dekalog) (1989)   \n",
       "3559   Wallace & Gromit: The Best of Aardman Animatio...   \n",
       "4806   Wallace & Gromit: The Best of Aardman Animatio...   \n",
       "5600                                     Saturn 3 (1980)   \n",
       "6617   Wallace & Gromit: The Best of Aardman Animatio...   \n",
       "6733                     Decalogue, The (Dekalog) (1989)   \n",
       "9085   Wallace & Gromit: The Best of Aardman Animatio...   \n",
       "9152   Wallace & Gromit: The Best of Aardman Animatio...   \n",
       "9435   Wallace & Gromit: The Best of Aardman Animatio...   \n",
       "11539                Hellsing Ultimate OVA Series (2006)   \n",
       "11737                          Fawlty Towers (1975-1979)   \n",
       "12096  Wallace & Gromit: The Best of Aardman Animatio...   \n",
       "13454  Wallace & Gromit: The Best of Aardman Animatio...   \n",
       "14006                                Black Mirror (2011)   \n",
       "15120  Wallace & Gromit: The Best of Aardman Animatio...   \n",
       "19432  Wallace & Gromit: The Best of Aardman Animatio...   \n",
       "25174  Wallace & Gromit: The Best of Aardman Animatio...   \n",
       "25213  Wallace & Gromit: The Best of Aardman Animatio...   \n",
       "27954  Wallace & Gromit: The Best of Aardman Animatio...   \n",
       "31742  Wallace & Gromit: The Best of Aardman Animatio...   \n",
       "32175                                    Saturn 3 (1980)   \n",
       "32367  Wallace & Gromit: The Best of Aardman Animatio...   \n",
       "34342                                Black Mirror (2011)   \n",
       "36436                    Decalogue, The (Dekalog) (1989)   \n",
       "36583                                Black Mirror (2011)   \n",
       "36618                          Fawlty Towers (1975-1979)   \n",
       "37641                                Black Mirror (2011)   \n",
       "...                                                  ...   \n",
       "58375                    Red Chapel (R��de kapel) (2006)   \n",
       "60255  Wallace & Gromit: The Best of Aardman Animatio...   \n",
       "61366                                Black Mirror (2011)   \n",
       "64221  Wallace & Gromit: The Best of Aardman Animatio...   \n",
       "66953  Wallace & Gromit: The Best of Aardman Animatio...   \n",
       "67352  Wallace & Gromit: The Best of Aardman Animatio...   \n",
       "67356          Marlene Dietrich: Shadow and Light (1996)   \n",
       "70609           Halfmoon (Paul Bowles - Halbmond) (1995)   \n",
       "71642  Wallace & Gromit: The Best of Aardman Animatio...   \n",
       "73401  Wallace & Gromit: The Best of Aardman Animatio...   \n",
       "73638  Wallace & Gromit: The Best of Aardman Animatio...   \n",
       "76539                    Decalogue, The (Dekalog) (1989)   \n",
       "76621  Wallace & Gromit: The Best of Aardman Animatio...   \n",
       "76691  Wallace & Gromit: The Best of Aardman Animatio...   \n",
       "77606  Wallace & Gromit: The Best of Aardman Animatio...   \n",
       "78570  Wallace & Gromit: The Best of Aardman Animatio...   \n",
       "83212  Wallace & Gromit: The Best of Aardman Animatio...   \n",
       "84236                                    Saturn 3 (1980)   \n",
       "87478  Wallace & Gromit: The Best of Aardman Animatio...   \n",
       "87843  Wallace & Gromit: The Best of Aardman Animatio...   \n",
       "88861  Wallace & Gromit: The Best of Aardman Animatio...   \n",
       "91457  Wallace & Gromit: The Best of Aardman Animatio...   \n",
       "92105  Wallace & Gromit: The Best of Aardman Animatio...   \n",
       "92909                          Fawlty Towers (1975-1979)   \n",
       "93288                                Black Mirror (2011)   \n",
       "93644  Wallace & Gromit: The Best of Aardman Animatio...   \n",
       "94167  Horrors of Spider Island (Ein Toter Hing im Ne...   \n",
       "96447  Wallace & Gromit: The Best of Aardman Animatio...   \n",
       "97418  Wallace & Gromit: The Best of Aardman Animatio...   \n",
       "99805  Wallace & Gromit: The Best of Aardman Animatio...   \n",
       "\n",
       "                           genres      genres1      genres2   genres3 genres4  \\\n",
       "95     Adventure|Animation|Comedy    Adventure    Animation    Comedy    None   \n",
       "537    Adventure|Animation|Comedy    Adventure    Animation    Comedy    None   \n",
       "1118   Adventure|Animation|Comedy    Adventure    Animation    Comedy    None   \n",
       "2130          Crime|Drama|Romance        Crime        Drama   Romance    None   \n",
       "3559   Adventure|Animation|Comedy    Adventure    Animation    Comedy    None   \n",
       "4806   Adventure|Animation|Comedy    Adventure    Animation    Comedy    None   \n",
       "5600    Adventure|Sci-Fi|Thriller    Adventure       Sci-Fi  Thriller    None   \n",
       "6617   Adventure|Animation|Comedy    Adventure    Animation    Comedy    None   \n",
       "6733          Crime|Drama|Romance        Crime        Drama   Romance    None   \n",
       "9085   Adventure|Animation|Comedy    Adventure    Animation    Comedy    None   \n",
       "9152   Adventure|Animation|Comedy    Adventure    Animation    Comedy    None   \n",
       "9435   Adventure|Animation|Comedy    Adventure    Animation    Comedy    None   \n",
       "11539     Action|Animation|Horror       Action    Animation    Horror    None   \n",
       "11737                      Comedy       Comedy         None      None    None   \n",
       "12096  Adventure|Animation|Comedy    Adventure    Animation    Comedy    None   \n",
       "13454  Adventure|Animation|Comedy    Adventure    Animation    Comedy    None   \n",
       "14006                Drama|Sci-Fi        Drama       Sci-Fi      None    None   \n",
       "15120  Adventure|Animation|Comedy    Adventure    Animation    Comedy    None   \n",
       "19432  Adventure|Animation|Comedy    Adventure    Animation    Comedy    None   \n",
       "25174  Adventure|Animation|Comedy    Adventure    Animation    Comedy    None   \n",
       "25213  Adventure|Animation|Comedy    Adventure    Animation    Comedy    None   \n",
       "27954  Adventure|Animation|Comedy    Adventure    Animation    Comedy    None   \n",
       "31742  Adventure|Animation|Comedy    Adventure    Animation    Comedy    None   \n",
       "32175   Adventure|Sci-Fi|Thriller    Adventure       Sci-Fi  Thriller    None   \n",
       "32367  Adventure|Animation|Comedy    Adventure    Animation    Comedy    None   \n",
       "34342                Drama|Sci-Fi        Drama       Sci-Fi      None    None   \n",
       "36436         Crime|Drama|Romance        Crime        Drama   Romance    None   \n",
       "36583                Drama|Sci-Fi        Drama       Sci-Fi      None    None   \n",
       "36618                      Comedy       Comedy         None      None    None   \n",
       "37641                Drama|Sci-Fi        Drama       Sci-Fi      None    None   \n",
       "...                           ...          ...          ...       ...     ...   \n",
       "58375          Comedy|Documentary       Comedy  Documentary      None    None   \n",
       "60255  Adventure|Animation|Comedy    Adventure    Animation    Comedy    None   \n",
       "61366                Drama|Sci-Fi        Drama       Sci-Fi      None    None   \n",
       "64221  Adventure|Animation|Comedy    Adventure    Animation    Comedy    None   \n",
       "66953  Adventure|Animation|Comedy    Adventure    Animation    Comedy    None   \n",
       "67352  Adventure|Animation|Comedy    Adventure    Animation    Comedy    None   \n",
       "67356                 Documentary  Documentary         None      None    None   \n",
       "70609                       Drama        Drama         None      None    None   \n",
       "71642  Adventure|Animation|Comedy    Adventure    Animation    Comedy    None   \n",
       "73401  Adventure|Animation|Comedy    Adventure    Animation    Comedy    None   \n",
       "73638  Adventure|Animation|Comedy    Adventure    Animation    Comedy    None   \n",
       "76539         Crime|Drama|Romance        Crime        Drama   Romance    None   \n",
       "76621  Adventure|Animation|Comedy    Adventure    Animation    Comedy    None   \n",
       "76691  Adventure|Animation|Comedy    Adventure    Animation    Comedy    None   \n",
       "77606  Adventure|Animation|Comedy    Adventure    Animation    Comedy    None   \n",
       "78570  Adventure|Animation|Comedy    Adventure    Animation    Comedy    None   \n",
       "83212  Adventure|Animation|Comedy    Adventure    Animation    Comedy    None   \n",
       "84236   Adventure|Sci-Fi|Thriller    Adventure       Sci-Fi  Thriller    None   \n",
       "87478  Adventure|Animation|Comedy    Adventure    Animation    Comedy    None   \n",
       "87843  Adventure|Animation|Comedy    Adventure    Animation    Comedy    None   \n",
       "88861  Adventure|Animation|Comedy    Adventure    Animation    Comedy    None   \n",
       "91457  Adventure|Animation|Comedy    Adventure    Animation    Comedy    None   \n",
       "92105  Adventure|Animation|Comedy    Adventure    Animation    Comedy    None   \n",
       "92909                      Comedy       Comedy         None      None    None   \n",
       "93288                Drama|Sci-Fi        Drama       Sci-Fi      None    None   \n",
       "93644  Adventure|Animation|Comedy    Adventure    Animation    Comedy    None   \n",
       "94167               Horror|Sci-Fi       Horror       Sci-Fi      None    None   \n",
       "96447  Adventure|Animation|Comedy    Adventure    Animation    Comedy    None   \n",
       "97418  Adventure|Animation|Comedy    Adventure    Animation    Comedy    None   \n",
       "99805  Adventure|Animation|Comedy    Adventure    Animation    Comedy    None   \n",
       "\n",
       "      genres5 genres6 genres7 genres8 genres9 genres10 Year_release   imdbId  \\\n",
       "95       None    None    None    None    None     None         1996   118114   \n",
       "537      None    None    None    None    None     None         1996   118114   \n",
       "1118     None    None    None    None    None     None         1996   118114   \n",
       "2130     None    None    None    None    None     None         1989    92337   \n",
       "3559     None    None    None    None    None     None         1996   118114   \n",
       "4806     None    None    None    None    None     None         1996   118114   \n",
       "5600     None    None    None    None    None     None         1980    81454   \n",
       "6617     None    None    None    None    None     None         1996   118114   \n",
       "6733     None    None    None    None    None     None         1989    92337   \n",
       "9085     None    None    None    None    None     None         1996   118114   \n",
       "9152     None    None    None    None    None     None         1996   118114   \n",
       "9435     None    None    None    None    None     None         1996   118114   \n",
       "11539    None    None    None    None    None     None         2006   495212   \n",
       "11737    None    None    None    None    None     None         1975    72500   \n",
       "12096    None    None    None    None    None     None         1996   118114   \n",
       "13454    None    None    None    None    None     None         1996   118114   \n",
       "14006    None    None    None    None    None     None         2011  2085059   \n",
       "15120    None    None    None    None    None     None         1996   118114   \n",
       "19432    None    None    None    None    None     None         1996   118114   \n",
       "25174    None    None    None    None    None     None         1996   118114   \n",
       "25213    None    None    None    None    None     None         1996   118114   \n",
       "27954    None    None    None    None    None     None         1996   118114   \n",
       "31742    None    None    None    None    None     None         1996   118114   \n",
       "32175    None    None    None    None    None     None         1980    81454   \n",
       "32367    None    None    None    None    None     None         1996   118114   \n",
       "34342    None    None    None    None    None     None         2011  2085059   \n",
       "36436    None    None    None    None    None     None         1989    92337   \n",
       "36583    None    None    None    None    None     None         2011  2085059   \n",
       "36618    None    None    None    None    None     None         1975    72500   \n",
       "37641    None    None    None    None    None     None         2011  2085059   \n",
       "...       ...     ...     ...     ...     ...      ...          ...      ...   \n",
       "58375    None    None    None    None    None     None         2006  1104746   \n",
       "60255    None    None    None    None    None     None         1996   118114   \n",
       "61366    None    None    None    None    None     None         2011  2085059   \n",
       "64221    None    None    None    None    None     None         1996   118114   \n",
       "66953    None    None    None    None    None     None         1996   118114   \n",
       "67352    None    None    None    None    None     None         1996   118114   \n",
       "67356    None    None    None    None    None     None         1996   116992   \n",
       "70609    None    None    None    None    None     None         1995   114103   \n",
       "71642    None    None    None    None    None     None         1996   118114   \n",
       "73401    None    None    None    None    None     None         1996   118114   \n",
       "73638    None    None    None    None    None     None         1996   118114   \n",
       "76539    None    None    None    None    None     None         1989    92337   \n",
       "76621    None    None    None    None    None     None         1996   118114   \n",
       "76691    None    None    None    None    None     None         1996   118114   \n",
       "77606    None    None    None    None    None     None         1996   118114   \n",
       "78570    None    None    None    None    None     None         1996   118114   \n",
       "83212    None    None    None    None    None     None         1996   118114   \n",
       "84236    None    None    None    None    None     None         1980    81454   \n",
       "87478    None    None    None    None    None     None         1996   118114   \n",
       "87843    None    None    None    None    None     None         1996   118114   \n",
       "88861    None    None    None    None    None     None         1996   118114   \n",
       "91457    None    None    None    None    None     None         1996   118114   \n",
       "92105    None    None    None    None    None     None         1996   118114   \n",
       "92909    None    None    None    None    None     None         1975    72500   \n",
       "93288    None    None    None    None    None     None         2011  2085059   \n",
       "93644    None    None    None    None    None     None         1996   118114   \n",
       "94167    None    None    None    None    None     None         1960    56600   \n",
       "96447    None    None    None    None    None     None         1996   118114   \n",
       "97418    None    None    None    None    None     None         1996   118114   \n",
       "99805    None    None    None    None    None     None         1996   118114   \n",
       "\n",
       "       tmdbId  \n",
       "95        0.0  \n",
       "537       0.0  \n",
       "1118      0.0  \n",
       "2130      0.0  \n",
       "3559      0.0  \n",
       "4806      0.0  \n",
       "5600      0.0  \n",
       "6617      0.0  \n",
       "6733      0.0  \n",
       "9085      0.0  \n",
       "9152      0.0  \n",
       "9435      0.0  \n",
       "11539     0.0  \n",
       "11737     0.0  \n",
       "12096     0.0  \n",
       "13454     0.0  \n",
       "14006     0.0  \n",
       "15120     0.0  \n",
       "19432     0.0  \n",
       "25174     0.0  \n",
       "25213     0.0  \n",
       "27954     0.0  \n",
       "31742     0.0  \n",
       "32175     0.0  \n",
       "32367     0.0  \n",
       "34342     0.0  \n",
       "36436     0.0  \n",
       "36583     0.0  \n",
       "36618     0.0  \n",
       "37641     0.0  \n",
       "...       ...  \n",
       "58375     0.0  \n",
       "60255     0.0  \n",
       "61366     0.0  \n",
       "64221     0.0  \n",
       "66953     0.0  \n",
       "67352     0.0  \n",
       "67356     0.0  \n",
       "70609     0.0  \n",
       "71642     0.0  \n",
       "73401     0.0  \n",
       "73638     0.0  \n",
       "76539     0.0  \n",
       "76621     0.0  \n",
       "76691     0.0  \n",
       "77606     0.0  \n",
       "78570     0.0  \n",
       "83212     0.0  \n",
       "84236     0.0  \n",
       "87478     0.0  \n",
       "87843     0.0  \n",
       "88861     0.0  \n",
       "91457     0.0  \n",
       "92105     0.0  \n",
       "92909     0.0  \n",
       "93288     0.0  \n",
       "93644     0.0  \n",
       "94167     0.0  \n",
       "96447     0.0  \n",
       "97418     0.0  \n",
       "99805     0.0  \n",
       "\n",
       "[71 rows x 20 columns]"
      ]
     },
     "execution_count": 49,
     "metadata": {},
     "output_type": "execute_result"
    }
   ],
   "source": [
    "#checking data where tmdbId is 0\n",
    "all_data.loc[all_data.tmdbId ==0]"
   ]
  },
  {
   "cell_type": "code",
   "execution_count": 81,
   "metadata": {
    "collapsed": true
   },
   "outputs": [],
   "source": [
    "#splitting the data into test and train 80/20\n",
    "train_data, test_data  = train_test_split(all_data , test_size=0.2, random_state=42)"
   ]
  },
  {
   "cell_type": "code",
   "execution_count": 88,
   "metadata": {},
   "outputs": [
    {
     "name": "stdout",
     "output_type": "stream",
     "text": [
      "shape of train dataset = (80003, 20)\n"
     ]
    }
   ],
   "source": [
    "#shape of train data\n",
    "train_shape = train_data.shape\n",
    "print(\"shape of train dataset = {}\".format(train_shape))"
   ]
  },
  {
   "cell_type": "code",
   "execution_count": 92,
   "metadata": {},
   "outputs": [
    {
     "name": "stdout",
     "output_type": "stream",
     "text": [
      "No of unique users who have rated a movie = 671 \n",
      "No of unique movies that have been rated = 8399 \n",
      "No of unique values of ratings = 10 \n"
     ]
    }
   ],
   "source": [
    "#No of unique values in train data\n",
    "m = train_data.nunique()\n",
    "uni_user = m[0]\n",
    "uni_movies = m[1]\n",
    "uni_ratings = m[2]\n",
    "print(\"No of unique users who have rated a movie = {} \".format(uni_user))\n",
    "print(\"No of unique movies that have been rated = {} \".format(uni_movies))\n",
    "print(\"No of unique values of ratings = {} \".format(uni_ratings))"
   ]
  },
  {
   "cell_type": "code",
   "execution_count": 93,
   "metadata": {},
   "outputs": [
    {
     "name": "stdout",
     "output_type": "stream",
     "text": [
      "shape of train dataset = (20001, 20)\n"
     ]
    }
   ],
   "source": [
    "#shape of test dataset\n",
    "test_shape = test_data.shape\n",
    "print(\"shape of train dataset = {}\".format(test_shape))"
   ]
  },
  {
   "cell_type": "code",
   "execution_count": 94,
   "metadata": {},
   "outputs": [
    {
     "name": "stdout",
     "output_type": "stream",
     "text": [
      "No of unique users who have rated a movie = 671 \n",
      "No of unique movies that have been rated = 4901 \n",
      "No of unique values of ratings = 10 \n"
     ]
    }
   ],
   "source": [
    "#No of unique values in test data\n",
    "m = test_data.nunique()\n",
    "uni_user = m[0]\n",
    "uni_movies = m[1]\n",
    "uni_ratings = m[2]\n",
    "print(\"No of unique users who have rated a movie = {} \".format(uni_user))\n",
    "print(\"No of unique movies that have been rated = {} \".format(uni_movies))\n",
    "print(\"No of unique values of ratings = {} \".format(uni_ratings))"
   ]
  },
  {
   "cell_type": "code",
   "execution_count": 95,
   "metadata": {
    "collapsed": true
   },
   "outputs": [],
   "source": [
    "#exporting the test and train dataset to csv \n",
    "train_data.to_csv('train_data.csv')\n",
    "test_data.to_csv('test_data.csv')"
   ]
  },
  {
   "cell_type": "code",
   "execution_count": 96,
   "metadata": {},
   "outputs": [
    {
     "data": {
      "text/html": [
       "<pre>Finished parsing file /Users/ritu/Documents/Personalization/ml-latest-small/train_data.csv</pre>"
      ],
      "text/plain": [
       "Finished parsing file /Users/ritu/Documents/Personalization/ml-latest-small/train_data.csv"
      ]
     },
     "metadata": {},
     "output_type": "display_data"
    },
    {
     "data": {
      "text/html": [
       "<pre>Parsing completed. Parsed 80003 lines in 0.528286 secs.</pre>"
      ],
      "text/plain": [
       "Parsing completed. Parsed 80003 lines in 0.528286 secs."
      ]
     },
     "metadata": {},
     "output_type": "display_data"
    },
    {
     "data": {
      "text/html": [
       "<pre>Finished parsing file /Users/ritu/Documents/Personalization/ml-latest-small/test_data.csv</pre>"
      ],
      "text/plain": [
       "Finished parsing file /Users/ritu/Documents/Personalization/ml-latest-small/test_data.csv"
      ]
     },
     "metadata": {},
     "output_type": "display_data"
    },
    {
     "data": {
      "text/html": [
       "<pre>Parsing completed. Parsed 20001 lines in 0.132428 secs.</pre>"
      ],
      "text/plain": [
       "Parsing completed. Parsed 20001 lines in 0.132428 secs."
      ]
     },
     "metadata": {},
     "output_type": "display_data"
    }
   ],
   "source": [
    "#converting the test and train dataset to Sframe\n",
    "hints = [int,int ,int ,float,str, str, str, str, str, str,str,str,str,str,str,str, str,str,float, int, float]\n",
    "train = graphlab.SFrame.read_csv('train_data.csv',column_type_hints = hints )\n",
    "test = graphlab.SFrame.read_csv('test_data.csv',column_type_hints = hints )"
   ]
  },
  {
   "cell_type": "code",
   "execution_count": 97,
   "metadata": {},
   "outputs": [
    {
     "data": {
      "text/html": [
       "<pre>Recsys training: model = factorization_recommender</pre>"
      ],
      "text/plain": [
       "Recsys training: model = factorization_recommender"
      ]
     },
     "metadata": {},
     "output_type": "display_data"
    },
    {
     "data": {
      "text/html": [
       "<pre>Preparing data set.</pre>"
      ],
      "text/plain": [
       "Preparing data set."
      ]
     },
     "metadata": {},
     "output_type": "display_data"
    },
    {
     "data": {
      "text/html": [
       "<pre>    Data has 80003 observations with 671 users and 8399 items.</pre>"
      ],
      "text/plain": [
       "    Data has 80003 observations with 671 users and 8399 items."
      ]
     },
     "metadata": {},
     "output_type": "display_data"
    },
    {
     "data": {
      "text/html": [
       "<pre>    Data prepared in: 0.944891s</pre>"
      ],
      "text/plain": [
       "    Data prepared in: 0.944891s"
      ]
     },
     "metadata": {},
     "output_type": "display_data"
    },
    {
     "data": {
      "text/html": [
       "<pre>Training factorization_recommender for recommendations.</pre>"
      ],
      "text/plain": [
       "Training factorization_recommender for recommendations."
      ]
     },
     "metadata": {},
     "output_type": "display_data"
    },
    {
     "data": {
      "text/html": [
       "<pre>+--------------------------------+--------------------------------------------------+----------+</pre>"
      ],
      "text/plain": [
       "+--------------------------------+--------------------------------------------------+----------+"
      ]
     },
     "metadata": {},
     "output_type": "display_data"
    },
    {
     "data": {
      "text/html": [
       "<pre>| Parameter                      | Description                                      | Value    |</pre>"
      ],
      "text/plain": [
       "| Parameter                      | Description                                      | Value    |"
      ]
     },
     "metadata": {},
     "output_type": "display_data"
    },
    {
     "data": {
      "text/html": [
       "<pre>+--------------------------------+--------------------------------------------------+----------+</pre>"
      ],
      "text/plain": [
       "+--------------------------------+--------------------------------------------------+----------+"
      ]
     },
     "metadata": {},
     "output_type": "display_data"
    },
    {
     "data": {
      "text/html": [
       "<pre>| num_factors                    | Factor Dimension                                 | 4        |</pre>"
      ],
      "text/plain": [
       "| num_factors                    | Factor Dimension                                 | 4        |"
      ]
     },
     "metadata": {},
     "output_type": "display_data"
    },
    {
     "data": {
      "text/html": [
       "<pre>| regularization                 | L2 Regularization on Factors                     | 1e-08    |</pre>"
      ],
      "text/plain": [
       "| regularization                 | L2 Regularization on Factors                     | 1e-08    |"
      ]
     },
     "metadata": {},
     "output_type": "display_data"
    },
    {
     "data": {
      "text/html": [
       "<pre>| solver                         | Solver used for training                         | adagrad  |</pre>"
      ],
      "text/plain": [
       "| solver                         | Solver used for training                         | adagrad  |"
      ]
     },
     "metadata": {},
     "output_type": "display_data"
    },
    {
     "data": {
      "text/html": [
       "<pre>| linear_regularization          | L2 Regularization on Linear Coefficients         | 1e-10    |</pre>"
      ],
      "text/plain": [
       "| linear_regularization          | L2 Regularization on Linear Coefficients         | 1e-10    |"
      ]
     },
     "metadata": {},
     "output_type": "display_data"
    },
    {
     "data": {
      "text/html": [
       "<pre>| max_iterations                 | Maximum Number of Iterations                     | 50       |</pre>"
      ],
      "text/plain": [
       "| max_iterations                 | Maximum Number of Iterations                     | 50       |"
      ]
     },
     "metadata": {},
     "output_type": "display_data"
    },
    {
     "data": {
      "text/html": [
       "<pre>+--------------------------------+--------------------------------------------------+----------+</pre>"
      ],
      "text/plain": [
       "+--------------------------------+--------------------------------------------------+----------+"
      ]
     },
     "metadata": {},
     "output_type": "display_data"
    },
    {
     "data": {
      "text/html": [
       "<pre>  Optimizing model using SGD; tuning step size.</pre>"
      ],
      "text/plain": [
       "  Optimizing model using SGD; tuning step size."
      ]
     },
     "metadata": {},
     "output_type": "display_data"
    },
    {
     "data": {
      "text/html": [
       "<pre>  Using 10000 / 80003 points for tuning the step size.</pre>"
      ],
      "text/plain": [
       "  Using 10000 / 80003 points for tuning the step size."
      ]
     },
     "metadata": {},
     "output_type": "display_data"
    },
    {
     "data": {
      "text/html": [
       "<pre>+---------+-------------------+------------------------------------------+</pre>"
      ],
      "text/plain": [
       "+---------+-------------------+------------------------------------------+"
      ]
     },
     "metadata": {},
     "output_type": "display_data"
    },
    {
     "data": {
      "text/html": [
       "<pre>| Attempt | Initial Step Size | Estimated Objective Value                |</pre>"
      ],
      "text/plain": [
       "| Attempt | Initial Step Size | Estimated Objective Value                |"
      ]
     },
     "metadata": {},
     "output_type": "display_data"
    },
    {
     "data": {
      "text/html": [
       "<pre>+---------+-------------------+------------------------------------------+</pre>"
      ],
      "text/plain": [
       "+---------+-------------------+------------------------------------------+"
      ]
     },
     "metadata": {},
     "output_type": "display_data"
    },
    {
     "data": {
      "text/html": [
       "<pre>| 0       | 2.5               | Not Viable                               |</pre>"
      ],
      "text/plain": [
       "| 0       | 2.5               | Not Viable                               |"
      ]
     },
     "metadata": {},
     "output_type": "display_data"
    },
    {
     "data": {
      "text/html": [
       "<pre>| 1       | 0.625             | Not Viable                               |</pre>"
      ],
      "text/plain": [
       "| 1       | 0.625             | Not Viable                               |"
      ]
     },
     "metadata": {},
     "output_type": "display_data"
    },
    {
     "data": {
      "text/html": [
       "<pre>| 2       | 0.15625           | 0.189862                                 |</pre>"
      ],
      "text/plain": [
       "| 2       | 0.15625           | 0.189862                                 |"
      ]
     },
     "metadata": {},
     "output_type": "display_data"
    },
    {
     "data": {
      "text/html": [
       "<pre>| 3       | 0.078125          | 0.282592                                 |</pre>"
      ],
      "text/plain": [
       "| 3       | 0.078125          | 0.282592                                 |"
      ]
     },
     "metadata": {},
     "output_type": "display_data"
    },
    {
     "data": {
      "text/html": [
       "<pre>| 4       | 0.0390625         | 0.35087                                  |</pre>"
      ],
      "text/plain": [
       "| 4       | 0.0390625         | 0.35087                                  |"
      ]
     },
     "metadata": {},
     "output_type": "display_data"
    },
    {
     "data": {
      "text/html": [
       "<pre>| 5       | 0.0195312         | 0.422753                                 |</pre>"
      ],
      "text/plain": [
       "| 5       | 0.0195312         | 0.422753                                 |"
      ]
     },
     "metadata": {},
     "output_type": "display_data"
    },
    {
     "data": {
      "text/html": [
       "<pre>+---------+-------------------+------------------------------------------+</pre>"
      ],
      "text/plain": [
       "+---------+-------------------+------------------------------------------+"
      ]
     },
     "metadata": {},
     "output_type": "display_data"
    },
    {
     "data": {
      "text/html": [
       "<pre>| Final   | 0.15625           | 0.189862                                 |</pre>"
      ],
      "text/plain": [
       "| Final   | 0.15625           | 0.189862                                 |"
      ]
     },
     "metadata": {},
     "output_type": "display_data"
    },
    {
     "data": {
      "text/html": [
       "<pre>+---------+-------------------+------------------------------------------+</pre>"
      ],
      "text/plain": [
       "+---------+-------------------+------------------------------------------+"
      ]
     },
     "metadata": {},
     "output_type": "display_data"
    },
    {
     "data": {
      "text/html": [
       "<pre>Starting Optimization.</pre>"
      ],
      "text/plain": [
       "Starting Optimization."
      ]
     },
     "metadata": {},
     "output_type": "display_data"
    },
    {
     "data": {
      "text/html": [
       "<pre>+---------+--------------+-------------------+-----------------------+-------------+</pre>"
      ],
      "text/plain": [
       "+---------+--------------+-------------------+-----------------------+-------------+"
      ]
     },
     "metadata": {},
     "output_type": "display_data"
    },
    {
     "data": {
      "text/html": [
       "<pre>| Iter.   | Elapsed Time | Approx. Objective | Approx. Training RMSE | Step Size   |</pre>"
      ],
      "text/plain": [
       "| Iter.   | Elapsed Time | Approx. Objective | Approx. Training RMSE | Step Size   |"
      ]
     },
     "metadata": {},
     "output_type": "display_data"
    },
    {
     "data": {
      "text/html": [
       "<pre>+---------+--------------+-------------------+-----------------------+-------------+</pre>"
      ],
      "text/plain": [
       "+---------+--------------+-------------------+-----------------------+-------------+"
      ]
     },
     "metadata": {},
     "output_type": "display_data"
    },
    {
     "data": {
      "text/html": [
       "<pre>| Initial | 92us         | 1.11845           | 1.05757               |             |</pre>"
      ],
      "text/plain": [
       "| Initial | 92us         | 1.11845           | 1.05757               |             |"
      ]
     },
     "metadata": {},
     "output_type": "display_data"
    },
    {
     "data": {
      "text/html": [
       "<pre>+---------+--------------+-------------------+-----------------------+-------------+</pre>"
      ],
      "text/plain": [
       "+---------+--------------+-------------------+-----------------------+-------------+"
      ]
     },
     "metadata": {},
     "output_type": "display_data"
    },
    {
     "data": {
      "text/html": [
       "<pre>| 1       | 220.36ms     | 1.06886           | 1.0338                | 0.15625     |</pre>"
      ],
      "text/plain": [
       "| 1       | 220.36ms     | 1.06886           | 1.0338                | 0.15625     |"
      ]
     },
     "metadata": {},
     "output_type": "display_data"
    },
    {
     "data": {
      "text/html": [
       "<pre>| 2       | 395.729ms    | 0.783708          | 0.885218              | 0.15625     |</pre>"
      ],
      "text/plain": [
       "| 2       | 395.729ms    | 0.783708          | 0.885218              | 0.15625     |"
      ]
     },
     "metadata": {},
     "output_type": "display_data"
    },
    {
     "data": {
      "text/html": [
       "<pre>| 3       | 575.846ms    | 0.493903          | 0.702716              | 0.15625     |</pre>"
      ],
      "text/plain": [
       "| 3       | 575.846ms    | 0.493903          | 0.702716              | 0.15625     |"
      ]
     },
     "metadata": {},
     "output_type": "display_data"
    },
    {
     "data": {
      "text/html": [
       "<pre>| 4       | 801.764ms    | 0.395665          | 0.628947              | 0.15625     |</pre>"
      ],
      "text/plain": [
       "| 4       | 801.764ms    | 0.395665          | 0.628947              | 0.15625     |"
      ]
     },
     "metadata": {},
     "output_type": "display_data"
    },
    {
     "data": {
      "text/html": [
       "<pre>| 5       | 991.992ms    | 0.367868          | 0.606446              | 0.15625     |</pre>"
      ],
      "text/plain": [
       "| 5       | 991.992ms    | 0.367868          | 0.606446              | 0.15625     |"
      ]
     },
     "metadata": {},
     "output_type": "display_data"
    },
    {
     "data": {
      "text/html": [
       "<pre>| 6       | 1.16s        | 0.347214          | 0.589171              | 0.15625     |</pre>"
      ],
      "text/plain": [
       "| 6       | 1.16s        | 0.347214          | 0.589171              | 0.15625     |"
      ]
     },
     "metadata": {},
     "output_type": "display_data"
    },
    {
     "data": {
      "text/html": [
       "<pre>| 10      | 1.69s        | 0.309132          | 0.555913              | 0.15625     |</pre>"
      ],
      "text/plain": [
       "| 10      | 1.69s        | 0.309132          | 0.555913              | 0.15625     |"
      ]
     },
     "metadata": {},
     "output_type": "display_data"
    },
    {
     "data": {
      "text/html": [
       "<pre>| 11      | 1.85s        | 0.302716          | 0.550111              | 0.15625     |</pre>"
      ],
      "text/plain": [
       "| 11      | 1.85s        | 0.302716          | 0.550111              | 0.15625     |"
      ]
     },
     "metadata": {},
     "output_type": "display_data"
    },
    {
     "data": {
      "text/html": [
       "<pre>| 20      | 2.98s        | 0.255399          | 0.505276              | 0.15625     |</pre>"
      ],
      "text/plain": [
       "| 20      | 2.98s        | 0.255399          | 0.505276              | 0.15625     |"
      ]
     },
     "metadata": {},
     "output_type": "display_data"
    },
    {
     "data": {
      "text/html": [
       "<pre>| 30      | 4.25s        | 0.218931          | 0.467795              | 0.15625     |</pre>"
      ],
      "text/plain": [
       "| 30      | 4.25s        | 0.218931          | 0.467795              | 0.15625     |"
      ]
     },
     "metadata": {},
     "output_type": "display_data"
    },
    {
     "data": {
      "text/html": [
       "<pre>| 40      | 5.59s        | 0.187363          | 0.432737              | 0.15625     |</pre>"
      ],
      "text/plain": [
       "| 40      | 5.59s        | 0.187363          | 0.432737              | 0.15625     |"
      ]
     },
     "metadata": {},
     "output_type": "display_data"
    },
    {
     "data": {
      "text/html": [
       "<pre>| 50      | 7.16s        | 0.162016          | 0.402382              | 0.15625     |</pre>"
      ],
      "text/plain": [
       "| 50      | 7.16s        | 0.162016          | 0.402382              | 0.15625     |"
      ]
     },
     "metadata": {},
     "output_type": "display_data"
    },
    {
     "data": {
      "text/html": [
       "<pre>+---------+--------------+-------------------+-----------------------+-------------+</pre>"
      ],
      "text/plain": [
       "+---------+--------------+-------------------+-----------------------+-------------+"
      ]
     },
     "metadata": {},
     "output_type": "display_data"
    },
    {
     "data": {
      "text/html": [
       "<pre>Optimization Complete: Maximum number of passes through the data reached.</pre>"
      ],
      "text/plain": [
       "Optimization Complete: Maximum number of passes through the data reached."
      ]
     },
     "metadata": {},
     "output_type": "display_data"
    },
    {
     "data": {
      "text/html": [
       "<pre>Computing final objective value and training RMSE.</pre>"
      ],
      "text/plain": [
       "Computing final objective value and training RMSE."
      ]
     },
     "metadata": {},
     "output_type": "display_data"
    },
    {
     "data": {
      "text/html": [
       "<pre>       Final objective value: 0.158501</pre>"
      ],
      "text/plain": [
       "       Final objective value: 0.158501"
      ]
     },
     "metadata": {},
     "output_type": "display_data"
    },
    {
     "data": {
      "text/html": [
       "<pre>       Final training RMSE: 0.397991</pre>"
      ],
      "text/plain": [
       "       Final training RMSE: 0.397991"
      ]
     },
     "metadata": {},
     "output_type": "display_data"
    }
   ],
   "source": [
    "#building a factorization_recommender model using the graphLab package with 4 latent factors\n",
    "m = graphlab.factorization_recommender.create(train, target='rating', user_id='userId', item_id='movieId', num_factors=4)"
   ]
  },
  {
   "cell_type": "code",
   "execution_count": 57,
   "metadata": {},
   "outputs": [
    {
     "name": "stdout",
     "output_type": "stream",
     "text": [
      "PROGRESS: Evaluate model M0\n",
      "\n",
      "Precision and recall summary statistics by cutoff\n",
      "+--------+-----------------+------------------+\n",
      "| cutoff |  mean_precision |   mean_recall    |\n",
      "+--------+-----------------+------------------+\n",
      "|   1    | 0.0655737704918 | 0.00332210249596 |\n",
      "|   2    | 0.0365126676602 | 0.00354726333367 |\n",
      "|   3    |  0.030303030303 | 0.00397718737926 |\n",
      "|   4    | 0.0249627421759 | 0.00409180098365 |\n",
      "|   5    | 0.0223546944858 | 0.00455557016286 |\n",
      "|   6    | 0.0193740685544 | 0.00467890371489 |\n",
      "|   7    | 0.0170321481797 | 0.00471541813175 |\n",
      "|   8    | 0.0154619970194 | 0.0048317690086  |\n",
      "|   9    | 0.0137439973506 | 0.0048317690086  |\n",
      "|   10   | 0.0131147540984 | 0.00545391815788 |\n",
      "+--------+-----------------+------------------+\n",
      "[10 rows x 3 columns]\n",
      "\n",
      "Model compare metric: precision_recall\n"
     ]
    }
   ],
   "source": [
    " model_comp = graphlab.compare(test, [m])"
   ]
  },
  {
   "cell_type": "code",
   "execution_count": null,
   "metadata": {
    "collapsed": true
   },
   "outputs": [],
   "source": []
  }
 ],
 "metadata": {
  "kernelspec": {
   "display_name": "Python 2",
   "language": "python",
   "name": "python2"
  },
  "language_info": {
   "codemirror_mode": {
    "name": "ipython",
    "version": 2
   },
   "file_extension": ".py",
   "mimetype": "text/x-python",
   "name": "python",
   "nbconvert_exporter": "python",
   "pygments_lexer": "ipython2",
   "version": "2.7.14"
  }
 },
 "nbformat": 4,
 "nbformat_minor": 2
}
